{
 "cells": [
  {
   "cell_type": "code",
   "execution_count": 1,
   "id": "2bb00bc3-0fbf-47f8-b152-2deb9de1ec2a",
   "metadata": {
    "tags": []
   },
   "outputs": [],
   "source": [
    "import json, os, sys\n",
    "\n",
    "from datetime import datetime\n",
    "from pathlib import Path\n",
    "\n",
    "import matplotlib.pyplot as plt\n",
    "import matplotlib.ticker as ticker\n",
    "import numpy as np\n",
    "import pandas as pd\n",
    "import seaborn as sns\n",
    "\n",
    "project_dir = os.path.abspath(\"..\")\n",
    "if project_dir not in sys.path:\n",
    "    sys.path.insert(0, project_dir)\n",
    "    \n",
    "import utils\n",
    "import result_helper\n",
    "\n",
    "\n",
    "sns.set(style=\"whitegrid\")"
   ]
  },
  {
   "cell_type": "code",
   "execution_count": 2,
   "id": "ef138b1d-0813-49e2-9f9e-293f57f67120",
   "metadata": {
    "jupyter": {
     "source_hidden": true
    },
    "tags": []
   },
   "outputs": [],
   "source": [
    "skadi_job_paths = list(Path(\"../data/experiments-skadi/rwe/\").glob(\"noisy_10*/**/job-info.json\"))\n",
    "odin_job_paths = list(Path(\"../data/experiments-odin/rwe\").glob(\"noisy_10*/**/job-info.json\"))\n",
    "\n",
    "job_paths = skadi_job_paths + odin_job_paths\n",
    "\n",
    "df_data = result_helper.get_result_summary(job_paths)\n",
    "\n",
    "cols_irrelavant = [\n",
    "    \"started_at\", \"completed_at\", \"precision_score\", \"recall_score\", \"f1_score\", \"random_seed\",\n",
    "    'experiment_type', 'experiment_name', 'component_size', 'variance', 'label_noise_proba',\n",
    "    'allow_self_loops', 'distance_metric', 'job_path', 'duration_secs'\n",
    "]\n",
    "cols_relevant = list(set(df_data.columns) - set(cols_irrelavant))"
   ]
  },
  {
   "cell_type": "markdown",
   "id": "430a0a82-6eea-4853-ab02-d5e79c9aa4a4",
   "metadata": {
    "tags": []
   },
   "source": [
    "## Introduction"
   ]
  },
  {
   "cell_type": "markdown",
   "id": "6c7fe607-db0f-4f4f-9c07-613b695faaeb",
   "metadata": {},
   "source": [
    "### Purpose of the experiments"
   ]
  },
  {
   "cell_type": "markdown",
   "id": "009b7130-76f0-409a-b6d5-7b485088cdbd",
   "metadata": {
    "tags": []
   },
   "source": [
    "- Determine how to parameterize the data generator and the algorithm when the labels are noisy\n",
    "\n"
   ]
  },
  {
   "cell_type": "markdown",
   "id": "c0dfab08-6ba3-4834-ae1d-5f6a8dd36360",
   "metadata": {},
   "source": [
    "### Default parameters in all experiments"
   ]
  },
  {
   "cell_type": "markdown",
   "id": "1815ab11-a2c8-400c-a4e2-7bebe40fe85c",
   "metadata": {},
   "source": [
    "- Number of Gaussian components $k$ is the same as the number of dimensions $d$\n",
    "- Number of points in each Gaussian component: 50\n",
    "- Variance in each component: 1\n",
    "- Label noise: 0.1\n",
    "- No self-loops\n"
   ]
  },
  {
   "cell_type": "markdown",
   "id": "805cf105-d3fb-47a1-a977-00aacdc109dc",
   "metadata": {
    "tags": []
   },
   "source": [
    "## Impact of fixed separation on noisy labels"
   ]
  },
  {
   "cell_type": "markdown",
   "id": "8d9e9046-ec66-4405-ac9a-d5ac159eb1d0",
   "metadata": {},
   "source": [
    "Experiment parameters:\n",
    "- $\\beta = 1$\n",
    "- Number of random walk steps: 10"
   ]
  },
  {
   "cell_type": "code",
   "execution_count": 3,
   "id": "d8a5e950-ae8e-4524-bc43-7fc35e4fc5ca",
   "metadata": {
    "jupyter": {
     "source_hidden": true
    },
    "tags": []
   },
   "outputs": [
    {
     "data": {
      "text/html": [
       "<div>\n",
       "<style scoped>\n",
       "    .dataframe tbody tr th:only-of-type {\n",
       "        vertical-align: middle;\n",
       "    }\n",
       "\n",
       "    .dataframe tbody tr th {\n",
       "        vertical-align: top;\n",
       "    }\n",
       "\n",
       "    .dataframe thead tr th {\n",
       "        text-align: left;\n",
       "    }\n",
       "\n",
       "    .dataframe thead tr:last-of-type th {\n",
       "        text-align: right;\n",
       "    }\n",
       "</style>\n",
       "<table border=\"1\" class=\"dataframe\">\n",
       "  <thead>\n",
       "    <tr>\n",
       "      <th></th>\n",
       "      <th colspan=\"5\" halign=\"left\">accuracy_score</th>\n",
       "    </tr>\n",
       "    <tr>\n",
       "      <th>n_dim</th>\n",
       "      <th>10</th>\n",
       "      <th>50</th>\n",
       "      <th>100</th>\n",
       "      <th>150</th>\n",
       "      <th>200</th>\n",
       "    </tr>\n",
       "    <tr>\n",
       "      <th>min_distance</th>\n",
       "      <th></th>\n",
       "      <th></th>\n",
       "      <th></th>\n",
       "      <th></th>\n",
       "      <th></th>\n",
       "    </tr>\n",
       "  </thead>\n",
       "  <tbody>\n",
       "    <tr>\n",
       "      <th>1.0</th>\n",
       "      <td>0.217314</td>\n",
       "      <td>0.066410</td>\n",
       "      <td>0.050033</td>\n",
       "      <td>0.038164</td>\n",
       "      <td>0.039136</td>\n",
       "    </tr>\n",
       "    <tr>\n",
       "      <th>3.0</th>\n",
       "      <td>0.502530</td>\n",
       "      <td>0.097538</td>\n",
       "      <td>0.060872</td>\n",
       "      <td>0.047264</td>\n",
       "      <td>0.042574</td>\n",
       "    </tr>\n",
       "    <tr>\n",
       "      <th>5.0</th>\n",
       "      <td>0.992000</td>\n",
       "      <td>0.432000</td>\n",
       "      <td>0.127991</td>\n",
       "      <td>0.064687</td>\n",
       "      <td>0.045393</td>\n",
       "    </tr>\n",
       "    <tr>\n",
       "      <th>7.0</th>\n",
       "      <td>1.000000</td>\n",
       "      <td>0.938400</td>\n",
       "      <td>0.655486</td>\n",
       "      <td>0.185537</td>\n",
       "      <td>0.065582</td>\n",
       "    </tr>\n",
       "    <tr>\n",
       "      <th>10.0</th>\n",
       "      <td>1.000000</td>\n",
       "      <td>0.998400</td>\n",
       "      <td>0.979600</td>\n",
       "      <td>0.971333</td>\n",
       "      <td>0.646101</td>\n",
       "    </tr>\n",
       "  </tbody>\n",
       "</table>\n",
       "</div>"
      ],
      "text/plain": [
       "             accuracy_score                                        \n",
       "n_dim                   10        50        100       150       200\n",
       "min_distance                                                       \n",
       "1.0                0.217314  0.066410  0.050033  0.038164  0.039136\n",
       "3.0                0.502530  0.097538  0.060872  0.047264  0.042574\n",
       "5.0                0.992000  0.432000  0.127991  0.064687  0.045393\n",
       "7.0                1.000000  0.938400  0.655486  0.185537  0.065582\n",
       "10.0               1.000000  0.998400  0.979600  0.971333  0.646101"
      ]
     },
     "execution_count": 3,
     "metadata": {},
     "output_type": "execute_result"
    }
   ],
   "source": [
    "f_noisy_10_fixed_dist_01 = df_data.experiment_name == \"noisy_10_fixed_dist_01\"\n",
    "df_ff = df_data[(f_noisy_10_fixed_dist_01)].copy()\n",
    "df_ff.pivot(index=[\"min_distance\"], columns=[\"n_dim\"], values=[\"accuracy_score\"])"
   ]
  },
  {
   "cell_type": "code",
   "execution_count": 4,
   "id": "bee2d16b-0437-4b7a-b4a9-a37f47ad8d7e",
   "metadata": {
    "jupyter": {
     "source_hidden": true
    },
    "tags": []
   },
   "outputs": [
    {
     "data": {
      "image/png": "[encoded data removed]",
      "text/plain": [
       "<Figure size 1080x432 with 1 Axes>"
      ]
     },
     "metadata": {},
     "output_type": "display_data"
    }
   ],
   "source": [
    "df_data_filtered = df_data[f_noisy_10_fixed_dist_01].copy()\n",
    "df_data_filtered = df_data_filtered.sort_values([\"min_distance\", \"n_dim\", \"bias_factor\", \"n_steps\"])\n",
    "\n",
    "with sns.plotting_context(\"notebook\", font_scale=1.4):\n",
    "    fig, ax = plt.subplots(figsize=(15, 6))\n",
    "    sns.barplot(\n",
    "        x=\"n_dim\",y=\"accuracy_score\",hue=\"min_distance\",\n",
    "        data=df_data_filtered,palette=\"Blues\", ax=ax\n",
    "    )\n",
    "    ax.yaxis.grid(True)\n",
    "    ax.yaxis.set_minor_locator(ticker.LinearLocator(numticks=10))\n",
    "    ax.tick_params(which=\"both\", bottom=True)\n",
    "    ax.set_ylabel(\"Accuracy\")\n",
    "    ax.set_xlabel(\"Number of dimensions/components $d=k$\")\n",
    "    ax.set_title(f\"Impact of a fixed separation on noisy labels\");\n",
    "    # ax.set_ylim([0, 1])"
   ]
  },
  {
   "cell_type": "markdown",
   "id": "69e06f96-395f-4d5e-9f06-428a838ce059",
   "metadata": {},
   "source": [
    "## Impact of separation $k^{\\frac{1}{4}}$"
   ]
  },
  {
   "cell_type": "markdown",
   "id": "2b951b56-d883-4bcf-9007-a74e6e9c7e33",
   "metadata": {},
   "source": [
    "Experiment parameters:\n",
    "- Separation: $k^{1/4}\\cdot c$ where $c \\in \\{ 3, 4, 5, 6 \\}$\n",
    "- $\\beta = 1$\n",
    "- Number of random walk steps: 10"
   ]
  },
  {
   "cell_type": "code",
   "execution_count": 5,
   "id": "7093f25d-0176-4715-a93a-09813763e2b2",
   "metadata": {
    "jupyter": {
     "source_hidden": true
    },
    "tags": []
   },
   "outputs": [
    {
     "data": {
      "text/html": [
       "<div>\n",
       "<style scoped>\n",
       "    .dataframe tbody tr th:only-of-type {\n",
       "        vertical-align: middle;\n",
       "    }\n",
       "\n",
       "    .dataframe tbody tr th {\n",
       "        vertical-align: top;\n",
       "    }\n",
       "\n",
       "    .dataframe thead tr th {\n",
       "        text-align: left;\n",
       "    }\n",
       "\n",
       "    .dataframe thead tr:last-of-type th {\n",
       "        text-align: right;\n",
       "    }\n",
       "</style>\n",
       "<table border=\"1\" class=\"dataframe\">\n",
       "  <thead>\n",
       "    <tr>\n",
       "      <th></th>\n",
       "      <th colspan=\"5\" halign=\"left\">accuracy_score</th>\n",
       "    </tr>\n",
       "    <tr>\n",
       "      <th>n_dim</th>\n",
       "      <th>10</th>\n",
       "      <th>50</th>\n",
       "      <th>100</th>\n",
       "      <th>150</th>\n",
       "      <th>200</th>\n",
       "    </tr>\n",
       "    <tr>\n",
       "      <th>c</th>\n",
       "      <th></th>\n",
       "      <th></th>\n",
       "      <th></th>\n",
       "      <th></th>\n",
       "      <th></th>\n",
       "    </tr>\n",
       "  </thead>\n",
       "  <tbody>\n",
       "    <tr>\n",
       "      <th>3</th>\n",
       "      <td>1.0</td>\n",
       "      <td>0.9740</td>\n",
       "      <td>0.9892</td>\n",
       "      <td>0.972267</td>\n",
       "      <td>0.941600</td>\n",
       "    </tr>\n",
       "    <tr>\n",
       "      <th>4</th>\n",
       "      <td>1.0</td>\n",
       "      <td>0.9996</td>\n",
       "      <td>0.9786</td>\n",
       "      <td>0.986667</td>\n",
       "      <td>0.990000</td>\n",
       "    </tr>\n",
       "    <tr>\n",
       "      <th>5</th>\n",
       "      <td>1.0</td>\n",
       "      <td>1.0000</td>\n",
       "      <td>1.0000</td>\n",
       "      <td>0.993333</td>\n",
       "      <td>0.995000</td>\n",
       "    </tr>\n",
       "    <tr>\n",
       "      <th>6</th>\n",
       "      <td>1.0</td>\n",
       "      <td>1.0000</td>\n",
       "      <td>1.0000</td>\n",
       "      <td>1.000000</td>\n",
       "      <td>0.990099</td>\n",
       "    </tr>\n",
       "  </tbody>\n",
       "</table>\n",
       "</div>"
      ],
      "text/plain": [
       "      accuracy_score                                    \n",
       "n_dim            10      50      100       150       200\n",
       "c                                                       \n",
       "3                1.0  0.9740  0.9892  0.972267  0.941600\n",
       "4                1.0  0.9996  0.9786  0.986667  0.990000\n",
       "5                1.0  1.0000  1.0000  0.993333  0.995000\n",
       "6                1.0  1.0000  1.0000  1.000000  0.990099"
      ]
     },
     "execution_count": 5,
     "metadata": {},
     "output_type": "execute_result"
    }
   ],
   "source": [
    "f_noisy_10_fixed_dist_02 = df_data.experiment_name == \"noisy_10_fixed_dist_02\"\n",
    "df_ff = df_data[(f_noisy_10_fixed_dist_02)].copy()\n",
    "df_ff[\"c\"] = df_ff.groupby(\"n_dim\")[[\"min_distance\"]].rank(\"dense\").astype(int) + 2\n",
    "df_ff.pivot(index=[\"c\"], columns=[\"n_dim\"], values=[\"accuracy_score\"])"
   ]
  },
  {
   "cell_type": "code",
   "execution_count": 6,
   "id": "4d15fa9a-c3c3-468f-9336-29de9830675b",
   "metadata": {
    "jupyter": {
     "source_hidden": true
    },
    "tags": []
   },
   "outputs": [
    {
     "data": {
      "image/png": "[encoded data removed]",
      "text/plain": [
       "<Figure size 1296x432 with 5 Axes>"
      ]
     },
     "metadata": {},
     "output_type": "display_data"
    }
   ],
   "source": [
    "with sns.plotting_context(\"notebook\", font_scale=1.4):\n",
    "    fig, axes = plt.subplots(ncols=5, figsize=(18, 6))\n",
    "    for i, n_dim in enumerate([10, 50, 100, 150, 200]):\n",
    "        \n",
    "        filter_dim = df_data.n_dim == n_dim\n",
    "        df_data_filtered = df_data[(f_noisy_10_fixed_dist_02) & filter_dim].copy()\n",
    "        df_data_filtered = df_data_filtered.sort_values([\"min_distance\", \"n_dim\", \"bias_factor\", \"n_steps\"])\n",
    "        df_data_filtered[\"min_distance\"] = df_data_filtered[\"min_distance\"].round(3)\n",
    "        \n",
    "        if df_data_filtered.shape[0] == 0:\n",
    "            print(f\"No data for d={n_dim}\")\n",
    "            continue\n",
    "        \n",
    "        sns.barplot(\n",
    "            x=\"n_dim\",y=\"accuracy_score\", hue=\"min_distance\",\n",
    "            data=df_data_filtered,palette=\"Blues\", ax=axes[i]\n",
    "        )\n",
    "        #ax.legend(title='Bias factor: $\\\\beta$', loc='upper left', labels=['1/4', '1/8', '1/16', '1/32'])\n",
    "        axes[i].yaxis.grid(True)\n",
    "        axes[i].yaxis.set_minor_locator(ticker.LinearLocator(numticks=10))\n",
    "        axes[i].tick_params(which=\"both\", bottom=True)\n",
    "        axes[i].set_ylabel(\"\")\n",
    "        axes[i].set_xlabel(\"\")\n",
    "        axes[i].set_xlabel(\"\")\n",
    "        axes[i].legend(loc='lower center')\n",
    "        axes[i].set_title(f\"\");\n",
    "\n",
    "        # ax.set_ylim([0, 1])"
   ]
  },
  {
   "cell_type": "markdown",
   "id": "d8ee8b13-e036-493b-876e-d2ad1be3ad74",
   "metadata": {},
   "source": [
    "## Impact of separation $k^{\\frac{1}{3}}$"
   ]
  },
  {
   "cell_type": "markdown",
   "id": "358d4878-e2a0-4748-9d02-3dcd24ead773",
   "metadata": {},
   "source": [
    "Experiment parameters:\n",
    "- Separation: $k^{1/3}\\cdot c$ where $c \\in \\{ 3, 4 \\}$\n",
    "- $\\beta = 1$\n",
    "- Number of random walk steps: 10"
   ]
  },
  {
   "cell_type": "code",
   "execution_count": 7,
   "id": "b17478bd-21f7-4502-b13c-6527b633820b",
   "metadata": {
    "jupyter": {
     "source_hidden": true
    },
    "tags": []
   },
   "outputs": [
    {
     "data": {
      "text/html": [
       "<div>\n",
       "<style scoped>\n",
       "    .dataframe tbody tr th:only-of-type {\n",
       "        vertical-align: middle;\n",
       "    }\n",
       "\n",
       "    .dataframe tbody tr th {\n",
       "        vertical-align: top;\n",
       "    }\n",
       "\n",
       "    .dataframe thead tr th {\n",
       "        text-align: left;\n",
       "    }\n",
       "\n",
       "    .dataframe thead tr:last-of-type th {\n",
       "        text-align: right;\n",
       "    }\n",
       "</style>\n",
       "<table border=\"1\" class=\"dataframe\">\n",
       "  <thead>\n",
       "    <tr>\n",
       "      <th></th>\n",
       "      <th colspan=\"4\" halign=\"left\">accuracy_score</th>\n",
       "    </tr>\n",
       "    <tr>\n",
       "      <th>n_dim</th>\n",
       "      <th>10</th>\n",
       "      <th>50</th>\n",
       "      <th>100</th>\n",
       "      <th>150</th>\n",
       "    </tr>\n",
       "    <tr>\n",
       "      <th>c</th>\n",
       "      <th></th>\n",
       "      <th></th>\n",
       "      <th></th>\n",
       "      <th></th>\n",
       "    </tr>\n",
       "  </thead>\n",
       "  <tbody>\n",
       "    <tr>\n",
       "      <th>3</th>\n",
       "      <td>1.0</td>\n",
       "      <td>0.9996</td>\n",
       "      <td>0.9896</td>\n",
       "      <td>0.986667</td>\n",
       "    </tr>\n",
       "    <tr>\n",
       "      <th>4</th>\n",
       "      <td>1.0</td>\n",
       "      <td>1.0000</td>\n",
       "      <td>1.0000</td>\n",
       "      <td>1.000000</td>\n",
       "    </tr>\n",
       "  </tbody>\n",
       "</table>\n",
       "</div>"
      ],
      "text/plain": [
       "      accuracy_score                          \n",
       "n_dim            10      50      100       150\n",
       "c                                             \n",
       "3                1.0  0.9996  0.9896  0.986667\n",
       "4                1.0  1.0000  1.0000  1.000000"
      ]
     },
     "execution_count": 7,
     "metadata": {},
     "output_type": "execute_result"
    }
   ],
   "source": [
    "f_noisy_10_fixed_dist_03 = df_data.experiment_name == \"noisy_10_fixed_dist_03\"\n",
    "df_ff = df_data[(f_noisy_10_fixed_dist_03)].copy()\n",
    "df_ff[\"c\"] = df_ff.groupby(\"n_dim\")[[\"min_distance\"]].rank(\"dense\").astype(int) + 2\n",
    "df_ff.pivot(index=[\"c\"], columns=[\"n_dim\"], values=[\"accuracy_score\"])"
   ]
  },
  {
   "cell_type": "code",
   "execution_count": 8,
   "id": "41090863-710c-4391-a87f-8bd93729b129",
   "metadata": {
    "jupyter": {
     "source_hidden": true
    },
    "tags": []
   },
   "outputs": [
    {
     "name": "stdout",
     "output_type": "stream",
     "text": [
      "No data for d=200\n"
     ]
    },
    {
     "data": {
      "image/png": "[encoded data removed]",
      "text/plain": [
       "<Figure size 1296x432 with 5 Axes>"
      ]
     },
     "metadata": {},
     "output_type": "display_data"
    }
   ],
   "source": [
    "with sns.plotting_context(\"notebook\", font_scale=1.4):\n",
    "    fig, axes = plt.subplots(ncols=5, figsize=(18, 6))\n",
    "    for i, n_dim in enumerate([10, 50, 100, 150, 200]):\n",
    "        filter_dim = df_data.n_dim == n_dim\n",
    "        df_data_filtered = df_data[(f_noisy_10_fixed_dist_03) & filter_dim].copy()\n",
    "        df_data_filtered = df_data_filtered.sort_values([\"min_distance\", \"n_dim\", \"bias_factor\", \"n_steps\"])\n",
    "        df_data_filtered[\"min_distance\"] = df_data_filtered[\"min_distance\"].round(3)\n",
    "        \n",
    "        if df_data_filtered.shape[0] == 0:\n",
    "            print(f\"No data for d={n_dim}\")\n",
    "            continue\n",
    "        \n",
    "        sns.barplot(\n",
    "            x=\"n_dim\",y=\"accuracy_score\", hue=\"min_distance\",\n",
    "            data=df_data_filtered,palette=\"Blues\", ax=axes[i]\n",
    "        )\n",
    "        #ax.legend(title='Bias factor: $\\\\beta$', loc='upper left', labels=['1/4', '1/8', '1/16', '1/32'])\n",
    "        axes[i].yaxis.grid(True)\n",
    "        axes[i].yaxis.set_minor_locator(ticker.LinearLocator(numticks=10))\n",
    "        axes[i].tick_params(which=\"both\", bottom=True)\n",
    "        axes[i].set_ylabel(\"\")\n",
    "        axes[i].set_xlabel(\"\")\n",
    "        axes[i].set_xlabel(\"\")\n",
    "        axes[i].legend(loc='lower center')\n",
    "        axes[i].set_title(f\"\");\n",
    "\n",
    "        #axes[i].set_ylim([0.98, 1.01])"
   ]
  },
  {
   "cell_type": "markdown",
   "id": "2a0493ff-ef1c-46af-9ab3-c8497428784a",
   "metadata": {},
   "source": [
    "## Impact of separation $k^{\\frac{1}{2}}$"
   ]
  },
  {
   "cell_type": "markdown",
   "id": "a7033f0d-c099-40ce-a0af-9385ab3871da",
   "metadata": {},
   "source": [
    "Experiment parameters:\n",
    "- Separation: $k^{1/2}\\cdot c$ where $c \\in \\{ 2, 3 \\}$\n",
    "- $\\beta = 1$\n",
    "- Number of random walk steps: 10"
   ]
  },
  {
   "cell_type": "code",
   "execution_count": 9,
   "id": "f61f03e3-b4f2-49f5-b94c-375847f144b5",
   "metadata": {
    "jupyter": {
     "source_hidden": true
    },
    "tags": []
   },
   "outputs": [
    {
     "data": {
      "text/html": [
       "<div>\n",
       "<style scoped>\n",
       "    .dataframe tbody tr th:only-of-type {\n",
       "        vertical-align: middle;\n",
       "    }\n",
       "\n",
       "    .dataframe tbody tr th {\n",
       "        vertical-align: top;\n",
       "    }\n",
       "\n",
       "    .dataframe thead tr th {\n",
       "        text-align: left;\n",
       "    }\n",
       "\n",
       "    .dataframe thead tr:last-of-type th {\n",
       "        text-align: right;\n",
       "    }\n",
       "</style>\n",
       "<table border=\"1\" class=\"dataframe\">\n",
       "  <thead>\n",
       "    <tr>\n",
       "      <th></th>\n",
       "      <th colspan=\"3\" halign=\"left\">accuracy_score</th>\n",
       "    </tr>\n",
       "    <tr>\n",
       "      <th>n_dim</th>\n",
       "      <th>10</th>\n",
       "      <th>50</th>\n",
       "      <th>100</th>\n",
       "    </tr>\n",
       "    <tr>\n",
       "      <th>c</th>\n",
       "      <th></th>\n",
       "      <th></th>\n",
       "      <th></th>\n",
       "    </tr>\n",
       "  </thead>\n",
       "  <tbody>\n",
       "    <tr>\n",
       "      <th>2</th>\n",
       "      <td>1.0</td>\n",
       "      <td>1.0</td>\n",
       "      <td>1.0</td>\n",
       "    </tr>\n",
       "    <tr>\n",
       "      <th>3</th>\n",
       "      <td>1.0</td>\n",
       "      <td>1.0</td>\n",
       "      <td>1.0</td>\n",
       "    </tr>\n",
       "  </tbody>\n",
       "</table>\n",
       "</div>"
      ],
      "text/plain": [
       "      accuracy_score          \n",
       "n_dim            10   50   100\n",
       "c                             \n",
       "2                1.0  1.0  1.0\n",
       "3                1.0  1.0  1.0"
      ]
     },
     "execution_count": 9,
     "metadata": {},
     "output_type": "execute_result"
    }
   ],
   "source": [
    "f_noisy_10_fixed_dist_04 = df_data.experiment_name == \"noisy_10_fixed_dist_04\"\n",
    "df_ff = df_data[(f_noisy_10_fixed_dist_04)].copy()\n",
    "df_ff[\"c\"] = df_ff.groupby(\"n_dim\")[[\"min_distance\"]].rank(\"dense\").astype(int) + 1\n",
    "df_ff.pivot(index=[\"c\"], columns=[\"n_dim\"], values=[\"accuracy_score\"])"
   ]
  },
  {
   "cell_type": "code",
   "execution_count": 10,
   "id": "62f894d3-779d-4ed9-a734-ab1d09d34dc8",
   "metadata": {
    "jupyter": {
     "source_hidden": true
    },
    "tags": []
   },
   "outputs": [
    {
     "name": "stdout",
     "output_type": "stream",
     "text": [
      "No data for d=200\n"
     ]
    },
    {
     "data": {
      "image/png": "[encoded data removed]",
      "text/plain": [
       "<Figure size 1296x432 with 4 Axes>"
      ]
     },
     "metadata": {},
     "output_type": "display_data"
    }
   ],
   "source": [
    "with sns.plotting_context(\"notebook\", font_scale=1.4):\n",
    "    fig, axes = plt.subplots(ncols=4, figsize=(18, 6))\n",
    "    for i, n_dim in enumerate([10, 50, 100, 200]):\n",
    "        \n",
    "        filter_dim = df_data.n_dim == n_dim\n",
    "        df_data_filtered = df_data[(f_noisy_10_fixed_dist_04) & filter_dim].copy()\n",
    "        df_data_filtered = df_data_filtered.sort_values([\"min_distance\", \"n_dim\", \"bias_factor\", \"n_steps\"])\n",
    "        df_data_filtered[\"min_distance\"] = df_data_filtered[\"min_distance\"].round(3)\n",
    "        \n",
    "        if df_data_filtered.shape[0] == 0:\n",
    "            print(f\"No data for d={n_dim}\")\n",
    "            continue\n",
    "        \n",
    "        sns.barplot(\n",
    "            x=\"n_dim\",y=\"accuracy_score\", hue=\"min_distance\",\n",
    "            data=df_data_filtered,palette=\"Blues\", ax=axes[i]\n",
    "        )\n",
    "        #ax.legend(title='Bias factor: $\\\\beta$', loc='upper left', labels=['1/4', '1/8', '1/16', '1/32'])\n",
    "        axes[i].yaxis.grid(True)\n",
    "        axes[i].yaxis.set_minor_locator(ticker.LinearLocator(numticks=10))\n",
    "        axes[i].tick_params(which=\"both\", bottom=True)\n",
    "        axes[i].set_ylabel(\"\")\n",
    "        axes[i].set_xlabel(\"\")\n",
    "        axes[i].set_xlabel(\"\")\n",
    "        axes[i].legend(loc='lower center')\n",
    "        axes[i].set_title(f\"\");\n",
    "\n",
    "        #axes[i].set_ylim([0.98, 1.01])"
   ]
  },
  {
   "cell_type": "markdown",
   "id": "fc42c288-47b2-49a3-87db-5d869f221a57",
   "metadata": {},
   "source": [
    "Experiment parameters:\n",
    "- Separation: $k^{1/2}\\cdot c$ where $c \\in \\{ 2, 3 \\}$\n",
    "- $\\beta = 1$\n",
    "- Number of random walk steps: 5"
   ]
  },
  {
   "cell_type": "code",
   "execution_count": 11,
   "id": "5107337e-4c83-4e57-8d75-7edcf31cde55",
   "metadata": {
    "jupyter": {
     "source_hidden": true
    },
    "tags": []
   },
   "outputs": [
    {
     "data": {
      "text/html": [
       "<div>\n",
       "<style scoped>\n",
       "    .dataframe tbody tr th:only-of-type {\n",
       "        vertical-align: middle;\n",
       "    }\n",
       "\n",
       "    .dataframe tbody tr th {\n",
       "        vertical-align: top;\n",
       "    }\n",
       "\n",
       "    .dataframe thead tr th {\n",
       "        text-align: left;\n",
       "    }\n",
       "\n",
       "    .dataframe thead tr:last-of-type th {\n",
       "        text-align: right;\n",
       "    }\n",
       "</style>\n",
       "<table border=\"1\" class=\"dataframe\">\n",
       "  <thead>\n",
       "    <tr>\n",
       "      <th></th>\n",
       "      <th colspan=\"3\" halign=\"left\">accuracy_score</th>\n",
       "    </tr>\n",
       "    <tr>\n",
       "      <th>n_dim</th>\n",
       "      <th>10</th>\n",
       "      <th>50</th>\n",
       "      <th>100</th>\n",
       "    </tr>\n",
       "    <tr>\n",
       "      <th>c</th>\n",
       "      <th></th>\n",
       "      <th></th>\n",
       "      <th></th>\n",
       "    </tr>\n",
       "  </thead>\n",
       "  <tbody>\n",
       "    <tr>\n",
       "      <th>2</th>\n",
       "      <td>1.0</td>\n",
       "      <td>1.0</td>\n",
       "      <td>1.0</td>\n",
       "    </tr>\n",
       "    <tr>\n",
       "      <th>3</th>\n",
       "      <td>1.0</td>\n",
       "      <td>1.0</td>\n",
       "      <td>1.0</td>\n",
       "    </tr>\n",
       "  </tbody>\n",
       "</table>\n",
       "</div>"
      ],
      "text/plain": [
       "      accuracy_score          \n",
       "n_dim            10   50   100\n",
       "c                             \n",
       "2                1.0  1.0  1.0\n",
       "3                1.0  1.0  1.0"
      ]
     },
     "execution_count": 11,
     "metadata": {},
     "output_type": "execute_result"
    }
   ],
   "source": [
    "f_noisy_10_fixed_dist_05 = df_data.experiment_name == \"noisy_10_fixed_dist_05\"\n",
    "df_ff = df_data[(f_noisy_10_fixed_dist_05)].copy()\n",
    "df_ff[\"c\"] = df_ff.groupby(\"n_dim\")[[\"min_distance\"]].rank(\"dense\").astype(int) + 1\n",
    "df_ff.pivot(index=[\"c\"], columns=[\"n_dim\"], values=[\"accuracy_score\"])"
   ]
  },
  {
   "cell_type": "code",
   "execution_count": 12,
   "id": "e7f57711-fea7-4b75-acfb-efc6246addae",
   "metadata": {
    "jupyter": {
     "source_hidden": true
    },
    "tags": []
   },
   "outputs": [
    {
     "name": "stdout",
     "output_type": "stream",
     "text": [
      "No data for d=200\n"
     ]
    },
    {
     "data": {
      "image/png": "[encoded data removed]",
      "text/plain": [
       "<Figure size 1296x432 with 4 Axes>"
      ]
     },
     "metadata": {},
     "output_type": "display_data"
    }
   ],
   "source": [
    "with sns.plotting_context(\"notebook\", font_scale=1.4):\n",
    "    fig, axes = plt.subplots(ncols=4, figsize=(18, 6))\n",
    "    for i, n_dim in enumerate([10, 50, 100, 200]):\n",
    "        filter_dim = df_data.n_dim == n_dim\n",
    "        df_data_filtered = df_data[(f_noisy_10_fixed_dist_05) & filter_dim].copy()\n",
    "        df_data_filtered = df_data_filtered.sort_values([\"min_distance\", \"n_dim\", \"bias_factor\", \"n_steps\"])\n",
    "        df_data_filtered[\"min_distance\"] = df_data_filtered[\"min_distance\"].round(3)\n",
    "        \n",
    "        if df_data_filtered.shape[0] == 0:\n",
    "            print(f\"No data for d={n_dim}\")\n",
    "            continue\n",
    "        \n",
    "        sns.barplot(\n",
    "            x=\"n_dim\",y=\"accuracy_score\", hue=\"min_distance\",\n",
    "            data=df_data_filtered,palette=\"Blues\", ax=axes[i]\n",
    "        )\n",
    "        #ax.legend(title='Bias factor: $\\\\beta$', loc='upper left', labels=['1/4', '1/8', '1/16', '1/32'])\n",
    "        axes[i].yaxis.grid(True)\n",
    "        axes[i].yaxis.set_minor_locator(ticker.LinearLocator(numticks=10))\n",
    "        axes[i].tick_params(which=\"both\", bottom=True)\n",
    "        axes[i].set_ylabel(\"\")\n",
    "        axes[i].set_xlabel(\"\")\n",
    "        axes[i].set_xlabel(\"\")\n",
    "        axes[i].legend(loc='lower center')\n",
    "        axes[i].set_title(f\"\");\n",
    "\n",
    "        #axes[i].set_ylim([0.98, 1.01])"
   ]
  },
  {
   "cell_type": "code",
   "execution_count": null,
   "id": "13ecaf85-c775-4039-bfe7-7a69ba134bec",
   "metadata": {},
   "outputs": [],
   "source": []
  }
 ],
 "metadata": {
  "kernelspec": {
   "display_name": "Python 3 (ipykernel)",
   "language": "python",
   "name": "python3"
  },
  "language_info": {
   "codemirror_mode": {
    "name": "ipython",
    "version": 3
   },
   "file_extension": ".py",
   "mimetype": "text/x-python",
   "name": "python",
   "nbconvert_exporter": "python",
   "pygments_lexer": "ipython3",
   "version": "3.8.10"
  }
 },
 "nbformat": 4,
 "nbformat_minor": 5
}
