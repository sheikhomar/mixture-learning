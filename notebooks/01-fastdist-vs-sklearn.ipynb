{
 "cells": [
  {
   "cell_type": "code",
   "execution_count": 1,
   "id": "9ca2e034-12f3-4d01-a1e9-1b1b94dd17d6",
   "metadata": {},
   "outputs": [],
   "source": [
    "import os, sys\n",
    "\n",
    "import numpy as np\n",
    "\n",
    "from fastdist import fastdist\n",
    "from numba import jit\n",
    "from sklearn.metrics import pairwise_distances\n",
    "\n",
    "project_dir = os.path.abspath(\"..\")\n",
    "if project_dir not in sys.path:\n",
    "    sys.path.insert(0, project_dir)\n",
    "    \n",
    "from app.algorithms import random_walk\n",
    "from app.data.datasets import SyntheticDataSet"
   ]
  },
  {
   "cell_type": "code",
   "execution_count": 2,
   "id": "a68d1f87-d710-4a79-a809-351894caca43",
   "metadata": {},
   "outputs": [],
   "source": [
    "@jit(nopython=True, fastmath=True)\n",
    "def squared_euclidean(u, v):\n",
    "    n = len(u)\n",
    "    dist = 0\n",
    "    for i in range(n):\n",
    "        dist += abs(u[i] - v[i]) ** 2\n",
    "    return dist"
   ]
  },
  {
   "cell_type": "code",
   "execution_count": 3,
   "id": "822b371c-43ff-444b-abea-004f9d51766f",
   "metadata": {},
   "outputs": [],
   "source": [
    "data_set = SyntheticDataSet(\n",
    "    n_dim=10,\n",
    "    min_distance=4,\n",
    "    component_size=50,\n",
    "    variance=0.5,\n",
    "    label_noise_proba=0.0,\n",
    ")\n",
    "\n",
    "X = data_set.features.to_numpy()\n",
    "y = data_set.labels.to_numpy()"
   ]
  },
  {
   "cell_type": "code",
   "execution_count": 4,
   "id": "5b093783-d7b8-4771-b424-9011b5879aa1",
   "metadata": {},
   "outputs": [
    {
     "name": "stderr",
     "output_type": "stream",
     "text": [
      "/home/omar/.cache/pypoetry/virtualenvs/mixture-learning-kIchL7cu-py3.8/lib/python3.8/site-packages/fastdist/fastdist.py:977: NumbaPerformanceWarning: np.dot() is faster on contiguous arrays, called on (array(float64, 1d, A), array(float64, 1d, A))\n",
      "  return cosine_pairwise_distance(a, return_matrix)\n"
     ]
    },
    {
     "name": "stdout",
     "output_type": "stream",
     "text": [
      "1.34 ms ± 140 µs per loop (mean ± std. dev. of 7 runs, 1 loop each)\n"
     ]
    }
   ],
   "source": [
    "%%timeit\n",
    "D1 = fastdist.matrix_pairwise_distance(\n",
    "    a=X,\n",
    "    metric=squared_euclidean,\n",
    "    metric_name=\"sqeuclidean\",\n",
    "    return_matrix=True,\n",
    ")"
   ]
  },
  {
   "cell_type": "code",
   "execution_count": 5,
   "id": "fa3f57cd-eda0-4d2f-a394-6f9e22c08652",
   "metadata": {},
   "outputs": [
    {
     "name": "stdout",
     "output_type": "stream",
     "text": [
      "817 µs ± 4.74 µs per loop (mean ± std. dev. of 7 runs, 1,000 loops each)\n"
     ]
    }
   ],
   "source": [
    "%%timeit\n",
    "D2 = pairwise_distances(X=X, metric=\"sqeuclidean\")"
   ]
  },
  {
   "cell_type": "code",
   "execution_count": null,
   "id": "f15f85b1-180d-41c5-ad28-1a8032a82c8c",
   "metadata": {},
   "outputs": [],
   "source": []
  }
 ],
 "metadata": {
  "kernelspec": {
   "display_name": "Python 3 (ipykernel)",
   "language": "python",
   "name": "python3"
  },
  "language_info": {
   "codemirror_mode": {
    "name": "ipython",
    "version": 3
   },
   "file_extension": ".py",
   "mimetype": "text/x-python",
   "name": "python",
   "nbconvert_exporter": "python",
   "pygments_lexer": "ipython3",
   "version": "3.8.10"
  }
 },
 "nbformat": 4,
 "nbformat_minor": 5
}
