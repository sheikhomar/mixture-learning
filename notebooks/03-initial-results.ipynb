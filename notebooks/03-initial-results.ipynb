{
 "cells": [
  {
   "cell_type": "code",
   "execution_count": 1,
   "id": "2bb00bc3-0fbf-47f8-b152-2deb9de1ec2a",
   "metadata": {
    "jupyter": {
     "source_hidden": true
    },
    "tags": []
   },
   "outputs": [],
   "source": [
    "import json, os, sys\n",
    "\n",
    "from datetime import datetime\n",
    "from pathlib import Path\n",
    "\n",
    "import matplotlib.pyplot as plt\n",
    "import matplotlib.ticker as ticker\n",
    "import numpy as np\n",
    "import pandas as pd\n",
    "import seaborn as sns\n",
    "\n",
    "project_dir = os.path.abspath(\"..\")\n",
    "if project_dir not in sys.path:\n",
    "    sys.path.insert(0, project_dir)\n",
    "    \n",
    "import utils\n",
    "import result_helper\n",
    "\n",
    "\n",
    "sns.set(style=\"whitegrid\")"
   ]
  },
  {
   "cell_type": "code",
   "execution_count": 2,
   "id": "ef138b1d-0813-49e2-9f9e-293f57f67120",
   "metadata": {
    "tags": []
   },
   "outputs": [],
   "source": [
    "skadi_job_paths = list(Path(\"../data/experiments-skadi/\").glob(\"**/job-info.json\"))\n",
    "odin_job_paths = list(Path(\"../data/experiments-odin/\").glob(\"**/job-info.json\"))\n",
    "\n",
    "job_paths = skadi_job_paths + odin_job_paths\n",
    "\n",
    "df_data = result_helper.get_result_summary(job_paths)\n",
    "\n",
    "cols_irrelavant = [\n",
    "    \"started_at\", \"completed_at\", \"precision_score\", \"recall_score\", \"f1_score\", \"random_seed\",\n",
    "    'experiment_type', 'experiment_name', 'component_size', 'variance', 'label_noise_proba',\n",
    "    'allow_self_loops', 'distance_metric', 'job_path', 'duration_secs'\n",
    "]\n",
    "cols_relevant = list(set(df_data.columns) - set(cols_irrelavant))"
   ]
  },
  {
   "cell_type": "markdown",
   "id": "430a0a82-6eea-4853-ab02-d5e79c9aa4a4",
   "metadata": {
    "tags": []
   },
   "source": [
    "## Introduction"
   ]
  },
  {
   "cell_type": "markdown",
   "id": "6c7fe607-db0f-4f4f-9c07-613b695faaeb",
   "metadata": {},
   "source": [
    "### Purpose of the experiments"
   ]
  },
  {
   "cell_type": "markdown",
   "id": "009b7130-76f0-409a-b6d5-7b485088cdbd",
   "metadata": {
    "tags": []
   },
   "source": [
    "- Determine how to parameterize the data generator and the algorithm in order to fully recover the mixtures\n",
    "  - How many steps should the random walker take before it stops?\n",
    "  - What is the minimum separation?\n",
    "  - How does the labelling information influence the performance?\n",
    "\n"
   ]
  },
  {
   "cell_type": "markdown",
   "id": "c0dfab08-6ba3-4834-ae1d-5f6a8dd36360",
   "metadata": {
    "tags": []
   },
   "source": [
    "### Data generation"
   ]
  },
  {
   "cell_type": "markdown",
   "id": "55f69fe0-bcaa-49cc-bcee-4ab39dc429e4",
   "metadata": {},
   "source": [
    "- Place the Gaussian centers on a $k$-dimensional simplex i.e., standard unit basis vectors in $k$ dimensions\n",
    "  - Number of Gaussian components $k$ is the same as the number of dimensions $d$\n",
    "- Move the centers by multiplying them with a factor: `min_distance`.\n",
    "- Number of points in each Gaussian component: 50\n",
    "- Variance in each component: 1\n",
    "- No label noise added - to figure out how the algorithm behaves in the best case\n",
    "- No self-loops\n"
   ]
  },
  {
   "cell_type": "markdown",
   "id": "6df40596-2a6b-49f0-b519-b927418eba0e",
   "metadata": {
    "tags": []
   },
   "source": [
    "## No labelling information $\\beta = 1$"
   ]
  },
  {
   "cell_type": "markdown",
   "id": "8d51aa40-6694-49db-b0bc-4144598de037",
   "metadata": {
    "tags": []
   },
   "source": [
    "### Impact of number of steps on constant separation $2$"
   ]
  },
  {
   "cell_type": "markdown",
   "id": "7e38bda2-f468-4d84-92bd-030f9691ebb7",
   "metadata": {},
   "source": [
    "Experiment parameters:\n",
    "- $\\beta = 1$\n",
    "- Number of steps: 1-100\n",
    "- Separation: 2"
   ]
  },
  {
   "cell_type": "code",
   "execution_count": 3,
   "id": "80574dba-bef5-4052-af9c-9766c6997436",
   "metadata": {
    "jupyter": {
     "source_hidden": true
    },
    "tags": []
   },
   "outputs": [
    {
     "data": {
      "text/html": [
       "<div>\n",
       "<style scoped>\n",
       "    .dataframe tbody tr th:only-of-type {\n",
       "        vertical-align: middle;\n",
       "    }\n",
       "\n",
       "    .dataframe tbody tr th {\n",
       "        vertical-align: top;\n",
       "    }\n",
       "\n",
       "    .dataframe thead tr th {\n",
       "        text-align: left;\n",
       "    }\n",
       "\n",
       "    .dataframe thead tr:last-of-type th {\n",
       "        text-align: right;\n",
       "    }\n",
       "</style>\n",
       "<table border=\"1\" class=\"dataframe\">\n",
       "  <thead>\n",
       "    <tr>\n",
       "      <th></th>\n",
       "      <th colspan=\"3\" halign=\"left\">accuracy_score</th>\n",
       "    </tr>\n",
       "    <tr>\n",
       "      <th>n_dim</th>\n",
       "      <th>10</th>\n",
       "      <th>50</th>\n",
       "      <th>100</th>\n",
       "    </tr>\n",
       "    <tr>\n",
       "      <th>n_steps</th>\n",
       "      <th></th>\n",
       "      <th></th>\n",
       "      <th></th>\n",
       "    </tr>\n",
       "  </thead>\n",
       "  <tbody>\n",
       "    <tr>\n",
       "      <th>1</th>\n",
       "      <td>0.586400</td>\n",
       "      <td>0.101867</td>\n",
       "      <td>0.060678</td>\n",
       "    </tr>\n",
       "    <tr>\n",
       "      <th>5</th>\n",
       "      <td>0.368800</td>\n",
       "      <td>0.093559</td>\n",
       "      <td>0.058902</td>\n",
       "    </tr>\n",
       "    <tr>\n",
       "      <th>10</th>\n",
       "      <td>0.334323</td>\n",
       "      <td>0.088828</td>\n",
       "      <td>0.056960</td>\n",
       "    </tr>\n",
       "    <tr>\n",
       "      <th>20</th>\n",
       "      <td>0.298733</td>\n",
       "      <td>0.067035</td>\n",
       "      <td>0.052149</td>\n",
       "    </tr>\n",
       "    <tr>\n",
       "      <th>50</th>\n",
       "      <td>0.160710</td>\n",
       "      <td>0.066381</td>\n",
       "      <td>0.051666</td>\n",
       "    </tr>\n",
       "    <tr>\n",
       "      <th>100</th>\n",
       "      <td>0.158619</td>\n",
       "      <td>0.063210</td>\n",
       "      <td>0.050928</td>\n",
       "    </tr>\n",
       "  </tbody>\n",
       "</table>\n",
       "</div>"
      ],
      "text/plain": [
       "        accuracy_score                    \n",
       "n_dim              10        50        100\n",
       "n_steps                                   \n",
       "1             0.586400  0.101867  0.060678\n",
       "5             0.368800  0.093559  0.058902\n",
       "10            0.334323  0.088828  0.056960\n",
       "20            0.298733  0.067035  0.052149\n",
       "50            0.160710  0.066381  0.051666\n",
       "100           0.158619  0.063210  0.050928"
      ]
     },
     "execution_count": 3,
     "metadata": {},
     "output_type": "execute_result"
    }
   ],
   "source": [
    "filter_dim_steps_no_bias_01 = df_data.experiment_name == \"dim_steps_no_bias_01\"\n",
    "df_ff = df_data[(filter_dim_steps_no_bias_01)].copy()\n",
    "\n",
    "df_grouped = df_ff.groupby([\"n_dim\", \"n_steps\"])[[\"accuracy_score\"]].mean().reset_index()\n",
    "df_grouped.pivot(index=[\"n_steps\"], columns=[\"n_dim\"], values=[\"accuracy_score\"])"
   ]
  },
  {
   "cell_type": "code",
   "execution_count": 4,
   "id": "e6f465f1-a044-404b-83c1-35aaef71b52d",
   "metadata": {
    "jupyter": {
     "source_hidden": true
    },
    "tags": []
   },
   "outputs": [
    {
     "data": {
      "image/png": "[encoded data removed]",
      "text/plain": [
       "<Figure size 720x432 with 1 Axes>"
      ]
     },
     "metadata": {},
     "output_type": "display_data"
    }
   ],
   "source": [
    "df_data_filtered = df_data[filter_dim_steps_no_bias_01].copy()\n",
    "df_data_filtered = df_data_filtered.sort_values([\"min_distance\", \"n_dim\", \"bias_factor\", \"n_steps\"])\n",
    "\n",
    "with sns.plotting_context(\"notebook\", font_scale=1.4):\n",
    "    fig, ax = plt.subplots(figsize=(10, 6))\n",
    "    sns.barplot(\n",
    "        x=\"n_dim\",y=\"accuracy_score\", hue=\"n_steps\",\n",
    "        data=df_data_filtered,palette=\"Blues\", ax=ax\n",
    "    )\n",
    "    ax.yaxis.grid(True)\n",
    "    ax.yaxis.set_minor_locator(ticker.LinearLocator(numticks=10))\n",
    "    ax.tick_params(which=\"both\", bottom=True)\n",
    "    ax.set_ylabel(\"Accuracy\")\n",
    "    ax.set_xlabel(\"Number of dimensions/components $d=k$\")\n",
    "    ax.set_title(f\"Impact of number of steps on constant separation\");\n",
    "    # ax.set_ylim([0, 1])"
   ]
  },
  {
   "cell_type": "markdown",
   "id": "9dab8c37-e466-487d-8618-74640bf343a6",
   "metadata": {},
   "source": [
    "- It seems that a single-step random walk is best"
   ]
  },
  {
   "cell_type": "markdown",
   "id": "fd3893ed-c224-44a4-a5cd-655bc0d61876",
   "metadata": {
    "jp-MarkdownHeadingCollapsed": true,
    "tags": []
   },
   "source": [
    "### Impact of number of steps on separation $3k^{\\frac{1}{4}}$"
   ]
  },
  {
   "cell_type": "markdown",
   "id": "6727a65c-b6bb-4f21-9388-540af196e692",
   "metadata": {},
   "source": [
    "Experiment parameters:\n",
    "- $\\beta = 1$\n",
    "- Separation: $3 k^{\\frac{1}{4}} $"
   ]
  },
  {
   "cell_type": "code",
   "execution_count": 5,
   "id": "401b9032-f843-40cd-ae71-a4b7b237dd0d",
   "metadata": {
    "jupyter": {
     "source_hidden": true
    },
    "tags": []
   },
   "outputs": [
    {
     "data": {
      "text/html": [
       "<div>\n",
       "<style scoped>\n",
       "    .dataframe tbody tr th:only-of-type {\n",
       "        vertical-align: middle;\n",
       "    }\n",
       "\n",
       "    .dataframe tbody tr th {\n",
       "        vertical-align: top;\n",
       "    }\n",
       "\n",
       "    .dataframe thead tr th {\n",
       "        text-align: left;\n",
       "    }\n",
       "\n",
       "    .dataframe thead tr:last-of-type th {\n",
       "        text-align: right;\n",
       "    }\n",
       "</style>\n",
       "<table border=\"1\" class=\"dataframe\">\n",
       "  <thead>\n",
       "    <tr>\n",
       "      <th></th>\n",
       "      <th colspan=\"3\" halign=\"left\">accuracy_score</th>\n",
       "    </tr>\n",
       "    <tr>\n",
       "      <th>n_dim</th>\n",
       "      <th>10</th>\n",
       "      <th>50</th>\n",
       "      <th>100</th>\n",
       "    </tr>\n",
       "    <tr>\n",
       "      <th>n_steps</th>\n",
       "      <th></th>\n",
       "      <th></th>\n",
       "      <th></th>\n",
       "    </tr>\n",
       "  </thead>\n",
       "  <tbody>\n",
       "    <tr>\n",
       "      <th>1</th>\n",
       "      <td>1.000</td>\n",
       "      <td>1.000000</td>\n",
       "      <td>0.980392</td>\n",
       "    </tr>\n",
       "    <tr>\n",
       "      <th>5</th>\n",
       "      <td>1.000</td>\n",
       "      <td>0.957774</td>\n",
       "      <td>0.961538</td>\n",
       "    </tr>\n",
       "    <tr>\n",
       "      <th>10</th>\n",
       "      <td>1.000</td>\n",
       "      <td>0.954650</td>\n",
       "      <td>0.941920</td>\n",
       "    </tr>\n",
       "    <tr>\n",
       "      <th>20</th>\n",
       "      <td>0.998</td>\n",
       "      <td>0.833526</td>\n",
       "      <td>0.055508</td>\n",
       "    </tr>\n",
       "    <tr>\n",
       "      <th>50</th>\n",
       "      <td>0.986</td>\n",
       "      <td>0.066788</td>\n",
       "      <td>0.051994</td>\n",
       "    </tr>\n",
       "    <tr>\n",
       "      <th>100</th>\n",
       "      <td>0.900</td>\n",
       "      <td>0.072076</td>\n",
       "      <td>0.052249</td>\n",
       "    </tr>\n",
       "  </tbody>\n",
       "</table>\n",
       "</div>"
      ],
      "text/plain": [
       "        accuracy_score                    \n",
       "n_dim              10        50        100\n",
       "n_steps                                   \n",
       "1                1.000  1.000000  0.980392\n",
       "5                1.000  0.957774  0.961538\n",
       "10               1.000  0.954650  0.941920\n",
       "20               0.998  0.833526  0.055508\n",
       "50               0.986  0.066788  0.051994\n",
       "100              0.900  0.072076  0.052249"
      ]
     },
     "execution_count": 5,
     "metadata": {},
     "output_type": "execute_result"
    }
   ],
   "source": [
    "filter_no_bias_02 = df_data.experiment_name == \"no_bias_02\"\n",
    "df_ff = df_data[(filter_no_bias_02)].copy()\n",
    "\n",
    "df_grouped = df_ff.groupby([\"n_dim\", \"n_steps\"])[[\"accuracy_score\"]].mean().reset_index()\n",
    "df_grouped.pivot(index=[\"n_steps\"], columns=[\"n_dim\"], values=[\"accuracy_score\"])"
   ]
  },
  {
   "cell_type": "code",
   "execution_count": 6,
   "id": "aaad036d-479d-4682-afd1-816bd3a7abe7",
   "metadata": {
    "jupyter": {
     "source_hidden": true
    },
    "tags": []
   },
   "outputs": [
    {
     "data": {
      "image/png": "[encoded data removed]",
      "text/plain": [
       "<Figure size 720x432 with 1 Axes>"
      ]
     },
     "metadata": {},
     "output_type": "display_data"
    }
   ],
   "source": [
    "df_data_filtered = df_data[filter_no_bias_02].copy()\n",
    "df_data_filtered = df_data_filtered.sort_values([\"min_distance\", \"n_dim\", \"bias_factor\", \"n_steps\"])\n",
    "\n",
    "with sns.plotting_context(\"notebook\", font_scale=1.4):\n",
    "    fig, ax = plt.subplots(figsize=(10, 6))\n",
    "    sns.barplot(\n",
    "        x=\"n_dim\",y=\"accuracy_score\", hue=\"n_steps\",\n",
    "        data=df_data_filtered,palette=\"Blues\", ax=ax\n",
    "    )\n",
    "    ax.yaxis.grid(True)\n",
    "    ax.yaxis.set_minor_locator(ticker.LinearLocator(numticks=10))\n",
    "    ax.tick_params(which=\"both\", bottom=True)\n",
    "    ax.set_ylabel(\"Accuracy\")\n",
    "    ax.set_xlabel(\"Number of dimensions/components $d=k$\")\n",
    "    ax.set_title(\"Impact of number of steps on separation $3k^{\\\\frac{1}{4}}$\");\n",
    "    # ax.set_ylim([0, 1])"
   ]
  },
  {
   "cell_type": "markdown",
   "id": "19ee6343-0581-465c-9e75-c464f2cdcd5c",
   "metadata": {
    "jp-MarkdownHeadingCollapsed": true,
    "tags": []
   },
   "source": [
    "### Impact of number of steps on separation $5k^{\\frac{1}{4}}$"
   ]
  },
  {
   "cell_type": "markdown",
   "id": "b69450f2-9006-47b7-b4f6-5cda012779bf",
   "metadata": {},
   "source": [
    "Experiment parameters:\n",
    "- $\\beta = 1$\n",
    "- Separation: $5 k^{\\frac{1}{4}} $"
   ]
  },
  {
   "cell_type": "code",
   "execution_count": 7,
   "id": "a7ff8f3b-5e67-4c37-bdde-c43916a02d8a",
   "metadata": {
    "jupyter": {
     "source_hidden": true
    },
    "tags": []
   },
   "outputs": [
    {
     "data": {
      "text/html": [
       "<div>\n",
       "<style scoped>\n",
       "    .dataframe tbody tr th:only-of-type {\n",
       "        vertical-align: middle;\n",
       "    }\n",
       "\n",
       "    .dataframe tbody tr th {\n",
       "        vertical-align: top;\n",
       "    }\n",
       "\n",
       "    .dataframe thead tr th {\n",
       "        text-align: left;\n",
       "    }\n",
       "\n",
       "    .dataframe thead tr:last-of-type th {\n",
       "        text-align: right;\n",
       "    }\n",
       "</style>\n",
       "<table border=\"1\" class=\"dataframe\">\n",
       "  <thead>\n",
       "    <tr>\n",
       "      <th></th>\n",
       "      <th colspan=\"3\" halign=\"left\">accuracy_score</th>\n",
       "    </tr>\n",
       "    <tr>\n",
       "      <th>n_dim</th>\n",
       "      <th>10</th>\n",
       "      <th>50</th>\n",
       "      <th>100</th>\n",
       "    </tr>\n",
       "    <tr>\n",
       "      <th>n_steps</th>\n",
       "      <th></th>\n",
       "      <th></th>\n",
       "      <th></th>\n",
       "    </tr>\n",
       "  </thead>\n",
       "  <tbody>\n",
       "    <tr>\n",
       "      <th>1</th>\n",
       "      <td>1.0</td>\n",
       "      <td>1.0</td>\n",
       "      <td>1.000000</td>\n",
       "    </tr>\n",
       "    <tr>\n",
       "      <th>5</th>\n",
       "      <td>1.0</td>\n",
       "      <td>1.0</td>\n",
       "      <td>1.000000</td>\n",
       "    </tr>\n",
       "    <tr>\n",
       "      <th>10</th>\n",
       "      <td>1.0</td>\n",
       "      <td>1.0</td>\n",
       "      <td>1.000000</td>\n",
       "    </tr>\n",
       "    <tr>\n",
       "      <th>20</th>\n",
       "      <td>1.0</td>\n",
       "      <td>1.0</td>\n",
       "      <td>0.980392</td>\n",
       "    </tr>\n",
       "    <tr>\n",
       "      <th>50</th>\n",
       "      <td>1.0</td>\n",
       "      <td>1.0</td>\n",
       "      <td>0.257018</td>\n",
       "    </tr>\n",
       "    <tr>\n",
       "      <th>100</th>\n",
       "      <td>1.0</td>\n",
       "      <td>1.0</td>\n",
       "      <td>0.071890</td>\n",
       "    </tr>\n",
       "  </tbody>\n",
       "</table>\n",
       "</div>"
      ],
      "text/plain": [
       "        accuracy_score               \n",
       "n_dim              10   50        100\n",
       "n_steps                              \n",
       "1                  1.0  1.0  1.000000\n",
       "5                  1.0  1.0  1.000000\n",
       "10                 1.0  1.0  1.000000\n",
       "20                 1.0  1.0  0.980392\n",
       "50                 1.0  1.0  0.257018\n",
       "100                1.0  1.0  0.071890"
      ]
     },
     "execution_count": 7,
     "metadata": {},
     "output_type": "execute_result"
    }
   ],
   "source": [
    "filter_no_bias_03 = df_data.experiment_name == \"no_bias_03\"\n",
    "df_ff = df_data[(filter_no_bias_03)].copy()\n",
    "\n",
    "df_grouped = df_ff.groupby([\"n_dim\", \"n_steps\"])[[\"accuracy_score\"]].mean().reset_index()\n",
    "df_grouped.pivot(index=[\"n_steps\"], columns=[\"n_dim\"], values=[\"accuracy_score\"])"
   ]
  },
  {
   "cell_type": "code",
   "execution_count": 8,
   "id": "a19669f0-49e3-455b-817b-028e36a6f263",
   "metadata": {
    "jupyter": {
     "source_hidden": true
    },
    "tags": []
   },
   "outputs": [
    {
     "data": {
      "image/png": "[encoded data removed]",
      "text/plain": [
       "<Figure size 720x432 with 1 Axes>"
      ]
     },
     "metadata": {},
     "output_type": "display_data"
    }
   ],
   "source": [
    "df_data_filtered = df_data[filter_no_bias_03].copy()\n",
    "df_data_filtered = df_data_filtered.sort_values([\"min_distance\", \"n_dim\", \"bias_factor\", \"n_steps\"])\n",
    "\n",
    "with sns.plotting_context(\"notebook\", font_scale=1.4):\n",
    "    fig, ax = plt.subplots(figsize=(10, 6))\n",
    "    sns.barplot(\n",
    "        x=\"n_dim\",y=\"accuracy_score\", hue=\"n_steps\",\n",
    "        data=df_data_filtered,palette=\"Blues\", ax=ax\n",
    "    )\n",
    "    ax.yaxis.grid(True)\n",
    "    ax.yaxis.set_minor_locator(ticker.LinearLocator(numticks=10))\n",
    "    ax.tick_params(which=\"both\", bottom=True)\n",
    "    ax.set_ylabel(\"Accuracy\")\n",
    "    ax.set_xlabel(\"Number of dimensions/components $d=k$\")\n",
    "    ax.set_title(\"Impact of number of steps on separation $5 k^{\\\\frac{1}{4}}$\");\n",
    "    # ax.set_ylim([0, 1])"
   ]
  },
  {
   "cell_type": "markdown",
   "id": "b1597919-e0ac-4e42-af1e-c46c8de06972",
   "metadata": {
    "jp-MarkdownHeadingCollapsed": true,
    "tags": []
   },
   "source": [
    "### Impact of number of steps on separation $7k^{\\frac{1}{4}}$"
   ]
  },
  {
   "cell_type": "markdown",
   "id": "b8e92ca7-b4aa-4667-9d1f-de2169238dff",
   "metadata": {},
   "source": [
    "Experiment parameters:\n",
    "- $\\beta = 1$\n",
    "- Separation: $7 k^{\\frac{1}{4}} $"
   ]
  },
  {
   "cell_type": "code",
   "execution_count": 9,
   "id": "e19d670f-460c-4262-b3a6-a16705746efb",
   "metadata": {
    "jupyter": {
     "source_hidden": true
    },
    "tags": []
   },
   "outputs": [
    {
     "data": {
      "text/html": [
       "<div>\n",
       "<style scoped>\n",
       "    .dataframe tbody tr th:only-of-type {\n",
       "        vertical-align: middle;\n",
       "    }\n",
       "\n",
       "    .dataframe tbody tr th {\n",
       "        vertical-align: top;\n",
       "    }\n",
       "\n",
       "    .dataframe thead tr th {\n",
       "        text-align: left;\n",
       "    }\n",
       "\n",
       "    .dataframe thead tr:last-of-type th {\n",
       "        text-align: right;\n",
       "    }\n",
       "</style>\n",
       "<table border=\"1\" class=\"dataframe\">\n",
       "  <thead>\n",
       "    <tr>\n",
       "      <th></th>\n",
       "      <th colspan=\"3\" halign=\"left\">accuracy_score</th>\n",
       "    </tr>\n",
       "    <tr>\n",
       "      <th>n_dim</th>\n",
       "      <th>10</th>\n",
       "      <th>50</th>\n",
       "      <th>100</th>\n",
       "    </tr>\n",
       "    <tr>\n",
       "      <th>n_steps</th>\n",
       "      <th></th>\n",
       "      <th></th>\n",
       "      <th></th>\n",
       "    </tr>\n",
       "  </thead>\n",
       "  <tbody>\n",
       "    <tr>\n",
       "      <th>1</th>\n",
       "      <td>1.0</td>\n",
       "      <td>1.0</td>\n",
       "      <td>1.0</td>\n",
       "    </tr>\n",
       "    <tr>\n",
       "      <th>5</th>\n",
       "      <td>1.0</td>\n",
       "      <td>1.0</td>\n",
       "      <td>1.0</td>\n",
       "    </tr>\n",
       "    <tr>\n",
       "      <th>10</th>\n",
       "      <td>1.0</td>\n",
       "      <td>1.0</td>\n",
       "      <td>1.0</td>\n",
       "    </tr>\n",
       "    <tr>\n",
       "      <th>20</th>\n",
       "      <td>1.0</td>\n",
       "      <td>1.0</td>\n",
       "      <td>1.0</td>\n",
       "    </tr>\n",
       "    <tr>\n",
       "      <th>50</th>\n",
       "      <td>1.0</td>\n",
       "      <td>1.0</td>\n",
       "      <td>1.0</td>\n",
       "    </tr>\n",
       "    <tr>\n",
       "      <th>100</th>\n",
       "      <td>1.0</td>\n",
       "      <td>1.0</td>\n",
       "      <td>1.0</td>\n",
       "    </tr>\n",
       "  </tbody>\n",
       "</table>\n",
       "</div>"
      ],
      "text/plain": [
       "        accuracy_score          \n",
       "n_dim              10   50   100\n",
       "n_steps                         \n",
       "1                  1.0  1.0  1.0\n",
       "5                  1.0  1.0  1.0\n",
       "10                 1.0  1.0  1.0\n",
       "20                 1.0  1.0  1.0\n",
       "50                 1.0  1.0  1.0\n",
       "100                1.0  1.0  1.0"
      ]
     },
     "execution_count": 9,
     "metadata": {},
     "output_type": "execute_result"
    }
   ],
   "source": [
    "filter_no_bias_04 = df_data.experiment_name == \"no_bias_04\"\n",
    "df_ff = df_data[(filter_no_bias_04)].copy()\n",
    "\n",
    "df_grouped = df_ff.groupby([\"n_dim\", \"n_steps\"])[[\"accuracy_score\"]].mean().reset_index()\n",
    "df_grouped.pivot(index=[\"n_steps\"], columns=[\"n_dim\"], values=[\"accuracy_score\"])"
   ]
  },
  {
   "cell_type": "code",
   "execution_count": 10,
   "id": "23864f31-79d6-434e-bbb5-74b77eda8e40",
   "metadata": {
    "jupyter": {
     "source_hidden": true
    },
    "tags": []
   },
   "outputs": [
    {
     "data": {
      "image/png": "[encoded data removed]",
      "text/plain": [
       "<Figure size 720x432 with 1 Axes>"
      ]
     },
     "metadata": {},
     "output_type": "display_data"
    }
   ],
   "source": [
    "df_data_filtered = df_data[filter_no_bias_04].copy()\n",
    "df_data_filtered = df_data_filtered.sort_values([\"min_distance\", \"n_dim\", \"bias_factor\", \"n_steps\"])\n",
    "\n",
    "with sns.plotting_context(\"notebook\", font_scale=1.4):\n",
    "    fig, ax = plt.subplots(figsize=(10, 6))\n",
    "    sns.barplot(\n",
    "        x=\"n_dim\",y=\"accuracy_score\", hue=\"n_steps\",\n",
    "        data=df_data_filtered,palette=\"Blues\", ax=ax\n",
    "    )\n",
    "    ax.yaxis.grid(True)\n",
    "    ax.yaxis.set_minor_locator(ticker.LinearLocator(numticks=10))\n",
    "    ax.tick_params(which=\"both\", bottom=True)\n",
    "    ax.set_ylabel(\"Accuracy\")\n",
    "    ax.set_xlabel(\"Number of dimensions/components $d=k$\")\n",
    "    ax.set_title(\"Impact of number of steps on separation $7 k^{\\\\frac{1}{4}}$\");\n",
    "    # ax.set_ylim([0, 1])"
   ]
  },
  {
   "cell_type": "markdown",
   "id": "575702cd-1c90-4eba-84f4-60c80abe09e2",
   "metadata": {
    "jp-MarkdownHeadingCollapsed": true,
    "tags": []
   },
   "source": [
    "### Impact of separation $c k^{\\frac{1}{4}}$ on 5-step random walk"
   ]
  },
  {
   "cell_type": "markdown",
   "id": "7b8a0d61-15a7-4209-8b28-614dc8ceee15",
   "metadata": {},
   "source": [
    "Experiment parameters:\n",
    "- Separation: $c \\cdot k^{1/4}$ where $c \\in \\{ 3, 4, 5, 6 \\}$\n",
    "- $\\beta = 1$\n",
    "- Number of random walk steps: 5"
   ]
  },
  {
   "cell_type": "code",
   "execution_count": 11,
   "id": "b60b9ade-e234-46aa-b421-3565258533e2",
   "metadata": {
    "jupyter": {
     "source_hidden": true
    },
    "tags": []
   },
   "outputs": [
    {
     "data": {
      "text/html": [
       "<div>\n",
       "<style scoped>\n",
       "    .dataframe tbody tr th:only-of-type {\n",
       "        vertical-align: middle;\n",
       "    }\n",
       "\n",
       "    .dataframe tbody tr th {\n",
       "        vertical-align: top;\n",
       "    }\n",
       "\n",
       "    .dataframe thead tr th {\n",
       "        text-align: left;\n",
       "    }\n",
       "\n",
       "    .dataframe thead tr:last-of-type th {\n",
       "        text-align: right;\n",
       "    }\n",
       "</style>\n",
       "<table border=\"1\" class=\"dataframe\">\n",
       "  <thead>\n",
       "    <tr>\n",
       "      <th></th>\n",
       "      <th colspan=\"4\" halign=\"left\">accuracy_score</th>\n",
       "    </tr>\n",
       "    <tr>\n",
       "      <th>n_dim</th>\n",
       "      <th>10</th>\n",
       "      <th>50</th>\n",
       "      <th>100</th>\n",
       "      <th>200</th>\n",
       "    </tr>\n",
       "    <tr>\n",
       "      <th>c</th>\n",
       "      <th></th>\n",
       "      <th></th>\n",
       "      <th></th>\n",
       "      <th></th>\n",
       "    </tr>\n",
       "  </thead>\n",
       "  <tbody>\n",
       "    <tr>\n",
       "      <th>3</th>\n",
       "      <td>1.0</td>\n",
       "      <td>0.978855</td>\n",
       "      <td>0.961538</td>\n",
       "      <td>0.947969</td>\n",
       "    </tr>\n",
       "    <tr>\n",
       "      <th>4</th>\n",
       "      <td>1.0</td>\n",
       "      <td>1.000000</td>\n",
       "      <td>0.990196</td>\n",
       "      <td>0.980392</td>\n",
       "    </tr>\n",
       "    <tr>\n",
       "      <th>5</th>\n",
       "      <td>1.0</td>\n",
       "      <td>1.000000</td>\n",
       "      <td>1.000000</td>\n",
       "      <td>0.995050</td>\n",
       "    </tr>\n",
       "    <tr>\n",
       "      <th>6</th>\n",
       "      <td>1.0</td>\n",
       "      <td>1.000000</td>\n",
       "      <td>1.000000</td>\n",
       "      <td>1.000000</td>\n",
       "    </tr>\n",
       "  </tbody>\n",
       "</table>\n",
       "</div>"
      ],
      "text/plain": [
       "      accuracy_score                              \n",
       "n_dim            10        50        100       200\n",
       "c                                                 \n",
       "3                1.0  0.978855  0.961538  0.947969\n",
       "4                1.0  1.000000  0.990196  0.980392\n",
       "5                1.0  1.000000  1.000000  0.995050\n",
       "6                1.0  1.000000  1.000000  1.000000"
      ]
     },
     "execution_count": 11,
     "metadata": {},
     "output_type": "execute_result"
    }
   ],
   "source": [
    "f_no_bias_01 = df_data.experiment_name == \"no_bias_01\"\n",
    "df_ff = df_data[f_no_bias_01].copy()\n",
    "df_ff[\"c\"] = df_ff.groupby(\"n_dim\")[[\"min_distance\"]].rank(\"dense\").astype(int) + 2\n",
    "\n",
    "df_grouped = df_ff.groupby([\"n_dim\", \"c\", \"min_distance\"])[[\"accuracy_score\"]].mean().reset_index()\n",
    "df_grouped.pivot(index=[\"c\"], columns=[\"n_dim\"], values=[\"accuracy_score\"])"
   ]
  },
  {
   "cell_type": "code",
   "execution_count": 12,
   "id": "d6c5cdaf-cfbe-4ad7-be8f-85b30b37a80f",
   "metadata": {
    "jupyter": {
     "source_hidden": true
    },
    "tags": []
   },
   "outputs": [
    {
     "data": {
      "image/png": "[encoded data removed]",
      "text/plain": [
       "<Figure size 1080x432 with 4 Axes>"
      ]
     },
     "metadata": {},
     "output_type": "display_data"
    }
   ],
   "source": [
    "with sns.plotting_context(\"notebook\", font_scale=1.4):\n",
    "    fig, axes = plt.subplots(ncols=4, figsize=(15, 6))\n",
    "    for i, n_dim in enumerate([10, 50, 100, 200]):\n",
    "        \n",
    "        filter_dim = df_data.n_dim == n_dim\n",
    "        df_data_filtered = df_data[f_no_bias_01 & filter_dim].copy()\n",
    "        df_data_filtered = df_data_filtered.sort_values([\"min_distance\", \"n_dim\", \"bias_factor\", \"n_steps\"])\n",
    "        df_data_filtered[\"min_distance\"] = df_data_filtered[\"min_distance\"].round(3)\n",
    "        \n",
    "        if df_data_filtered.shape[0] == 0:\n",
    "            print(f\"No data for d={n_dim}\")\n",
    "            continue\n",
    "        \n",
    "        sns.barplot(\n",
    "            x=\"n_dim\",y=\"accuracy_score\", hue=\"min_distance\",\n",
    "            data=df_data_filtered,palette=\"Blues\", ax=axes[i]\n",
    "        )\n",
    "        #ax.legend(title='Bias factor: $\\\\beta$', loc='upper left', labels=['1/4', '1/8', '1/16', '1/32'])\n",
    "        axes[i].yaxis.grid(True)\n",
    "        axes[i].yaxis.set_minor_locator(ticker.LinearLocator(numticks=10))\n",
    "        axes[i].tick_params(which=\"both\", bottom=True)\n",
    "        axes[i].set_ylabel(\"\")\n",
    "        axes[i].set_xlabel(\"\")\n",
    "        axes[i].set_xlabel(\"\")\n",
    "        axes[i].legend(loc='lower center')\n",
    "        axes[i].set_title(f\"\");\n",
    "\n",
    "        # ax.set_ylim([0, 1])"
   ]
  },
  {
   "cell_type": "markdown",
   "id": "e985ffa9-3e99-4726-96fd-d938081f86e1",
   "metadata": {
    "tags": []
   },
   "source": [
    "### Impact of separation $c k^{\\frac{1}{4}}$ on single-step random walk"
   ]
  },
  {
   "cell_type": "markdown",
   "id": "6078b957-9c8b-485c-9f6e-16f79d3efcb7",
   "metadata": {},
   "source": [
    "Experiment parameters:\n",
    "- $\\beta = 1$\n",
    "- Separation: $c k^{\\frac{1}{4}} $ where $c \\in \\{ 1, 2, 3, 4, 5, 6 \\}$\n",
    "- Number of steps: 1"
   ]
  },
  {
   "cell_type": "code",
   "execution_count": 13,
   "id": "29222b1e-401b-49fc-86b4-a32af67c503a",
   "metadata": {
    "jupyter": {
     "source_hidden": true
    },
    "tags": []
   },
   "outputs": [
    {
     "data": {
      "text/html": [
       "<div>\n",
       "<style scoped>\n",
       "    .dataframe tbody tr th:only-of-type {\n",
       "        vertical-align: middle;\n",
       "    }\n",
       "\n",
       "    .dataframe tbody tr th {\n",
       "        vertical-align: top;\n",
       "    }\n",
       "\n",
       "    .dataframe thead tr th {\n",
       "        text-align: left;\n",
       "    }\n",
       "\n",
       "    .dataframe thead tr:last-of-type th {\n",
       "        text-align: right;\n",
       "    }\n",
       "</style>\n",
       "<table border=\"1\" class=\"dataframe\">\n",
       "  <thead>\n",
       "    <tr>\n",
       "      <th></th>\n",
       "      <th colspan=\"5\" halign=\"left\">accuracy_score</th>\n",
       "    </tr>\n",
       "    <tr>\n",
       "      <th>n_dim</th>\n",
       "      <th>10</th>\n",
       "      <th>50</th>\n",
       "      <th>100</th>\n",
       "      <th>200</th>\n",
       "      <th>300</th>\n",
       "    </tr>\n",
       "    <tr>\n",
       "      <th>c</th>\n",
       "      <th></th>\n",
       "      <th></th>\n",
       "      <th></th>\n",
       "      <th></th>\n",
       "      <th></th>\n",
       "    </tr>\n",
       "  </thead>\n",
       "  <tbody>\n",
       "    <tr>\n",
       "      <th>1</th>\n",
       "      <td>0.448762</td>\n",
       "      <td>0.166946</td>\n",
       "      <td>0.093286</td>\n",
       "      <td>0.063846</td>\n",
       "      <td>0.051306</td>\n",
       "    </tr>\n",
       "    <tr>\n",
       "      <th>2</th>\n",
       "      <td>0.955000</td>\n",
       "      <td>0.969247</td>\n",
       "      <td>0.945774</td>\n",
       "      <td>0.887908</td>\n",
       "      <td>0.829195</td>\n",
       "    </tr>\n",
       "    <tr>\n",
       "      <th>3</th>\n",
       "      <td>0.999500</td>\n",
       "      <td>0.990385</td>\n",
       "      <td>0.944368</td>\n",
       "      <td>0.937032</td>\n",
       "      <td>0.854533</td>\n",
       "    </tr>\n",
       "    <tr>\n",
       "      <th>4</th>\n",
       "      <td>1.000000</td>\n",
       "      <td>1.000000</td>\n",
       "      <td>1.000000</td>\n",
       "      <td>0.975726</td>\n",
       "      <td>0.937773</td>\n",
       "    </tr>\n",
       "    <tr>\n",
       "      <th>5</th>\n",
       "      <td>1.000000</td>\n",
       "      <td>1.000000</td>\n",
       "      <td>1.000000</td>\n",
       "      <td>0.997525</td>\n",
       "      <td>0.985418</td>\n",
       "    </tr>\n",
       "    <tr>\n",
       "      <th>6</th>\n",
       "      <td>1.000000</td>\n",
       "      <td>1.000000</td>\n",
       "      <td>1.000000</td>\n",
       "      <td>1.000000</td>\n",
       "      <td>1.000000</td>\n",
       "    </tr>\n",
       "  </tbody>\n",
       "</table>\n",
       "</div>"
      ],
      "text/plain": [
       "      accuracy_score                                        \n",
       "n_dim            10        50        100       200       300\n",
       "c                                                           \n",
       "1           0.448762  0.166946  0.093286  0.063846  0.051306\n",
       "2           0.955000  0.969247  0.945774  0.887908  0.829195\n",
       "3           0.999500  0.990385  0.944368  0.937032  0.854533\n",
       "4           1.000000  1.000000  1.000000  0.975726  0.937773\n",
       "5           1.000000  1.000000  1.000000  0.997525  0.985418\n",
       "6           1.000000  1.000000  1.000000  1.000000  1.000000"
      ]
     },
     "execution_count": 13,
     "metadata": {},
     "output_type": "execute_result"
    }
   ],
   "source": [
    "f_no_bias_single_step_01 = df_data.experiment_name == \"no_bias_single_step_01\"\n",
    "df_ff = df_data[f_no_bias_single_step_01].copy()\n",
    "df_ff[\"c\"] = df_ff.groupby(\"n_dim\")[[\"min_distance\"]].rank(\"dense\").astype(int)\n",
    "\n",
    "df_grouped = df_ff.groupby([\"n_dim\", \"c\", \"min_distance\"])[[\"accuracy_score\"]].mean().reset_index()\n",
    "df_grouped.pivot(index=[\"c\"], columns=[\"n_dim\"], values=[\"accuracy_score\"])"
   ]
  },
  {
   "cell_type": "code",
   "execution_count": 14,
   "id": "5e591974-a5b7-4d41-861a-132738446b86",
   "metadata": {
    "jupyter": {
     "source_hidden": true
    },
    "tags": []
   },
   "outputs": [
    {
     "data": {
      "image/png": "[encoded data removed]",
      "text/plain": [
       "<Figure size 720x432 with 1 Axes>"
      ]
     },
     "metadata": {},
     "output_type": "display_data"
    }
   ],
   "source": [
    "with sns.plotting_context(\"notebook\", font_scale=1.4):\n",
    "    fig, ax = plt.subplots(figsize=(10, 6))\n",
    "    sns.barplot(\n",
    "        x=\"n_dim\",y=\"accuracy_score\", hue=\"c\",\n",
    "        data=df_ff, palette=\"Blues\", ax=ax\n",
    "    )\n",
    "    ax.yaxis.grid(True)\n",
    "    ax.yaxis.set_minor_locator(ticker.LinearLocator(numticks=10))\n",
    "    ax.tick_params(which=\"both\", bottom=True)\n",
    "    ax.set_ylabel(\"Accuracy\")\n",
    "    ax.set_xlabel(\"Number of dimensions/components $d=k$\")\n",
    "    ax.set_title(\"Impact of separation $ck^{\\\\frac{1}{4}}$ on single-step random walk\");\n",
    "    # ax.set_ylim([0, 1])"
   ]
  },
  {
   "cell_type": "markdown",
   "id": "04ff438f-5166-4e40-a1b5-b8cc1de5a524",
   "metadata": {
    "tags": []
   },
   "source": [
    "### Impact of separation $\\ln(k)\\cdot k^{\\frac{1}{4}} $ on single-step random walk\n",
    "-----"
   ]
  },
  {
   "cell_type": "markdown",
   "id": "eae384a1-0edf-4315-9b9d-9889c02dca9b",
   "metadata": {},
   "source": [
    "Experiment parameters:\n",
    "- $\\beta = 1$\n",
    "- Separation: $(c+\\ln(k)) \\cdot k^{\\frac{1}{4}} $ where $c = \\{ 0.5, 1.0, 1.5, 2.0  \\}$\n",
    "- Number of steps: 1"
   ]
  },
  {
   "cell_type": "code",
   "execution_count": 15,
   "id": "f5a1cb97-9b12-4cb2-83f7-de88ecebcd55",
   "metadata": {
    "tags": []
   },
   "outputs": [
    {
     "data": {
      "text/html": [
       "<div>\n",
       "<style scoped>\n",
       "    .dataframe tbody tr th:only-of-type {\n",
       "        vertical-align: middle;\n",
       "    }\n",
       "\n",
       "    .dataframe tbody tr th {\n",
       "        vertical-align: top;\n",
       "    }\n",
       "\n",
       "    .dataframe thead tr th {\n",
       "        text-align: left;\n",
       "    }\n",
       "\n",
       "    .dataframe thead tr:last-of-type th {\n",
       "        text-align: right;\n",
       "    }\n",
       "</style>\n",
       "<table border=\"1\" class=\"dataframe\">\n",
       "  <thead>\n",
       "    <tr>\n",
       "      <th></th>\n",
       "      <th colspan=\"5\" halign=\"left\">accuracy_score</th>\n",
       "    </tr>\n",
       "    <tr>\n",
       "      <th>n_dim</th>\n",
       "      <th>10</th>\n",
       "      <th>50</th>\n",
       "      <th>100</th>\n",
       "      <th>200</th>\n",
       "      <th>300</th>\n",
       "    </tr>\n",
       "    <tr>\n",
       "      <th>c</th>\n",
       "      <th></th>\n",
       "      <th></th>\n",
       "      <th></th>\n",
       "      <th></th>\n",
       "      <th></th>\n",
       "    </tr>\n",
       "  </thead>\n",
       "  <tbody>\n",
       "    <tr>\n",
       "      <th>0.0</th>\n",
       "      <td>0.9780</td>\n",
       "      <td>1.0</td>\n",
       "      <td>1.0</td>\n",
       "      <td>0.997525</td>\n",
       "      <td>0.996689</td>\n",
       "    </tr>\n",
       "    <tr>\n",
       "      <th>0.5</th>\n",
       "      <td>0.9952</td>\n",
       "      <td>1.0</td>\n",
       "      <td>1.0</td>\n",
       "      <td>1.000000</td>\n",
       "      <td>0.998675</td>\n",
       "    </tr>\n",
       "    <tr>\n",
       "      <th>1.0</th>\n",
       "      <td>1.0000</td>\n",
       "      <td>1.0</td>\n",
       "      <td>1.0</td>\n",
       "      <td>1.000000</td>\n",
       "      <td>1.000000</td>\n",
       "    </tr>\n",
       "    <tr>\n",
       "      <th>1.5</th>\n",
       "      <td>1.0000</td>\n",
       "      <td>1.0</td>\n",
       "      <td>1.0</td>\n",
       "      <td>1.000000</td>\n",
       "      <td>1.000000</td>\n",
       "    </tr>\n",
       "    <tr>\n",
       "      <th>2.0</th>\n",
       "      <td>1.0000</td>\n",
       "      <td>1.0</td>\n",
       "      <td>1.0</td>\n",
       "      <td>1.000000</td>\n",
       "      <td>1.000000</td>\n",
       "    </tr>\n",
       "  </tbody>\n",
       "</table>\n",
       "</div>"
      ],
      "text/plain": [
       "      accuracy_score                              \n",
       "n_dim            10   50   100       200       300\n",
       "c                                                 \n",
       "0.0           0.9780  1.0  1.0  0.997525  0.996689\n",
       "0.5           0.9952  1.0  1.0  1.000000  0.998675\n",
       "1.0           1.0000  1.0  1.0  1.000000  1.000000\n",
       "1.5           1.0000  1.0  1.0  1.000000  1.000000\n",
       "2.0           1.0000  1.0  1.0  1.000000  1.000000"
      ]
     },
     "execution_count": 15,
     "metadata": {},
     "output_type": "execute_result"
    }
   ],
   "source": [
    "f_no_bias_single_step_02 = df_data.experiment_name == \"no_bias_single_step_02\"\n",
    "f_no_bias_single_step_03 = df_data.experiment_name == \"no_bias_single_step_03\"\n",
    "f_no_bias_single_step_04 = df_data.experiment_name == \"no_bias_single_step_04\"\n",
    "df_ff = df_data[f_no_bias_single_step_02 | f_no_bias_single_step_03 | f_no_bias_single_step_04].copy()\n",
    "df_ff[\"c\"] = df_ff.groupby(\"n_dim\")[[\"min_distance\"]].rank(\"dense\").astype(int) / 2 - 0.5\n",
    "\n",
    "df_grouped = df_ff.groupby([\"n_dim\", \"c\", \"min_distance\"])[[\"accuracy_score\"]].mean().reset_index()\n",
    "df_grouped.pivot(index=[\"c\"], columns=[\"n_dim\"], values=[\"accuracy_score\"])"
   ]
  },
  {
   "cell_type": "code",
   "execution_count": 16,
   "id": "c3d38b18-4a05-4b07-af65-dbec2680a0d0",
   "metadata": {
    "jupyter": {
     "source_hidden": true
    },
    "tags": []
   },
   "outputs": [
    {
     "data": {
      "image/png": "[encoded data removed]",
      "text/plain": [
       "<Figure size 720x432 with 1 Axes>"
      ]
     },
     "metadata": {},
     "output_type": "display_data"
    }
   ],
   "source": [
    "with sns.plotting_context(\"notebook\", font_scale=1.4):\n",
    "    fig, ax = plt.subplots(figsize=(10, 6))\n",
    "    sns.barplot(\n",
    "        x=\"n_dim\",y=\"accuracy_score\", hue=\"c\",\n",
    "        data=df_ff, palette=\"Blues\", ax=ax\n",
    "    )\n",
    "    ax.yaxis.grid(True)\n",
    "    ax.yaxis.set_minor_locator(ticker.LinearLocator(numticks=10))\n",
    "    ax.tick_params(which=\"both\", bottom=True)\n",
    "    ax.set_ylabel(\"Accuracy\")\n",
    "    ax.set_xlabel(\"Number of dimensions/components $d=k$\")\n",
    "    ax.set_title(\"Impact of separation $(c+\\ln{k})k^{\\\\frac{1}{4}}$ on single-step random walk\");\n",
    "    # ax.set_ylim([0, 1])"
   ]
  },
  {
   "cell_type": "markdown",
   "id": "246b7c9c-20ce-48a3-8004-e4f386edcb74",
   "metadata": {
    "tags": []
   },
   "source": [
    "### Impact of separation $\\log_{10}(k)\\cdot k^{\\frac{1}{4}} $ on single-step random walk"
   ]
  },
  {
   "cell_type": "markdown",
   "id": "d307dd24-1c62-483e-80fa-cb0a88d5bd66",
   "metadata": {},
   "source": [
    "Experiment parameters:\n",
    "- $\\beta = 1$\n",
    "- Separation: $(c+\\log_{10}(k)) \\cdot k^{\\frac{1}{4}} $ where $c = \\{ 1, 2, 3 \\}$\n",
    "- Number of steps: 1"
   ]
  },
  {
   "cell_type": "code",
   "execution_count": 17,
   "id": "2f534b26-149c-4f43-82a1-43dd6aff3e7e",
   "metadata": {
    "jupyter": {
     "source_hidden": true
    },
    "tags": []
   },
   "outputs": [
    {
     "data": {
      "text/html": [
       "<div>\n",
       "<style scoped>\n",
       "    .dataframe tbody tr th:only-of-type {\n",
       "        vertical-align: middle;\n",
       "    }\n",
       "\n",
       "    .dataframe tbody tr th {\n",
       "        vertical-align: top;\n",
       "    }\n",
       "\n",
       "    .dataframe thead tr th {\n",
       "        text-align: left;\n",
       "    }\n",
       "\n",
       "    .dataframe thead tr:last-of-type th {\n",
       "        text-align: right;\n",
       "    }\n",
       "</style>\n",
       "<table border=\"1\" class=\"dataframe\">\n",
       "  <thead>\n",
       "    <tr>\n",
       "      <th></th>\n",
       "      <th colspan=\"5\" halign=\"left\">accuracy_score</th>\n",
       "    </tr>\n",
       "    <tr>\n",
       "      <th>n_dim</th>\n",
       "      <th>10</th>\n",
       "      <th>50</th>\n",
       "      <th>100</th>\n",
       "      <th>200</th>\n",
       "      <th>300</th>\n",
       "    </tr>\n",
       "    <tr>\n",
       "      <th>c</th>\n",
       "      <th></th>\n",
       "      <th></th>\n",
       "      <th></th>\n",
       "      <th></th>\n",
       "      <th></th>\n",
       "    </tr>\n",
       "  </thead>\n",
       "  <tbody>\n",
       "    <tr>\n",
       "      <th>1</th>\n",
       "      <td>0.959</td>\n",
       "      <td>0.974108</td>\n",
       "      <td>0.974108</td>\n",
       "      <td>0.937518</td>\n",
       "      <td>0.918398</td>\n",
       "    </tr>\n",
       "    <tr>\n",
       "      <th>2</th>\n",
       "      <td>0.998</td>\n",
       "      <td>1.000000</td>\n",
       "      <td>1.000000</td>\n",
       "      <td>0.977282</td>\n",
       "      <td>0.978545</td>\n",
       "    </tr>\n",
       "    <tr>\n",
       "      <th>3</th>\n",
       "      <td>1.000</td>\n",
       "      <td>1.000000</td>\n",
       "      <td>1.000000</td>\n",
       "      <td>1.000000</td>\n",
       "      <td>0.991257</td>\n",
       "    </tr>\n",
       "  </tbody>\n",
       "</table>\n",
       "</div>"
      ],
      "text/plain": [
       "      accuracy_score                                        \n",
       "n_dim            10        50        100       200       300\n",
       "c                                                           \n",
       "1              0.959  0.974108  0.974108  0.937518  0.918398\n",
       "2              0.998  1.000000  1.000000  0.977282  0.978545\n",
       "3              1.000  1.000000  1.000000  1.000000  0.991257"
      ]
     },
     "execution_count": 17,
     "metadata": {},
     "output_type": "execute_result"
    }
   ],
   "source": [
    "f_no_bias_single_step_log10_01 = df_data.experiment_name == \"no_bias_single_step_log10_01\"\n",
    "df_ff = df_data[f_no_bias_single_step_log10_01].copy()\n",
    "df_ff[\"c\"] = df_ff.groupby(\"n_dim\")[[\"min_distance\"]].rank(\"dense\").astype(int)\n",
    "\n",
    "df_grouped = df_ff.groupby([\"n_dim\", \"c\", \"min_distance\"])[[\"accuracy_score\"]].mean().reset_index()\n",
    "df_grouped.pivot(index=[\"c\"], columns=[\"n_dim\"], values=[\"accuracy_score\"])"
   ]
  },
  {
   "cell_type": "markdown",
   "id": "5cb2ee39-72a7-4d61-ade6-8f0ffcde2ad9",
   "metadata": {},
   "source": [
    "### Impact of variance on single-step random walk\n",
    "---"
   ]
  },
  {
   "cell_type": "markdown",
   "id": "0ad4d6f6-c7ec-4e5e-9abb-aac1d96bd167",
   "metadata": {},
   "source": [
    "Experiment parameters:\n",
    "- $\\beta = 1$\n",
    "- Separation: $(3+\\log_{10}(k)) \\cdot k^{\\frac{1}{4}}$\n",
    "- Number of steps: 1\n",
    "- Variance: 2 or 3"
   ]
  },
  {
   "cell_type": "code",
   "execution_count": 18,
   "id": "a6d125f7-ba28-4bfe-9f51-a3ef430aa1d3",
   "metadata": {
    "jupyter": {
     "source_hidden": true
    },
    "tags": []
   },
   "outputs": [
    {
     "data": {
      "text/html": [
       "<div>\n",
       "<style scoped>\n",
       "    .dataframe tbody tr th:only-of-type {\n",
       "        vertical-align: middle;\n",
       "    }\n",
       "\n",
       "    .dataframe tbody tr th {\n",
       "        vertical-align: top;\n",
       "    }\n",
       "\n",
       "    .dataframe thead tr th {\n",
       "        text-align: left;\n",
       "    }\n",
       "\n",
       "    .dataframe thead tr:last-of-type th {\n",
       "        text-align: right;\n",
       "    }\n",
       "</style>\n",
       "<table border=\"1\" class=\"dataframe\">\n",
       "  <thead>\n",
       "    <tr>\n",
       "      <th></th>\n",
       "      <th colspan=\"5\" halign=\"left\">accuracy_score</th>\n",
       "    </tr>\n",
       "    <tr>\n",
       "      <th>n_dim</th>\n",
       "      <th>10</th>\n",
       "      <th>50</th>\n",
       "      <th>100</th>\n",
       "      <th>200</th>\n",
       "      <th>300</th>\n",
       "    </tr>\n",
       "    <tr>\n",
       "      <th>variance</th>\n",
       "      <th></th>\n",
       "      <th></th>\n",
       "      <th></th>\n",
       "      <th></th>\n",
       "      <th></th>\n",
       "    </tr>\n",
       "  </thead>\n",
       "  <tbody>\n",
       "    <tr>\n",
       "      <th>2.0</th>\n",
       "      <td>0.9972</td>\n",
       "      <td>0.992308</td>\n",
       "      <td>0.988235</td>\n",
       "      <td>0.992079</td>\n",
       "      <td>0.985586</td>\n",
       "    </tr>\n",
       "    <tr>\n",
       "      <th>3.0</th>\n",
       "      <td>0.9820</td>\n",
       "      <td>0.976923</td>\n",
       "      <td>0.966252</td>\n",
       "      <td>0.988158</td>\n",
       "      <td>0.949934</td>\n",
       "    </tr>\n",
       "    <tr>\n",
       "      <th>4.0</th>\n",
       "      <td>0.9372</td>\n",
       "      <td>0.949735</td>\n",
       "      <td>0.950788</td>\n",
       "      <td>0.963422</td>\n",
       "      <td>0.917478</td>\n",
       "    </tr>\n",
       "    <tr>\n",
       "      <th>5.0</th>\n",
       "      <td>0.8068</td>\n",
       "      <td>0.938558</td>\n",
       "      <td>0.937455</td>\n",
       "      <td>0.959959</td>\n",
       "      <td>0.910364</td>\n",
       "    </tr>\n",
       "    <tr>\n",
       "      <th>6.0</th>\n",
       "      <td>0.7556</td>\n",
       "      <td>0.913478</td>\n",
       "      <td>0.938948</td>\n",
       "      <td>0.926702</td>\n",
       "      <td>0.933630</td>\n",
       "    </tr>\n",
       "    <tr>\n",
       "      <th>8.0</th>\n",
       "      <td>0.5180</td>\n",
       "      <td>0.611773</td>\n",
       "      <td>0.835574</td>\n",
       "      <td>0.922784</td>\n",
       "      <td>0.875266</td>\n",
       "    </tr>\n",
       "    <tr>\n",
       "      <th>10.0</th>\n",
       "      <td>0.3832</td>\n",
       "      <td>0.304271</td>\n",
       "      <td>0.414623</td>\n",
       "      <td>0.696087</td>\n",
       "      <td>0.832353</td>\n",
       "    </tr>\n",
       "  </tbody>\n",
       "</table>\n",
       "</div>"
      ],
      "text/plain": [
       "         accuracy_score                                        \n",
       "n_dim               10        50        100       200       300\n",
       "variance                                                       \n",
       "2.0              0.9972  0.992308  0.988235  0.992079  0.985586\n",
       "3.0              0.9820  0.976923  0.966252  0.988158  0.949934\n",
       "4.0              0.9372  0.949735  0.950788  0.963422  0.917478\n",
       "5.0              0.8068  0.938558  0.937455  0.959959  0.910364\n",
       "6.0              0.7556  0.913478  0.938948  0.926702  0.933630\n",
       "8.0              0.5180  0.611773  0.835574  0.922784  0.875266\n",
       "10.0             0.3832  0.304271  0.414623  0.696087  0.832353"
      ]
     },
     "execution_count": 18,
     "metadata": {},
     "output_type": "execute_result"
    }
   ],
   "source": [
    "f_no_bias_single_step_var_01 = df_data.experiment_name == \"no_bias_single_step_var_01\"\n",
    "f_no_bias_single_step_var_02 = df_data.experiment_name == \"no_bias_single_step_var_02\"\n",
    "f_no_bias_single_step_var_03 = df_data.experiment_name == \"no_bias_single_step_var_03\"\n",
    "df_ff = df_data[f_no_bias_single_step_var_01 | f_no_bias_single_step_var_02 | f_no_bias_single_step_var_03].copy()\n",
    "\n",
    "df_grouped = df_ff.groupby([\"n_dim\", \"variance\"])[[\"accuracy_score\"]].mean().reset_index()\n",
    "df_grouped.pivot(index=[\"variance\"], columns=[\"n_dim\"], values=[\"accuracy_score\"])\n"
   ]
  },
  {
   "cell_type": "markdown",
   "id": "84331270-6374-4f71-b612-3e666cb42352",
   "metadata": {
    "tags": []
   },
   "source": [
    "### Impact of variance dependent separation on single-step random walk\n",
    "---"
   ]
  },
  {
   "cell_type": "markdown",
   "id": "10a2492b-0106-4c9f-b7a2-6a0109494a37",
   "metadata": {},
   "source": [
    "Experiment parameters:\n",
    "- $\\beta = 1$\n",
    "- Separation: $\\sqrt{\\sigma^2} \\cdot (3+\\log_{10}(k)) \\cdot k^{\\frac{1}{4}}$ \n",
    "- Number of steps: 1\n",
    "- Variance: 2 or 3"
   ]
  },
  {
   "cell_type": "code",
   "execution_count": 19,
   "id": "3124a7bd-649d-4d75-89e0-b13fa10b04ca",
   "metadata": {
    "jupyter": {
     "source_hidden": true
    },
    "tags": []
   },
   "outputs": [
    {
     "data": {
      "text/html": [
       "<div>\n",
       "<style scoped>\n",
       "    .dataframe tbody tr th:only-of-type {\n",
       "        vertical-align: middle;\n",
       "    }\n",
       "\n",
       "    .dataframe tbody tr th {\n",
       "        vertical-align: top;\n",
       "    }\n",
       "\n",
       "    .dataframe thead tr th {\n",
       "        text-align: left;\n",
       "    }\n",
       "\n",
       "    .dataframe thead tr:last-of-type th {\n",
       "        text-align: right;\n",
       "    }\n",
       "</style>\n",
       "<table border=\"1\" class=\"dataframe\">\n",
       "  <thead>\n",
       "    <tr>\n",
       "      <th></th>\n",
       "      <th colspan=\"4\" halign=\"left\">accuracy_score</th>\n",
       "    </tr>\n",
       "    <tr>\n",
       "      <th>n_dim</th>\n",
       "      <th>10</th>\n",
       "      <th>50</th>\n",
       "      <th>100</th>\n",
       "      <th>200</th>\n",
       "    </tr>\n",
       "    <tr>\n",
       "      <th>variance</th>\n",
       "      <th></th>\n",
       "      <th></th>\n",
       "      <th></th>\n",
       "      <th></th>\n",
       "    </tr>\n",
       "  </thead>\n",
       "  <tbody>\n",
       "    <tr>\n",
       "      <th>2.0</th>\n",
       "      <td>1.000000</td>\n",
       "      <td>0.987179</td>\n",
       "      <td>0.986928</td>\n",
       "      <td>0.995050</td>\n",
       "    </tr>\n",
       "    <tr>\n",
       "      <th>3.0</th>\n",
       "      <td>1.000000</td>\n",
       "      <td>0.974359</td>\n",
       "      <td>0.980392</td>\n",
       "      <td>0.985246</td>\n",
       "    </tr>\n",
       "    <tr>\n",
       "      <th>4.0</th>\n",
       "      <td>0.997000</td>\n",
       "      <td>0.925926</td>\n",
       "      <td>0.961894</td>\n",
       "      <td>0.970965</td>\n",
       "    </tr>\n",
       "    <tr>\n",
       "      <th>5.0</th>\n",
       "      <td>0.890857</td>\n",
       "      <td>0.908538</td>\n",
       "      <td>0.925134</td>\n",
       "      <td>0.961538</td>\n",
       "    </tr>\n",
       "    <tr>\n",
       "      <th>6.0</th>\n",
       "      <td>0.830668</td>\n",
       "      <td>0.899838</td>\n",
       "      <td>0.917508</td>\n",
       "      <td>0.943396</td>\n",
       "    </tr>\n",
       "    <tr>\n",
       "      <th>8.0</th>\n",
       "      <td>0.849037</td>\n",
       "      <td>0.775166</td>\n",
       "      <td>0.894757</td>\n",
       "      <td>0.916651</td>\n",
       "    </tr>\n",
       "    <tr>\n",
       "      <th>10.0</th>\n",
       "      <td>0.739699</td>\n",
       "      <td>0.664929</td>\n",
       "      <td>0.835639</td>\n",
       "      <td>0.961356</td>\n",
       "    </tr>\n",
       "  </tbody>\n",
       "</table>\n",
       "</div>"
      ],
      "text/plain": [
       "         accuracy_score                              \n",
       "n_dim               10        50        100       200\n",
       "variance                                             \n",
       "2.0            1.000000  0.987179  0.986928  0.995050\n",
       "3.0            1.000000  0.974359  0.980392  0.985246\n",
       "4.0            0.997000  0.925926  0.961894  0.970965\n",
       "5.0            0.890857  0.908538  0.925134  0.961538\n",
       "6.0            0.830668  0.899838  0.917508  0.943396\n",
       "8.0            0.849037  0.775166  0.894757  0.916651\n",
       "10.0           0.739699  0.664929  0.835639  0.961356"
      ]
     },
     "execution_count": 19,
     "metadata": {},
     "output_type": "execute_result"
    }
   ],
   "source": [
    "f_no_bias_single_step_var_05 = df_data.experiment_name == \"no_bias_single_step_var_05\"\n",
    "df_ff = df_data[f_no_bias_single_step_var_05].copy()\n",
    "\n",
    "df_grouped = df_ff.groupby([\"n_dim\", \"variance\"])[[\"accuracy_score\"]].mean().reset_index()\n",
    "df_grouped.pivot(index=[\"variance\"], columns=[\"n_dim\"], values=[\"accuracy_score\"])\n"
   ]
  },
  {
   "cell_type": "markdown",
   "id": "9d38a9e1-427f-4035-bbd0-f5725290f346",
   "metadata": {},
   "source": [
    "Experiment parameters:\n",
    "- $\\beta = 1$\n",
    "- Separation: $\\sigma^2 \\cdot (3+\\log_{10}(k)) \\cdot k^{\\frac{1}{4}}$ \n",
    "- Number of steps: 1\n",
    "- Variance: 2 or 3"
   ]
  },
  {
   "cell_type": "code",
   "execution_count": 20,
   "id": "c93163ce-fd6c-46fd-aca5-057e01f3682b",
   "metadata": {
    "jupyter": {
     "source_hidden": true
    },
    "tags": []
   },
   "outputs": [
    {
     "data": {
      "text/html": [
       "<div>\n",
       "<style scoped>\n",
       "    .dataframe tbody tr th:only-of-type {\n",
       "        vertical-align: middle;\n",
       "    }\n",
       "\n",
       "    .dataframe tbody tr th {\n",
       "        vertical-align: top;\n",
       "    }\n",
       "\n",
       "    .dataframe thead tr th {\n",
       "        text-align: left;\n",
       "    }\n",
       "\n",
       "    .dataframe thead tr:last-of-type th {\n",
       "        text-align: right;\n",
       "    }\n",
       "</style>\n",
       "<table border=\"1\" class=\"dataframe\">\n",
       "  <thead>\n",
       "    <tr>\n",
       "      <th></th>\n",
       "      <th colspan=\"5\" halign=\"left\">accuracy_score</th>\n",
       "    </tr>\n",
       "    <tr>\n",
       "      <th>n_dim</th>\n",
       "      <th>10</th>\n",
       "      <th>50</th>\n",
       "      <th>100</th>\n",
       "      <th>200</th>\n",
       "      <th>300</th>\n",
       "    </tr>\n",
       "    <tr>\n",
       "      <th>variance</th>\n",
       "      <th></th>\n",
       "      <th></th>\n",
       "      <th></th>\n",
       "      <th></th>\n",
       "      <th></th>\n",
       "    </tr>\n",
       "  </thead>\n",
       "  <tbody>\n",
       "    <tr>\n",
       "      <th>2.0</th>\n",
       "      <td>1.000000</td>\n",
       "      <td>1.000000</td>\n",
       "      <td>0.992157</td>\n",
       "      <td>0.994059</td>\n",
       "      <td>0.995033</td>\n",
       "    </tr>\n",
       "    <tr>\n",
       "      <th>3.0</th>\n",
       "      <td>1.000000</td>\n",
       "      <td>0.969231</td>\n",
       "      <td>0.980392</td>\n",
       "      <td>0.984275</td>\n",
       "      <td>0.990110</td>\n",
       "    </tr>\n",
       "    <tr>\n",
       "      <th>4.0</th>\n",
       "      <td>0.996800</td>\n",
       "      <td>0.954416</td>\n",
       "      <td>0.947301</td>\n",
       "      <td>0.953162</td>\n",
       "      <td>0.970965</td>\n",
       "    </tr>\n",
       "    <tr>\n",
       "      <th>5.0</th>\n",
       "      <td>0.957648</td>\n",
       "      <td>0.933557</td>\n",
       "      <td>0.936303</td>\n",
       "      <td>0.935168</td>\n",
       "      <td>0.955608</td>\n",
       "    </tr>\n",
       "    <tr>\n",
       "      <th>6.0</th>\n",
       "      <td>0.984000</td>\n",
       "      <td>0.922816</td>\n",
       "      <td>0.899661</td>\n",
       "      <td>0.901946</td>\n",
       "      <td>0.930757</td>\n",
       "    </tr>\n",
       "    <tr>\n",
       "      <th>8.0</th>\n",
       "      <td>0.782597</td>\n",
       "      <td>0.769555</td>\n",
       "      <td>0.832886</td>\n",
       "      <td>0.832215</td>\n",
       "      <td>0.863704</td>\n",
       "    </tr>\n",
       "    <tr>\n",
       "      <th>10.0</th>\n",
       "      <td>0.658039</td>\n",
       "      <td>0.524121</td>\n",
       "      <td>0.671260</td>\n",
       "      <td>0.790536</td>\n",
       "      <td>0.751356</td>\n",
       "    </tr>\n",
       "  </tbody>\n",
       "</table>\n",
       "</div>"
      ],
      "text/plain": [
       "         accuracy_score                                        \n",
       "n_dim               10        50        100       200       300\n",
       "variance                                                       \n",
       "2.0            1.000000  1.000000  0.992157  0.994059  0.995033\n",
       "3.0            1.000000  0.969231  0.980392  0.984275  0.990110\n",
       "4.0            0.996800  0.954416  0.947301  0.953162  0.970965\n",
       "5.0            0.957648  0.933557  0.936303  0.935168  0.955608\n",
       "6.0            0.984000  0.922816  0.899661  0.901946  0.930757\n",
       "8.0            0.782597  0.769555  0.832886  0.832215  0.863704\n",
       "10.0           0.658039  0.524121  0.671260  0.790536  0.751356"
      ]
     },
     "execution_count": 20,
     "metadata": {},
     "output_type": "execute_result"
    }
   ],
   "source": [
    "f_no_bias_single_step_var_04 = df_data.experiment_name == \"no_bias_single_step_var_04\"\n",
    "df_ff = df_data[f_no_bias_single_step_var_04].copy()\n",
    "\n",
    "df_grouped = df_ff.groupby([\"n_dim\", \"variance\", \"min_distance\"])[[\"accuracy_score\"]].mean().reset_index()\n",
    "df_grouped.pivot(index=[\"variance\"], columns=[\"n_dim\"], values=[\"accuracy_score\"])\n"
   ]
  },
  {
   "cell_type": "markdown",
   "id": "350509d7-efa3-4501-aafd-b979d34beb5b",
   "metadata": {},
   "source": [
    "Experiment parameters:\n",
    "- $\\beta = 1$\n",
    "- Separation: $\\left( \\sigma^2 + k^{\\frac{1}{64}} \\right) \\cdot (3+\\log_{10}(k)) \\cdot k^{\\frac{1}{4}}$ \n",
    "- Number of steps: 1\n",
    "- Variance: 2 or 3"
   ]
  },
  {
   "cell_type": "code",
   "execution_count": 21,
   "id": "89d7571f-4721-41b9-a769-d6001d1e9aaa",
   "metadata": {
    "jupyter": {
     "source_hidden": true
    },
    "tags": []
   },
   "outputs": [
    {
     "data": {
      "text/html": [
       "<div>\n",
       "<style scoped>\n",
       "    .dataframe tbody tr th:only-of-type {\n",
       "        vertical-align: middle;\n",
       "    }\n",
       "\n",
       "    .dataframe tbody tr th {\n",
       "        vertical-align: top;\n",
       "    }\n",
       "\n",
       "    .dataframe thead tr th {\n",
       "        text-align: left;\n",
       "    }\n",
       "\n",
       "    .dataframe thead tr:last-of-type th {\n",
       "        text-align: right;\n",
       "    }\n",
       "</style>\n",
       "<table border=\"1\" class=\"dataframe\">\n",
       "  <thead>\n",
       "    <tr>\n",
       "      <th></th>\n",
       "      <th colspan=\"3\" halign=\"left\">accuracy_score</th>\n",
       "    </tr>\n",
       "    <tr>\n",
       "      <th>n_dim</th>\n",
       "      <th>10</th>\n",
       "      <th>50</th>\n",
       "      <th>100</th>\n",
       "    </tr>\n",
       "    <tr>\n",
       "      <th>variance</th>\n",
       "      <th></th>\n",
       "      <th></th>\n",
       "      <th></th>\n",
       "    </tr>\n",
       "  </thead>\n",
       "  <tbody>\n",
       "    <tr>\n",
       "      <th>2.0</th>\n",
       "      <td>1.000000</td>\n",
       "      <td>0.980769</td>\n",
       "      <td>NaN</td>\n",
       "    </tr>\n",
       "    <tr>\n",
       "      <th>3.0</th>\n",
       "      <td>1.000000</td>\n",
       "      <td>0.927198</td>\n",
       "      <td>0.980392</td>\n",
       "    </tr>\n",
       "    <tr>\n",
       "      <th>4.0</th>\n",
       "      <td>1.000000</td>\n",
       "      <td>0.927198</td>\n",
       "      <td>NaN</td>\n",
       "    </tr>\n",
       "    <tr>\n",
       "      <th>5.0</th>\n",
       "      <td>0.992000</td>\n",
       "      <td>0.959278</td>\n",
       "      <td>NaN</td>\n",
       "    </tr>\n",
       "    <tr>\n",
       "      <th>6.0</th>\n",
       "      <td>1.000000</td>\n",
       "      <td>0.883440</td>\n",
       "      <td>NaN</td>\n",
       "    </tr>\n",
       "    <tr>\n",
       "      <th>8.0</th>\n",
       "      <td>0.661631</td>\n",
       "      <td>0.717004</td>\n",
       "      <td>NaN</td>\n",
       "    </tr>\n",
       "    <tr>\n",
       "      <th>10.0</th>\n",
       "      <td>0.765650</td>\n",
       "      <td>0.490675</td>\n",
       "      <td>NaN</td>\n",
       "    </tr>\n",
       "  </tbody>\n",
       "</table>\n",
       "</div>"
      ],
      "text/plain": [
       "         accuracy_score                    \n",
       "n_dim               10        50        100\n",
       "variance                                   \n",
       "2.0            1.000000  0.980769       NaN\n",
       "3.0            1.000000  0.927198  0.980392\n",
       "4.0            1.000000  0.927198       NaN\n",
       "5.0            0.992000  0.959278       NaN\n",
       "6.0            1.000000  0.883440       NaN\n",
       "8.0            0.661631  0.717004       NaN\n",
       "10.0           0.765650  0.490675       NaN"
      ]
     },
     "execution_count": 21,
     "metadata": {},
     "output_type": "execute_result"
    }
   ],
   "source": [
    "f_no_bias_single_step_var_06 = df_data.experiment_name == \"no_bias_single_step_var_06\"\n",
    "df_ff = df_data[f_no_bias_single_step_var_06].copy()\n",
    "\n",
    "df_grouped = df_ff.groupby([\"n_dim\", \"variance\", \"min_distance\"])[[\"accuracy_score\"]].mean().reset_index()\n",
    "df_grouped.pivot(index=[\"variance\"], columns=[\"n_dim\"], values=[\"accuracy_score\"])"
   ]
  },
  {
   "cell_type": "markdown",
   "id": "52f40a9a-d29a-4e72-a779-a8320b456879",
   "metadata": {},
   "source": [
    "Experiment parameters:\n",
    "- $\\beta = 1$\n",
    "- Separation: $\\left( \\sigma^2 + k^{\\frac{1}{4}} \\right) \\cdot (3+\\log_{10}(k)) \\cdot k^{\\frac{1}{4}}$ \n",
    "- Number of steps: 1\n",
    "- Variance: 2 or 3"
   ]
  },
  {
   "cell_type": "code",
   "execution_count": 22,
   "id": "49f18b6b-56e1-49f0-b33d-c0f05d1b8cbf",
   "metadata": {},
   "outputs": [
    {
     "data": {
      "text/html": [
       "<div>\n",
       "<style scoped>\n",
       "    .dataframe tbody tr th:only-of-type {\n",
       "        vertical-align: middle;\n",
       "    }\n",
       "\n",
       "    .dataframe tbody tr th {\n",
       "        vertical-align: top;\n",
       "    }\n",
       "\n",
       "    .dataframe thead tr th {\n",
       "        text-align: left;\n",
       "    }\n",
       "\n",
       "    .dataframe thead tr:last-of-type th {\n",
       "        text-align: right;\n",
       "    }\n",
       "</style>\n",
       "<table border=\"1\" class=\"dataframe\">\n",
       "  <thead>\n",
       "    <tr>\n",
       "      <th></th>\n",
       "      <th colspan=\"3\" halign=\"left\">accuracy_score</th>\n",
       "    </tr>\n",
       "    <tr>\n",
       "      <th>n_dim</th>\n",
       "      <th>10</th>\n",
       "      <th>50</th>\n",
       "      <th>100</th>\n",
       "    </tr>\n",
       "    <tr>\n",
       "      <th>variance</th>\n",
       "      <th></th>\n",
       "      <th></th>\n",
       "      <th></th>\n",
       "    </tr>\n",
       "  </thead>\n",
       "  <tbody>\n",
       "    <tr>\n",
       "      <th>2.0</th>\n",
       "      <td>1.000000</td>\n",
       "      <td>1.000000</td>\n",
       "      <td>0.990196</td>\n",
       "    </tr>\n",
       "    <tr>\n",
       "      <th>3.0</th>\n",
       "      <td>0.999000</td>\n",
       "      <td>0.961538</td>\n",
       "      <td>0.971698</td>\n",
       "    </tr>\n",
       "    <tr>\n",
       "      <th>4.0</th>\n",
       "      <td>1.000000</td>\n",
       "      <td>0.911334</td>\n",
       "      <td>0.943732</td>\n",
       "    </tr>\n",
       "    <tr>\n",
       "      <th>5.0</th>\n",
       "      <td>1.000000</td>\n",
       "      <td>0.960032</td>\n",
       "      <td>0.970965</td>\n",
       "    </tr>\n",
       "    <tr>\n",
       "      <th>6.0</th>\n",
       "      <td>0.990000</td>\n",
       "      <td>0.852173</td>\n",
       "      <td>0.869108</td>\n",
       "    </tr>\n",
       "    <tr>\n",
       "      <th>8.0</th>\n",
       "      <td>0.807636</td>\n",
       "      <td>0.723138</td>\n",
       "      <td>0.797581</td>\n",
       "    </tr>\n",
       "    <tr>\n",
       "      <th>10.0</th>\n",
       "      <td>0.742236</td>\n",
       "      <td>0.436523</td>\n",
       "      <td>0.742091</td>\n",
       "    </tr>\n",
       "  </tbody>\n",
       "</table>\n",
       "</div>"
      ],
      "text/plain": [
       "         accuracy_score                    \n",
       "n_dim               10        50        100\n",
       "variance                                   \n",
       "2.0            1.000000  1.000000  0.990196\n",
       "3.0            0.999000  0.961538  0.971698\n",
       "4.0            1.000000  0.911334  0.943732\n",
       "5.0            1.000000  0.960032  0.970965\n",
       "6.0            0.990000  0.852173  0.869108\n",
       "8.0            0.807636  0.723138  0.797581\n",
       "10.0           0.742236  0.436523  0.742091"
      ]
     },
     "execution_count": 22,
     "metadata": {},
     "output_type": "execute_result"
    }
   ],
   "source": [
    "f_no_bias_single_step_var_07 = df_data.experiment_name == \"no_bias_single_step_var_07\"\n",
    "df_ff = df_data[f_no_bias_single_step_var_07].copy()\n",
    "\n",
    "df_grouped = df_ff.groupby([\"n_dim\", \"variance\", \"min_distance\"])[[\"accuracy_score\"]].mean().reset_index()\n",
    "df_grouped.pivot(index=[\"variance\"], columns=[\"n_dim\"], values=[\"accuracy_score\"])"
   ]
  },
  {
   "cell_type": "markdown",
   "id": "61c956cb-2d35-4149-874e-63cdb5efd60e",
   "metadata": {},
   "source": [
    "Experiment parameters:\n",
    "- $\\beta = 1$\n",
    "- Separation: $\\left( \\sigma^2 + k^{\\frac{1}{2}} \\right) \\cdot (3+\\log_{10}(k)) \\cdot k^{\\frac{1}{4}}$ \n",
    "- Number of steps: 1\n",
    "- Variance: 2 or 3"
   ]
  },
  {
   "cell_type": "code",
   "execution_count": 23,
   "id": "adbcbe3b-d3d4-4446-82b8-3b6719475fcd",
   "metadata": {},
   "outputs": [
    {
     "data": {
      "text/html": [
       "<div>\n",
       "<style scoped>\n",
       "    .dataframe tbody tr th:only-of-type {\n",
       "        vertical-align: middle;\n",
       "    }\n",
       "\n",
       "    .dataframe tbody tr th {\n",
       "        vertical-align: top;\n",
       "    }\n",
       "\n",
       "    .dataframe thead tr th {\n",
       "        text-align: left;\n",
       "    }\n",
       "\n",
       "    .dataframe thead tr:last-of-type th {\n",
       "        text-align: right;\n",
       "    }\n",
       "</style>\n",
       "<table border=\"1\" class=\"dataframe\">\n",
       "  <thead>\n",
       "    <tr>\n",
       "      <th></th>\n",
       "      <th colspan=\"3\" halign=\"left\">accuracy_score</th>\n",
       "    </tr>\n",
       "    <tr>\n",
       "      <th>n_dim</th>\n",
       "      <th>10</th>\n",
       "      <th>50</th>\n",
       "      <th>100</th>\n",
       "    </tr>\n",
       "    <tr>\n",
       "      <th>variance</th>\n",
       "      <th></th>\n",
       "      <th></th>\n",
       "      <th></th>\n",
       "    </tr>\n",
       "  </thead>\n",
       "  <tbody>\n",
       "    <tr>\n",
       "      <th>2.0</th>\n",
       "      <td>1.000</td>\n",
       "      <td>0.980769</td>\n",
       "      <td>1.000000</td>\n",
       "    </tr>\n",
       "    <tr>\n",
       "      <th>3.0</th>\n",
       "      <td>1.000</td>\n",
       "      <td>0.961538</td>\n",
       "      <td>0.980392</td>\n",
       "    </tr>\n",
       "    <tr>\n",
       "      <th>4.0</th>\n",
       "      <td>1.000</td>\n",
       "      <td>0.926701</td>\n",
       "      <td>0.943396</td>\n",
       "    </tr>\n",
       "    <tr>\n",
       "      <th>5.0</th>\n",
       "      <td>0.992</td>\n",
       "      <td>0.889392</td>\n",
       "      <td>0.892201</td>\n",
       "    </tr>\n",
       "    <tr>\n",
       "      <th>6.0</th>\n",
       "      <td>0.940</td>\n",
       "      <td>0.908008</td>\n",
       "      <td>0.890972</td>\n",
       "    </tr>\n",
       "    <tr>\n",
       "      <th>8.0</th>\n",
       "      <td>0.972</td>\n",
       "      <td>0.845765</td>\n",
       "      <td>0.861004</td>\n",
       "    </tr>\n",
       "    <tr>\n",
       "      <th>10.0</th>\n",
       "      <td>0.748</td>\n",
       "      <td>0.493857</td>\n",
       "      <td>0.826290</td>\n",
       "    </tr>\n",
       "  </tbody>\n",
       "</table>\n",
       "</div>"
      ],
      "text/plain": [
       "         accuracy_score                    \n",
       "n_dim               10        50        100\n",
       "variance                                   \n",
       "2.0               1.000  0.980769  1.000000\n",
       "3.0               1.000  0.961538  0.980392\n",
       "4.0               1.000  0.926701  0.943396\n",
       "5.0               0.992  0.889392  0.892201\n",
       "6.0               0.940  0.908008  0.890972\n",
       "8.0               0.972  0.845765  0.861004\n",
       "10.0              0.748  0.493857  0.826290"
      ]
     },
     "execution_count": 23,
     "metadata": {},
     "output_type": "execute_result"
    }
   ],
   "source": [
    "f_no_bias_single_step_var_08 = df_data.experiment_name == \"no_bias_single_step_var_08\"\n",
    "df_ff = df_data[f_no_bias_single_step_var_08].copy()\n",
    "\n",
    "df_grouped = df_ff.groupby([\"n_dim\", \"variance\", \"min_distance\"])[[\"accuracy_score\"]].mean().reset_index()\n",
    "df_grouped.pivot(index=[\"variance\"], columns=[\"n_dim\"], values=[\"accuracy_score\"])"
   ]
  },
  {
   "cell_type": "markdown",
   "id": "f58beb50-abd8-4bf3-9c97-43eea010cc5f",
   "metadata": {},
   "source": [
    "Experiment parameters:\n",
    "- $\\beta = 1$\n",
    "- Separation: $\\left( \\sigma^2 + k \\right) \\cdot (3+\\log_{10}(k)) \\cdot k^{\\frac{1}{4}}$ \n",
    "- Number of steps: 1\n",
    "- Variance: 2 or 3"
   ]
  },
  {
   "cell_type": "code",
   "execution_count": 24,
   "id": "69b41f51-b33a-44c5-8f14-df6e1db547c8",
   "metadata": {},
   "outputs": [
    {
     "data": {
      "text/html": [
       "<div>\n",
       "<style scoped>\n",
       "    .dataframe tbody tr th:only-of-type {\n",
       "        vertical-align: middle;\n",
       "    }\n",
       "\n",
       "    .dataframe tbody tr th {\n",
       "        vertical-align: top;\n",
       "    }\n",
       "\n",
       "    .dataframe thead tr th {\n",
       "        text-align: left;\n",
       "    }\n",
       "\n",
       "    .dataframe thead tr:last-of-type th {\n",
       "        text-align: right;\n",
       "    }\n",
       "</style>\n",
       "<table border=\"1\" class=\"dataframe\">\n",
       "  <thead>\n",
       "    <tr>\n",
       "      <th></th>\n",
       "      <th colspan=\"3\" halign=\"left\">accuracy_score</th>\n",
       "    </tr>\n",
       "    <tr>\n",
       "      <th>n_dim</th>\n",
       "      <th>10</th>\n",
       "      <th>50</th>\n",
       "      <th>100</th>\n",
       "    </tr>\n",
       "    <tr>\n",
       "      <th>variance</th>\n",
       "      <th></th>\n",
       "      <th></th>\n",
       "      <th></th>\n",
       "    </tr>\n",
       "  </thead>\n",
       "  <tbody>\n",
       "    <tr>\n",
       "      <th>2.0</th>\n",
       "      <td>1.000000</td>\n",
       "      <td>0.987179</td>\n",
       "      <td>1.000000</td>\n",
       "    </tr>\n",
       "    <tr>\n",
       "      <th>3.0</th>\n",
       "      <td>1.000000</td>\n",
       "      <td>0.974359</td>\n",
       "      <td>0.961776</td>\n",
       "    </tr>\n",
       "    <tr>\n",
       "      <th>4.0</th>\n",
       "      <td>0.996667</td>\n",
       "      <td>0.951465</td>\n",
       "      <td>0.943620</td>\n",
       "    </tr>\n",
       "    <tr>\n",
       "      <th>5.0</th>\n",
       "      <td>1.000000</td>\n",
       "      <td>0.961287</td>\n",
       "      <td>0.921552</td>\n",
       "    </tr>\n",
       "    <tr>\n",
       "      <th>6.0</th>\n",
       "      <td>0.978000</td>\n",
       "      <td>0.860185</td>\n",
       "      <td>0.890950</td>\n",
       "    </tr>\n",
       "    <tr>\n",
       "      <th>8.0</th>\n",
       "      <td>0.756329</td>\n",
       "      <td>0.832100</td>\n",
       "      <td>0.859827</td>\n",
       "    </tr>\n",
       "    <tr>\n",
       "      <th>10.0</th>\n",
       "      <td>0.772418</td>\n",
       "      <td>0.564202</td>\n",
       "      <td>0.751987</td>\n",
       "    </tr>\n",
       "  </tbody>\n",
       "</table>\n",
       "</div>"
      ],
      "text/plain": [
       "         accuracy_score                    \n",
       "n_dim               10        50        100\n",
       "variance                                   \n",
       "2.0            1.000000  0.987179  1.000000\n",
       "3.0            1.000000  0.974359  0.961776\n",
       "4.0            0.996667  0.951465  0.943620\n",
       "5.0            1.000000  0.961287  0.921552\n",
       "6.0            0.978000  0.860185  0.890950\n",
       "8.0            0.756329  0.832100  0.859827\n",
       "10.0           0.772418  0.564202  0.751987"
      ]
     },
     "execution_count": 24,
     "metadata": {},
     "output_type": "execute_result"
    }
   ],
   "source": [
    "f_no_bias_single_step_var_09 = df_data.experiment_name == \"no_bias_single_step_var_09\"\n",
    "df_ff = df_data[f_no_bias_single_step_var_09].copy()\n",
    "\n",
    "df_grouped = df_ff.groupby([\"n_dim\", \"variance\", \"min_distance\"])[[\"accuracy_score\"]].mean().reset_index()\n",
    "df_grouped.pivot(index=[\"variance\"], columns=[\"n_dim\"], values=[\"accuracy_score\"])"
   ]
  },
  {
   "cell_type": "code",
   "execution_count": 25,
   "id": "df161144-40d8-4b5a-ae7d-0e8eee34b5c2",
   "metadata": {},
   "outputs": [
    {
     "data": {
      "text/html": [
       "<div>\n",
       "<style scoped>\n",
       "    .dataframe tbody tr th:only-of-type {\n",
       "        vertical-align: middle;\n",
       "    }\n",
       "\n",
       "    .dataframe tbody tr th {\n",
       "        vertical-align: top;\n",
       "    }\n",
       "\n",
       "    .dataframe thead tr th {\n",
       "        text-align: left;\n",
       "    }\n",
       "\n",
       "    .dataframe thead tr:last-of-type th {\n",
       "        text-align: right;\n",
       "    }\n",
       "</style>\n",
       "<table border=\"1\" class=\"dataframe\">\n",
       "  <thead>\n",
       "    <tr>\n",
       "      <th></th>\n",
       "      <th colspan=\"3\" halign=\"left\">accuracy_score</th>\n",
       "    </tr>\n",
       "    <tr>\n",
       "      <th>n_dim</th>\n",
       "      <th>10</th>\n",
       "      <th>50</th>\n",
       "      <th>100</th>\n",
       "    </tr>\n",
       "    <tr>\n",
       "      <th>n_steps</th>\n",
       "      <th></th>\n",
       "      <th></th>\n",
       "      <th></th>\n",
       "    </tr>\n",
       "  </thead>\n",
       "  <tbody>\n",
       "    <tr>\n",
       "      <th>2</th>\n",
       "      <td>0.872296</td>\n",
       "      <td>0.867273</td>\n",
       "      <td>0.958882</td>\n",
       "    </tr>\n",
       "    <tr>\n",
       "      <th>3</th>\n",
       "      <td>0.879143</td>\n",
       "      <td>0.949674</td>\n",
       "      <td>0.991319</td>\n",
       "    </tr>\n",
       "    <tr>\n",
       "      <th>4</th>\n",
       "      <td>0.899429</td>\n",
       "      <td>0.981905</td>\n",
       "      <td>1.000000</td>\n",
       "    </tr>\n",
       "    <tr>\n",
       "      <th>5</th>\n",
       "      <td>0.944000</td>\n",
       "      <td>0.982685</td>\n",
       "      <td>1.000000</td>\n",
       "    </tr>\n",
       "    <tr>\n",
       "      <th>7</th>\n",
       "      <td>0.963714</td>\n",
       "      <td>0.999886</td>\n",
       "      <td>1.000000</td>\n",
       "    </tr>\n",
       "    <tr>\n",
       "      <th>10</th>\n",
       "      <td>0.978286</td>\n",
       "      <td>1.000000</td>\n",
       "      <td>1.000000</td>\n",
       "    </tr>\n",
       "  </tbody>\n",
       "</table>\n",
       "</div>"
      ],
      "text/plain": [
       "        accuracy_score                    \n",
       "n_dim              10        50        100\n",
       "n_steps                                   \n",
       "2             0.872296  0.867273  0.958882\n",
       "3             0.879143  0.949674  0.991319\n",
       "4             0.899429  0.981905  1.000000\n",
       "5             0.944000  0.982685  1.000000\n",
       "7             0.963714  0.999886  1.000000\n",
       "10            0.978286  1.000000  1.000000"
      ]
     },
     "execution_count": 25,
     "metadata": {},
     "output_type": "execute_result"
    }
   ],
   "source": [
    "f_no_bias_multi_step_var_01 = df_data.experiment_name == \"no_bias_multi_step_var_01\"\n",
    "df_ff = df_data[f_no_bias_multi_step_var_01].copy()\n",
    "\n",
    "df_grouped = df_ff.groupby([\"n_dim\", \"n_steps\"])[[\"accuracy_score\"]].mean().reset_index()\n",
    "df_grouped.pivot(index=[\"n_steps\"], columns=[\"n_dim\"], values=[\"accuracy_score\"])"
   ]
  },
  {
   "cell_type": "code",
   "execution_count": 26,
   "id": "a29b9ebc-de4f-4079-b860-d1e6633a2dc5",
   "metadata": {},
   "outputs": [
    {
     "data": {
      "text/html": [
       "<div>\n",
       "<style scoped>\n",
       "    .dataframe tbody tr th:only-of-type {\n",
       "        vertical-align: middle;\n",
       "    }\n",
       "\n",
       "    .dataframe tbody tr th {\n",
       "        vertical-align: top;\n",
       "    }\n",
       "\n",
       "    .dataframe thead tr th {\n",
       "        text-align: left;\n",
       "    }\n",
       "\n",
       "    .dataframe thead tr:last-of-type th {\n",
       "        text-align: right;\n",
       "    }\n",
       "</style>\n",
       "<table border=\"1\" class=\"dataframe\">\n",
       "  <thead>\n",
       "    <tr>\n",
       "      <th></th>\n",
       "      <th colspan=\"3\" halign=\"left\">accuracy_score</th>\n",
       "    </tr>\n",
       "    <tr>\n",
       "      <th>n_dim</th>\n",
       "      <th>10</th>\n",
       "      <th>50</th>\n",
       "      <th>100</th>\n",
       "    </tr>\n",
       "    <tr>\n",
       "      <th>n_steps</th>\n",
       "      <th></th>\n",
       "      <th></th>\n",
       "      <th></th>\n",
       "    </tr>\n",
       "  </thead>\n",
       "  <tbody>\n",
       "    <tr>\n",
       "      <th>2</th>\n",
       "      <td>0.83455</td>\n",
       "      <td>0.910974</td>\n",
       "      <td>0.942788</td>\n",
       "    </tr>\n",
       "    <tr>\n",
       "      <th>3</th>\n",
       "      <td>0.90080</td>\n",
       "      <td>0.959777</td>\n",
       "      <td>0.983151</td>\n",
       "    </tr>\n",
       "    <tr>\n",
       "      <th>4</th>\n",
       "      <td>0.95840</td>\n",
       "      <td>0.988844</td>\n",
       "      <td>1.000000</td>\n",
       "    </tr>\n",
       "    <tr>\n",
       "      <th>5</th>\n",
       "      <td>0.91440</td>\n",
       "      <td>0.999840</td>\n",
       "      <td>1.000000</td>\n",
       "    </tr>\n",
       "    <tr>\n",
       "      <th>7</th>\n",
       "      <td>0.94800</td>\n",
       "      <td>1.000000</td>\n",
       "      <td>1.000000</td>\n",
       "    </tr>\n",
       "    <tr>\n",
       "      <th>10</th>\n",
       "      <td>0.96280</td>\n",
       "      <td>1.000000</td>\n",
       "      <td>1.000000</td>\n",
       "    </tr>\n",
       "  </tbody>\n",
       "</table>\n",
       "</div>"
      ],
      "text/plain": [
       "        accuracy_score                    \n",
       "n_dim              10        50        100\n",
       "n_steps                                   \n",
       "2              0.83455  0.910974  0.942788\n",
       "3              0.90080  0.959777  0.983151\n",
       "4              0.95840  0.988844  1.000000\n",
       "5              0.91440  0.999840  1.000000\n",
       "7              0.94800  1.000000  1.000000\n",
       "10             0.96280  1.000000  1.000000"
      ]
     },
     "execution_count": 26,
     "metadata": {},
     "output_type": "execute_result"
    }
   ],
   "source": [
    "f_no_bias_multi_step_var_02 = df_data.experiment_name == \"no_bias_multi_step_var_02\"\n",
    "f_no_bias_multi_step_var_03 = df_data.experiment_name == \"no_bias_multi_step_var_03\"\n",
    "df_ff = df_data[f_no_bias_multi_step_var_02 | f_no_bias_multi_step_var_03].copy()\n",
    "\n",
    "df_grouped = df_ff.groupby([\"n_dim\", \"n_steps\"])[[\"accuracy_score\"]].mean().reset_index()\n",
    "df_grouped.pivot(index=[\"n_steps\"], columns=[\"n_dim\"], values=[\"accuracy_score\"])"
   ]
  },
  {
   "cell_type": "code",
   "execution_count": null,
   "id": "4a7e7076-9ebc-422b-b66b-36e81f05977e",
   "metadata": {},
   "outputs": [],
   "source": []
  },
  {
   "cell_type": "markdown",
   "id": "eb703850-ba0d-4181-bcaf-3dcee15efa19",
   "metadata": {
    "tags": []
   },
   "source": [
    "## Use of labelling information $\\beta > 1$\n",
    "---"
   ]
  },
  {
   "cell_type": "markdown",
   "id": "25a2f5b4-c772-4b84-92d4-42c4668cd7fe",
   "metadata": {
    "jp-MarkdownHeadingCollapsed": true,
    "tags": []
   },
   "source": [
    "### Impact of small $\\beta$ on low constant separation"
   ]
  },
  {
   "cell_type": "markdown",
   "id": "3ebbebd7-0ca3-4f74-8d8f-e44483545597",
   "metadata": {},
   "source": [
    "Experiment parameters:\n",
    "- $\\beta = k^{\\frac{1}{m}}$ where $m = \\{ 512, 256, 128, 64, 32, 16, 8, 4 \\}$\n",
    "- Number of steps: 10\n",
    "- Separation: 2\n"
   ]
  },
  {
   "cell_type": "code",
   "execution_count": 27,
   "id": "115fb5e8-7b7f-4908-a30b-455f53e7a3b2",
   "metadata": {
    "jupyter": {
     "source_hidden": true
    },
    "tags": []
   },
   "outputs": [
    {
     "data": {
      "text/html": [
       "<div>\n",
       "<style scoped>\n",
       "    .dataframe tbody tr th:only-of-type {\n",
       "        vertical-align: middle;\n",
       "    }\n",
       "\n",
       "    .dataframe tbody tr th {\n",
       "        vertical-align: top;\n",
       "    }\n",
       "\n",
       "    .dataframe thead tr th {\n",
       "        text-align: left;\n",
       "    }\n",
       "\n",
       "    .dataframe thead tr:last-of-type th {\n",
       "        text-align: right;\n",
       "    }\n",
       "</style>\n",
       "<table border=\"1\" class=\"dataframe\">\n",
       "  <thead>\n",
       "    <tr>\n",
       "      <th></th>\n",
       "      <th colspan=\"6\" halign=\"left\">accuracy_score</th>\n",
       "    </tr>\n",
       "    <tr>\n",
       "      <th>n_dim</th>\n",
       "      <th>10</th>\n",
       "      <th>50</th>\n",
       "      <th>100</th>\n",
       "      <th>200</th>\n",
       "      <th>250</th>\n",
       "      <th>300</th>\n",
       "    </tr>\n",
       "    <tr>\n",
       "      <th>m</th>\n",
       "      <th></th>\n",
       "      <th></th>\n",
       "      <th></th>\n",
       "      <th></th>\n",
       "      <th></th>\n",
       "      <th></th>\n",
       "    </tr>\n",
       "  </thead>\n",
       "  <tbody>\n",
       "    <tr>\n",
       "      <th>4</th>\n",
       "      <td>1.0</td>\n",
       "      <td>1.0</td>\n",
       "      <td>1.0</td>\n",
       "      <td>1.0</td>\n",
       "      <td>1.0</td>\n",
       "      <td>1.0</td>\n",
       "    </tr>\n",
       "    <tr>\n",
       "      <th>5</th>\n",
       "      <td>1.0</td>\n",
       "      <td>1.0</td>\n",
       "      <td>1.0</td>\n",
       "      <td>1.0</td>\n",
       "      <td>1.0</td>\n",
       "      <td>1.0</td>\n",
       "    </tr>\n",
       "    <tr>\n",
       "      <th>6</th>\n",
       "      <td>1.0</td>\n",
       "      <td>1.0</td>\n",
       "      <td>1.0</td>\n",
       "      <td>1.0</td>\n",
       "      <td>1.0</td>\n",
       "      <td>1.0</td>\n",
       "    </tr>\n",
       "    <tr>\n",
       "      <th>7</th>\n",
       "      <td>1.0</td>\n",
       "      <td>1.0</td>\n",
       "      <td>1.0</td>\n",
       "      <td>1.0</td>\n",
       "      <td>1.0</td>\n",
       "      <td>1.0</td>\n",
       "    </tr>\n",
       "    <tr>\n",
       "      <th>8</th>\n",
       "      <td>1.0</td>\n",
       "      <td>1.0</td>\n",
       "      <td>1.0</td>\n",
       "      <td>1.0</td>\n",
       "      <td>1.0</td>\n",
       "      <td>1.0</td>\n",
       "    </tr>\n",
       "    <tr>\n",
       "      <th>9</th>\n",
       "      <td>1.0</td>\n",
       "      <td>1.0</td>\n",
       "      <td>1.0</td>\n",
       "      <td>1.0</td>\n",
       "      <td>1.0</td>\n",
       "      <td>1.0</td>\n",
       "    </tr>\n",
       "    <tr>\n",
       "      <th>10</th>\n",
       "      <td>1.0</td>\n",
       "      <td>1.0</td>\n",
       "      <td>1.0</td>\n",
       "      <td>1.0</td>\n",
       "      <td>1.0</td>\n",
       "      <td>1.0</td>\n",
       "    </tr>\n",
       "    <tr>\n",
       "      <th>11</th>\n",
       "      <td>1.0</td>\n",
       "      <td>1.0</td>\n",
       "      <td>1.0</td>\n",
       "      <td>1.0</td>\n",
       "      <td>1.0</td>\n",
       "      <td>1.0</td>\n",
       "    </tr>\n",
       "  </tbody>\n",
       "</table>\n",
       "</div>"
      ],
      "text/plain": [
       "      accuracy_score                         \n",
       "n_dim            10   50   100  200  250  300\n",
       "m                                            \n",
       "4                1.0  1.0  1.0  1.0  1.0  1.0\n",
       "5                1.0  1.0  1.0  1.0  1.0  1.0\n",
       "6                1.0  1.0  1.0  1.0  1.0  1.0\n",
       "7                1.0  1.0  1.0  1.0  1.0  1.0\n",
       "8                1.0  1.0  1.0  1.0  1.0  1.0\n",
       "9                1.0  1.0  1.0  1.0  1.0  1.0\n",
       "10               1.0  1.0  1.0  1.0  1.0  1.0\n",
       "11               1.0  1.0  1.0  1.0  1.0  1.0"
      ]
     },
     "execution_count": 27,
     "metadata": {},
     "output_type": "execute_result"
    }
   ],
   "source": [
    "filter_dim_bias_01 = df_data.experiment_name == \"dim_bias_01\"\n",
    "filter_dim_bias_02 = df_data.experiment_name == \"dim_bias_02\"\n",
    "filter_dim_bias_03 = df_data.experiment_name == \"dim_bias_03\"\n",
    "filter_all = (filter_dim_bias_01 | filter_dim_bias_02 | filter_dim_bias_03)\n",
    "df_ff = df_data[filter_all].copy()\n",
    "df_ff[\"m\"] = df_ff.groupby(\"n_dim\")[[\"bias_factor\"]].rank(\"dense\", ascending=False).astype(int) + 3\n",
    "df_ff.groupby([\"n_dim\", \"m\"])[[\"accuracy_score\"]].mean().reset_index().pivot(index=[\"m\"], columns=[\"n_dim\"], values=[\"accuracy_score\"])"
   ]
  },
  {
   "cell_type": "code",
   "execution_count": 28,
   "id": "b8ec8644-2b9e-41a5-bbad-13b98dd82fde",
   "metadata": {
    "jupyter": {
     "source_hidden": true
    },
    "tags": []
   },
   "outputs": [
    {
     "data": {
      "image/png": "[encoded data removed]",
      "text/plain": [
       "<Figure size 1296x432 with 5 Axes>"
      ]
     },
     "metadata": {},
     "output_type": "display_data"
    }
   ],
   "source": [
    "with sns.plotting_context(\"notebook\", font_scale=1.4):\n",
    "    fig, axes = plt.subplots(ncols=5, figsize=(18, 6))\n",
    "    for i, n_dim in enumerate([10, 50, 100, 200, 250]):\n",
    "        \n",
    "        filter_dim = df_data.n_dim == n_dim\n",
    "        df_data_filtered = df_data[filter_all & filter_dim].copy()\n",
    "        df_data_filtered = df_data_filtered.sort_values([\"min_distance\", \"n_dim\", \"bias_factor\", \"n_steps\"])\n",
    "        df_data_filtered[\"bias_factor\"] = df_data_filtered[\"bias_factor\"].round(5)\n",
    "        \n",
    "        sns.barplot(\n",
    "            x=\"n_dim\",y=\"accuracy_score\", hue=\"bias_factor\",\n",
    "            data=df_data_filtered,palette=\"Blues\", ax=axes[i]\n",
    "        )\n",
    "        #ax.legend(title='Bias factor: $\\\\beta$', loc='upper left', labels=['1/4', '1/8', '1/16', '1/32'])\n",
    "        axes[i].yaxis.grid(True)\n",
    "        axes[i].yaxis.set_minor_locator(ticker.LinearLocator(numticks=10))\n",
    "        axes[i].tick_params(which=\"both\", bottom=True)\n",
    "        axes[i].set_ylabel(\"\")\n",
    "        axes[i].set_xlabel(\"\")\n",
    "        axes[i].set_title(f\"\");\n",
    "\n",
    "        # ax.set_ylim([0, 1])"
   ]
  },
  {
   "cell_type": "markdown",
   "id": "805cf105-d3fb-47a1-a977-00aacdc109dc",
   "metadata": {
    "jp-MarkdownHeadingCollapsed": true,
    "tags": []
   },
   "source": [
    "### Impact of a constant separation on a single-step random walk"
   ]
  },
  {
   "cell_type": "markdown",
   "id": "8d9e9046-ec66-4405-ac9a-d5ac159eb1d0",
   "metadata": {},
   "source": [
    "Experiment parameters:\n",
    "- $\\beta = k^{1/4}$\n",
    "- Number of random walk steps: 1"
   ]
  },
  {
   "cell_type": "code",
   "execution_count": 29,
   "id": "17ed7e69-1b3c-479d-acb2-732d96da8d97",
   "metadata": {
    "jupyter": {
     "source_hidden": true
    },
    "tags": []
   },
   "outputs": [
    {
     "data": {
      "text/html": [
       "<div>\n",
       "<style scoped>\n",
       "    .dataframe tbody tr th:only-of-type {\n",
       "        vertical-align: middle;\n",
       "    }\n",
       "\n",
       "    .dataframe tbody tr th {\n",
       "        vertical-align: top;\n",
       "    }\n",
       "\n",
       "    .dataframe thead tr th {\n",
       "        text-align: left;\n",
       "    }\n",
       "\n",
       "    .dataframe thead tr:last-of-type th {\n",
       "        text-align: right;\n",
       "    }\n",
       "</style>\n",
       "<table border=\"1\" class=\"dataframe\">\n",
       "  <thead>\n",
       "    <tr>\n",
       "      <th></th>\n",
       "      <th colspan=\"7\" halign=\"left\">accuracy_score</th>\n",
       "    </tr>\n",
       "    <tr>\n",
       "      <th>n_dim</th>\n",
       "      <th>10</th>\n",
       "      <th>50</th>\n",
       "      <th>100</th>\n",
       "      <th>150</th>\n",
       "      <th>200</th>\n",
       "      <th>250</th>\n",
       "      <th>300</th>\n",
       "    </tr>\n",
       "    <tr>\n",
       "      <th>min_distance</th>\n",
       "      <th></th>\n",
       "      <th></th>\n",
       "      <th></th>\n",
       "      <th></th>\n",
       "      <th></th>\n",
       "      <th></th>\n",
       "      <th></th>\n",
       "    </tr>\n",
       "  </thead>\n",
       "  <tbody>\n",
       "    <tr>\n",
       "      <th>2.0</th>\n",
       "      <td>0.8964</td>\n",
       "      <td>0.940680</td>\n",
       "      <td>0.956131</td>\n",
       "      <td>0.911189</td>\n",
       "      <td>0.926966</td>\n",
       "      <td>0.902874</td>\n",
       "      <td>0.912159</td>\n",
       "    </tr>\n",
       "    <tr>\n",
       "      <th>3.0</th>\n",
       "      <td>0.9804</td>\n",
       "      <td>0.976923</td>\n",
       "      <td>0.947025</td>\n",
       "      <td>0.933710</td>\n",
       "      <td>0.923927</td>\n",
       "      <td>0.918165</td>\n",
       "      <td>0.909257</td>\n",
       "    </tr>\n",
       "    <tr>\n",
       "      <th>4.0</th>\n",
       "      <td>0.9964</td>\n",
       "      <td>0.961538</td>\n",
       "      <td>0.961957</td>\n",
       "      <td>0.952158</td>\n",
       "      <td>0.956221</td>\n",
       "      <td>0.940320</td>\n",
       "      <td>0.948545</td>\n",
       "    </tr>\n",
       "    <tr>\n",
       "      <th>5.0</th>\n",
       "      <td>0.9996</td>\n",
       "      <td>0.984615</td>\n",
       "      <td>0.965451</td>\n",
       "      <td>0.966597</td>\n",
       "      <td>0.943758</td>\n",
       "      <td>0.944291</td>\n",
       "      <td>0.925274</td>\n",
       "    </tr>\n",
       "    <tr>\n",
       "      <th>6.0</th>\n",
       "      <td>1.0000</td>\n",
       "      <td>1.000000</td>\n",
       "      <td>0.972851</td>\n",
       "      <td>0.956977</td>\n",
       "      <td>0.965487</td>\n",
       "      <td>0.969016</td>\n",
       "      <td>0.934592</td>\n",
       "    </tr>\n",
       "    <tr>\n",
       "      <th>10.0</th>\n",
       "      <td>1.0000</td>\n",
       "      <td>1.000000</td>\n",
       "      <td>1.000000</td>\n",
       "      <td>0.994737</td>\n",
       "      <td>0.990099</td>\n",
       "      <td>0.982787</td>\n",
       "      <td>0.977945</td>\n",
       "    </tr>\n",
       "  </tbody>\n",
       "</table>\n",
       "</div>"
      ],
      "text/plain": [
       "             accuracy_score                                                    \\\n",
       "n_dim                   10        50        100       150       200       250   \n",
       "min_distance                                                                    \n",
       "2.0                  0.8964  0.940680  0.956131  0.911189  0.926966  0.902874   \n",
       "3.0                  0.9804  0.976923  0.947025  0.933710  0.923927  0.918165   \n",
       "4.0                  0.9964  0.961538  0.961957  0.952158  0.956221  0.940320   \n",
       "5.0                  0.9996  0.984615  0.965451  0.966597  0.943758  0.944291   \n",
       "6.0                  1.0000  1.000000  0.972851  0.956977  0.965487  0.969016   \n",
       "10.0                 1.0000  1.000000  1.000000  0.994737  0.990099  0.982787   \n",
       "\n",
       "                        \n",
       "n_dim              300  \n",
       "min_distance            \n",
       "2.0           0.912159  \n",
       "3.0           0.909257  \n",
       "4.0           0.948545  \n",
       "5.0           0.925274  \n",
       "6.0           0.934592  \n",
       "10.0          0.977945  "
      ]
     },
     "execution_count": 29,
     "metadata": {},
     "output_type": "execute_result"
    }
   ],
   "source": [
    "filter_dist_1 = df_data.experiment_name == \"dim_dist_01\"\n",
    "filter_dist_2 = df_data.experiment_name == \"dim_dist_02\"\n",
    "df_ff = df_data[(filter_dist_1 | filter_dist_2)].copy()\n",
    "\n",
    "df_grouped = df_ff.groupby([\"n_dim\", \"min_distance\"])[[\"accuracy_score\"]].mean().reset_index()\n",
    "df_grouped.pivot(index=[\"min_distance\"], columns=[\"n_dim\"], values=[\"accuracy_score\"])"
   ]
  },
  {
   "cell_type": "code",
   "execution_count": 30,
   "id": "bee2d16b-0437-4b7a-b4a9-a37f47ad8d7e",
   "metadata": {
    "jupyter": {
     "source_hidden": true
    },
    "tags": []
   },
   "outputs": [
    {
     "data": {
      "image/png": "[encoded data removed]",
      "text/plain": [
       "<Figure size 1080x432 with 1 Axes>"
      ]
     },
     "metadata": {},
     "output_type": "display_data"
    }
   ],
   "source": [
    "\n",
    "df_data_filtered = df_data[filter_dist_1 | filter_dist_2].copy()\n",
    "df_data_filtered = df_data_filtered.sort_values([\"min_distance\", \"n_dim\", \"bias_factor\", \"n_steps\"])\n",
    "\n",
    "with sns.plotting_context(\"notebook\", font_scale=1.4):\n",
    "    fig, ax = plt.subplots(figsize=(15, 6))\n",
    "    sns.barplot(\n",
    "        x=\"n_dim\",y=\"accuracy_score\",hue=\"min_distance\",\n",
    "        data=df_data_filtered,palette=\"Blues\", ax=ax\n",
    "    )\n",
    "    ax.yaxis.grid(True)\n",
    "    ax.yaxis.set_minor_locator(ticker.LinearLocator(numticks=10))\n",
    "    ax.tick_params(which=\"both\", bottom=True)\n",
    "    ax.set_ylabel(\"Accuracy\")\n",
    "    ax.set_xlabel(\"Number of dimensions/components $d=k$\")\n",
    "    ax.set_title(f\"Impact of separation on a single-step random walk\");\n",
    "    # ax.set_ylim([0, 1])"
   ]
  },
  {
   "cell_type": "markdown",
   "id": "5d76383e-957c-4408-971e-4471d6cd4b3d",
   "metadata": {
    "jp-MarkdownHeadingCollapsed": true,
    "tags": []
   },
   "source": [
    "### Impact of short random walks"
   ]
  },
  {
   "cell_type": "markdown",
   "id": "46c01eb7-32f8-4270-9c41-b1b88402ed09",
   "metadata": {},
   "source": [
    "Experiment parameters: \n",
    "- $\\beta = k^{1/4}$\n",
    "- Separation: 2 or 3"
   ]
  },
  {
   "cell_type": "code",
   "execution_count": 31,
   "id": "c1ac4aac-fa44-4ee7-badf-e8fdf61ab7b3",
   "metadata": {
    "jupyter": {
     "source_hidden": true
    },
    "tags": []
   },
   "outputs": [
    {
     "data": {
      "text/html": [
       "<div>\n",
       "<style scoped>\n",
       "    .dataframe tbody tr th:only-of-type {\n",
       "        vertical-align: middle;\n",
       "    }\n",
       "\n",
       "    .dataframe tbody tr th {\n",
       "        vertical-align: top;\n",
       "    }\n",
       "\n",
       "    .dataframe thead tr th {\n",
       "        text-align: left;\n",
       "    }\n",
       "\n",
       "    .dataframe thead tr:last-of-type th {\n",
       "        text-align: right;\n",
       "    }\n",
       "</style>\n",
       "<table border=\"1\" class=\"dataframe\">\n",
       "  <thead>\n",
       "    <tr>\n",
       "      <th></th>\n",
       "      <th colspan=\"5\" halign=\"left\">accuracy_score</th>\n",
       "    </tr>\n",
       "    <tr>\n",
       "      <th>n_dim</th>\n",
       "      <th>10</th>\n",
       "      <th>50</th>\n",
       "      <th>100</th>\n",
       "      <th>150</th>\n",
       "      <th>200</th>\n",
       "    </tr>\n",
       "    <tr>\n",
       "      <th>n_steps</th>\n",
       "      <th></th>\n",
       "      <th></th>\n",
       "      <th></th>\n",
       "      <th></th>\n",
       "      <th></th>\n",
       "    </tr>\n",
       "  </thead>\n",
       "  <tbody>\n",
       "    <tr>\n",
       "      <th>1</th>\n",
       "      <td>0.8900</td>\n",
       "      <td>0.899927</td>\n",
       "      <td>0.926809</td>\n",
       "      <td>0.919641</td>\n",
       "      <td>0.890005</td>\n",
       "    </tr>\n",
       "    <tr>\n",
       "      <th>2</th>\n",
       "      <td>0.9464</td>\n",
       "      <td>0.969231</td>\n",
       "      <td>0.984314</td>\n",
       "      <td>0.981850</td>\n",
       "      <td>0.988234</td>\n",
       "    </tr>\n",
       "    <tr>\n",
       "      <th>5</th>\n",
       "      <td>1.0000</td>\n",
       "      <td>1.000000</td>\n",
       "      <td>1.000000</td>\n",
       "      <td>1.000000</td>\n",
       "      <td>1.000000</td>\n",
       "    </tr>\n",
       "    <tr>\n",
       "      <th>10</th>\n",
       "      <td>1.0000</td>\n",
       "      <td>1.000000</td>\n",
       "      <td>1.000000</td>\n",
       "      <td>1.000000</td>\n",
       "      <td>1.000000</td>\n",
       "    </tr>\n",
       "  </tbody>\n",
       "</table>\n",
       "</div>"
      ],
      "text/plain": [
       "        accuracy_score                                        \n",
       "n_dim              10        50        100       150       200\n",
       "n_steps                                                       \n",
       "1               0.8900  0.899927  0.926809  0.919641  0.890005\n",
       "2               0.9464  0.969231  0.984314  0.981850  0.988234\n",
       "5               1.0000  1.000000  1.000000  1.000000  1.000000\n",
       "10              1.0000  1.000000  1.000000  1.000000  1.000000"
      ]
     },
     "execution_count": 31,
     "metadata": {},
     "output_type": "execute_result"
    }
   ],
   "source": [
    "filter_steps_01 = df_data.experiment_name == \"dim_steps_01\"\n",
    "df_ff = df_data[(filter_steps_01)].copy()\n",
    "\n",
    "df_grouped = df_ff.groupby([\"n_dim\", \"n_steps\"])[[\"accuracy_score\"]].mean().reset_index()\n",
    "df_grouped.pivot(index=[\"n_steps\"], columns=[\"n_dim\"], values=[\"accuracy_score\"])"
   ]
  },
  {
   "cell_type": "code",
   "execution_count": 32,
   "id": "aa012b18-5ba9-4ac4-b86f-4fb47b2fac58",
   "metadata": {
    "jupyter": {
     "source_hidden": true
    },
    "tags": []
   },
   "outputs": [
    {
     "data": {
      "image/png": "[encoded data removed]",
      "text/plain": [
       "<Figure size 720x360 with 1 Axes>"
      ]
     },
     "metadata": {},
     "output_type": "display_data"
    }
   ],
   "source": [
    "filter_steps_01 = df_data.experiment_name == \"dim_steps_01\"\n",
    "df_data_filtered = df_data[filter_steps_01].copy()\n",
    "df_data_filtered = df_data_filtered.sort_values([\"min_distance\", \"n_dim\", \"bias_factor\", \"n_steps\"])\n",
    "\n",
    "with sns.plotting_context(\"notebook\", font_scale=1.4):\n",
    "    fig, ax = plt.subplots(figsize=(10, 5))\n",
    "    sns.barplot(\n",
    "        x=\"n_dim\",y=\"accuracy_score\", hue=\"n_steps\",\n",
    "        data=df_data_filtered,palette=\"Blues\", ax=ax\n",
    "    )\n",
    "    ax.yaxis.grid(True)\n",
    "    ax.yaxis.set_minor_locator(ticker.LinearLocator(numticks=10))\n",
    "    ax.tick_params(which=\"both\", bottom=True)\n",
    "    ax.set_ylabel(\"Accuracy\")\n",
    "    ax.set_xlabel(\"Number of dimensions/components $d=k$\")\n",
    "    ax.set_title(f\"Impact on short random walks when separation = 2\");\n",
    "    # ax.set_ylim([0, 1])"
   ]
  },
  {
   "cell_type": "code",
   "execution_count": 33,
   "id": "53db4c88-8834-4f99-9d51-5954a3a30519",
   "metadata": {
    "jupyter": {
     "source_hidden": true
    },
    "tags": []
   },
   "outputs": [
    {
     "data": {
      "text/html": [
       "<div>\n",
       "<style scoped>\n",
       "    .dataframe tbody tr th:only-of-type {\n",
       "        vertical-align: middle;\n",
       "    }\n",
       "\n",
       "    .dataframe tbody tr th {\n",
       "        vertical-align: top;\n",
       "    }\n",
       "\n",
       "    .dataframe thead tr th {\n",
       "        text-align: left;\n",
       "    }\n",
       "\n",
       "    .dataframe thead tr:last-of-type th {\n",
       "        text-align: right;\n",
       "    }\n",
       "</style>\n",
       "<table border=\"1\" class=\"dataframe\">\n",
       "  <thead>\n",
       "    <tr>\n",
       "      <th></th>\n",
       "      <th colspan=\"5\" halign=\"left\">accuracy_score</th>\n",
       "    </tr>\n",
       "    <tr>\n",
       "      <th>n_dim</th>\n",
       "      <th>10</th>\n",
       "      <th>50</th>\n",
       "      <th>100</th>\n",
       "      <th>150</th>\n",
       "      <th>200</th>\n",
       "    </tr>\n",
       "    <tr>\n",
       "      <th>n_steps</th>\n",
       "      <th></th>\n",
       "      <th></th>\n",
       "      <th></th>\n",
       "      <th></th>\n",
       "      <th></th>\n",
       "    </tr>\n",
       "  </thead>\n",
       "  <tbody>\n",
       "    <tr>\n",
       "      <th>1</th>\n",
       "      <td>0.9832</td>\n",
       "      <td>0.962108</td>\n",
       "      <td>0.943665</td>\n",
       "      <td>0.937913</td>\n",
       "      <td>0.926020</td>\n",
       "    </tr>\n",
       "    <tr>\n",
       "      <th>2</th>\n",
       "      <td>0.9832</td>\n",
       "      <td>0.992308</td>\n",
       "      <td>0.980543</td>\n",
       "      <td>0.986910</td>\n",
       "      <td>0.986293</td>\n",
       "    </tr>\n",
       "    <tr>\n",
       "      <th>5</th>\n",
       "      <td>1.0000</td>\n",
       "      <td>1.000000</td>\n",
       "      <td>1.000000</td>\n",
       "      <td>1.000000</td>\n",
       "      <td>1.000000</td>\n",
       "    </tr>\n",
       "    <tr>\n",
       "      <th>10</th>\n",
       "      <td>1.0000</td>\n",
       "      <td>1.000000</td>\n",
       "      <td>1.000000</td>\n",
       "      <td>1.000000</td>\n",
       "      <td>1.000000</td>\n",
       "    </tr>\n",
       "  </tbody>\n",
       "</table>\n",
       "</div>"
      ],
      "text/plain": [
       "        accuracy_score                                        \n",
       "n_dim              10        50        100       150       200\n",
       "n_steps                                                       \n",
       "1               0.9832  0.962108  0.943665  0.937913  0.926020\n",
       "2               0.9832  0.992308  0.980543  0.986910  0.986293\n",
       "5               1.0000  1.000000  1.000000  1.000000  1.000000\n",
       "10              1.0000  1.000000  1.000000  1.000000  1.000000"
      ]
     },
     "execution_count": 33,
     "metadata": {},
     "output_type": "execute_result"
    }
   ],
   "source": [
    "filter_steps_01 = df_data.experiment_name == \"dim_steps_02\"\n",
    "df_ff = df_data[(filter_steps_01)].copy()\n",
    "\n",
    "df_grouped = df_ff.groupby([\"n_dim\", \"n_steps\"])[[\"accuracy_score\"]].mean().reset_index()\n",
    "df_grouped.pivot(index=[\"n_steps\"], columns=[\"n_dim\"], values=[\"accuracy_score\"])"
   ]
  },
  {
   "cell_type": "code",
   "execution_count": 34,
   "id": "282bfa04-dad8-462a-bab7-0fb7325d630a",
   "metadata": {
    "jupyter": {
     "source_hidden": true
    },
    "tags": []
   },
   "outputs": [
    {
     "data": {
      "image/png": "[encoded data removed]",
      "text/plain": [
       "<Figure size 720x360 with 1 Axes>"
      ]
     },
     "metadata": {},
     "output_type": "display_data"
    }
   ],
   "source": [
    "filter_steps_02 = df_data.experiment_name == \"dim_steps_02\"\n",
    "df_data_filtered = df_data[filter_steps_01].copy()\n",
    "df_data_filtered = df_data_filtered.sort_values([\"min_distance\", \"n_dim\", \"bias_factor\", \"n_steps\"])\n",
    "\n",
    "with sns.plotting_context(\"notebook\", font_scale=1.4):\n",
    "    fig, ax = plt.subplots(figsize=(10, 5))\n",
    "    sns.barplot(\n",
    "        x=\"n_dim\",y=\"accuracy_score\", hue=\"n_steps\",\n",
    "        data=df_data_filtered,palette=\"Blues\", ax=ax\n",
    "    )\n",
    "    ax.yaxis.grid(True)\n",
    "    ax.yaxis.set_minor_locator(ticker.LinearLocator(numticks=10))\n",
    "    ax.tick_params(which=\"both\", bottom=True)\n",
    "    ax.set_ylabel(\"Accuracy\")\n",
    "    ax.set_xlabel(\"Number of dimensions/components $d=k$\")\n",
    "    ax.set_title(f\"Impact on short random walks when separation = 3\");\n",
    "    # ax.set_ylim([0, 1])"
   ]
  },
  {
   "cell_type": "markdown",
   "id": "0d778bb9-3632-40f5-bc4c-bf3c2a4a0ebf",
   "metadata": {
    "jp-MarkdownHeadingCollapsed": true,
    "tags": []
   },
   "source": [
    "### Impact of long walks: $\\ge$ 10 steps"
   ]
  },
  {
   "cell_type": "markdown",
   "id": "895fad95-ece3-4f18-9ac2-5137090512c2",
   "metadata": {},
   "source": [
    "Experiment parameters:\n",
    "- $\\beta = k^{1/4}$\n",
    "- Separation: 2"
   ]
  },
  {
   "cell_type": "code",
   "execution_count": 35,
   "id": "ef91c938-8a68-425c-879d-aca83924d56c",
   "metadata": {
    "jupyter": {
     "source_hidden": true
    },
    "tags": []
   },
   "outputs": [
    {
     "data": {
      "image/png": "[encoded data removed]",
      "text/plain": [
       "<Figure size 432x432 with 1 Axes>"
      ]
     },
     "metadata": {},
     "output_type": "display_data"
    }
   ],
   "source": [
    "filter_steps_03 = df_data.experiment_name == \"dim_steps_03\"\n",
    "filter_steps_04 = df_data.experiment_name == \"dim_steps_04\"\n",
    "df_data_filtered = df_data[filter_steps_03 | filter_steps_04].copy()\n",
    "df_data_filtered = df_data_filtered.sort_values([\"min_distance\", \"n_dim\", \"bias_factor\", \"n_steps\"])\n",
    "\n",
    "with sns.plotting_context(\"notebook\", font_scale=1.4):\n",
    "    fig, ax = plt.subplots(figsize=(6, 6))\n",
    "    sns.barplot(\n",
    "        x=\"n_dim\",y=\"accuracy_score\", hue=\"n_steps\",\n",
    "        data=df_data_filtered,palette=\"Blues\", ax=ax\n",
    "    )\n",
    "    ax.yaxis.grid(True)\n",
    "    ax.yaxis.set_minor_locator(ticker.LinearLocator(numticks=10))\n",
    "    ax.tick_params(which=\"both\", bottom=True)\n",
    "    ax.set_ylabel(\"Accuracy\")\n",
    "    ax.set_xlabel(\"Number of dimensions/components $d=k$\")\n",
    "    ax.set_title(f\"Impact of long random walks\");\n",
    "    # ax.set_ylim([0, 1])"
   ]
  },
  {
   "cell_type": "markdown",
   "id": "7628c370-231b-449d-bbe1-abda8aeaba89",
   "metadata": {
    "tags": []
   },
   "source": [
    "### Impact of small separation, 1 & 1/2"
   ]
  },
  {
   "cell_type": "markdown",
   "id": "b84eec58-288a-4238-81b0-f5341d4f95f0",
   "metadata": {},
   "source": [
    "Experiment parameters:\n",
    "- $\\beta = k^{1/4}$\n",
    "- Number of steps: 10\n",
    "- Separation: 1/2 or 1"
   ]
  },
  {
   "cell_type": "code",
   "execution_count": 36,
   "id": "2b9bc4b3-f001-4625-ac6c-139651295516",
   "metadata": {
    "tags": []
   },
   "outputs": [],
   "source": [
    "filter_small_dist_01 = df_data.experiment_name == \"small_dist_01\"\n",
    "df_data_filtered = df_data[filter_small_dist_01].copy()\n",
    "df_data_filtered = df_data_filtered.sort_values([\"min_distance\", \"n_dim\", \"bias_factor\", \"n_steps\"])\n",
    "\n",
    "if df_data_filtered.shape[0] > 0:\n",
    "    with sns.plotting_context(\"notebook\", font_scale=1.4):\n",
    "        fig, ax = plt.subplots(figsize=(11, 6))\n",
    "        sns.barplot(\n",
    "            x=\"n_dim\",y=\"accuracy_score\",hue=\"min_distance\",\n",
    "            data=df_data_filtered,palette=\"Blues\", ax=ax\n",
    "        )\n",
    "        ax.yaxis.grid(True)\n",
    "        ax.yaxis.set_minor_locator(ticker.LinearLocator(numticks=10))\n",
    "        ax.tick_params(which=\"both\", bottom=True)\n",
    "        ax.set_ylabel(\"Accuracy\")\n",
    "        ax.set_xlabel(\"Number of dimensions/components $d=k$\")\n",
    "        ax.set_title(f\"Impact of separation on a single-step random walk\");\n",
    "        # ax.set_ylim([0, 1])"
   ]
  },
  {
   "cell_type": "markdown",
   "id": "b94c728e-cf3b-443a-90d2-61b972f3004f",
   "metadata": {
    "tags": []
   },
   "source": [
    "### Impact of separation $< 1$"
   ]
  },
  {
   "cell_type": "markdown",
   "id": "10e54591-d7be-451e-a3f5-1651036612df",
   "metadata": {},
   "source": [
    "Experiment parameters:\n",
    "- $\\beta = k^{1/4}$\n",
    "- Number of steps: 10\n",
    "- Separation: $\\frac{1}{k^{1/m}}$ where $m = \\{ 64, 16, 8, 4 \\}$ "
   ]
  },
  {
   "cell_type": "code",
   "execution_count": 37,
   "id": "26739112-e2c0-4b82-96c9-1e3bcb14bf13",
   "metadata": {
    "tags": []
   },
   "outputs": [],
   "source": [
    "if df_data_filtered.shape[0] > 0:\n",
    "    with sns.plotting_context(\"notebook\", font_scale=1.4):\n",
    "        fig, axes = plt.subplots(ncols=4, figsize=(14, 6))\n",
    "        for i, n_dim in enumerate([10, 50, 100, 200]):\n",
    "            filter_dist_below_one_01 = df_data.experiment_name == \"dist_below_one_01\"\n",
    "            filter_dim = df_data.n_dim == n_dim\n",
    "            df_data_filtered = df_data[filter_dist_below_one_01 & filter_dim].copy()\n",
    "            df_data_filtered = df_data_filtered.sort_values([\"min_distance\", \"n_dim\", \"bias_factor\", \"n_steps\"])\n",
    "            df_data_filtered[\"min_distance\"] = df_data_filtered[\"min_distance\"].round(4)\n",
    "\n",
    "            sns.barplot(\n",
    "                x=\"n_dim\",y=\"accuracy_score\",hue=\"min_distance\",\n",
    "                data=df_data_filtered,palette=\"Blues\", ax=axes[i]\n",
    "            )\n",
    "            axes[i].yaxis.grid(True)\n",
    "            axes[i].yaxis.set_minor_locator(ticker.LinearLocator(numticks=10))\n",
    "            axes[i].tick_params(which=\"both\", bottom=True)\n",
    "            axes[i].set_ylabel(\"\")\n",
    "            axes[i].set_xlabel(\"\")\n",
    "            #axes[i].set_title(f\"Impact of separation < 1\");\n",
    "            # ax.set_ylim([0, 1])"
   ]
  },
  {
   "cell_type": "markdown",
   "id": "b2a335d1-c360-4134-8919-bf5fd1423413",
   "metadata": {
    "tags": []
   },
   "source": [
    "## Summary: no label noise"
   ]
  },
  {
   "cell_type": "markdown",
   "id": "c63df1fc-4510-4ce8-9cd8-0b9ca36671e1",
   "metadata": {},
   "source": [
    "- 5 to 10 steps is enough if bias is (slightly) larger than 1\n",
    "- When the labels are clean, the separation does not really matter. Even when the points in different classes are overlapping, a large enough bias will make the algorithm recover the original labels.  \n"
   ]
  }
 ],
 "metadata": {
  "kernelspec": {
   "display_name": "Python 3 (ipykernel)",
   "language": "python",
   "name": "python3"
  },
  "language_info": {
   "codemirror_mode": {
    "name": "ipython",
    "version": 3
   },
   "file_extension": ".py",
   "mimetype": "text/x-python",
   "name": "python",
   "nbconvert_exporter": "python",
   "pygments_lexer": "ipython3",
   "version": "3.8.10"
  }
 },
 "nbformat": 4,
 "nbformat_minor": 5
}
