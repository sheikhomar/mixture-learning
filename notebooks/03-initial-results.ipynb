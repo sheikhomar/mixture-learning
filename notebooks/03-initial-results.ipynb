{
 "cells": [
  {
   "cell_type": "code",
   "execution_count": 1,
   "id": "2bb00bc3-0fbf-47f8-b152-2deb9de1ec2a",
   "metadata": {},
   "outputs": [],
   "source": [
    "import json, os, sys\n",
    "\n",
    "from datetime import datetime\n",
    "from pathlib import Path\n",
    "\n",
    "import matplotlib.pyplot as plt\n",
    "import matplotlib.ticker as ticker\n",
    "import numpy as np\n",
    "import pandas as pd\n",
    "import seaborn as sns\n",
    "\n",
    "project_dir = os.path.abspath(\"..\")\n",
    "if project_dir not in sys.path:\n",
    "    sys.path.insert(0, project_dir)\n",
    "    \n",
    "import utils\n",
    "import result_helper"
   ]
  },
  {
   "cell_type": "code",
   "execution_count": 2,
   "id": "847da25d-ad3a-49a0-bd55-120f8f73b890",
   "metadata": {},
   "outputs": [],
   "source": [
    "%load_ext autoreload\n",
    "%autoreload 2"
   ]
  },
  {
   "cell_type": "code",
   "execution_count": 3,
   "id": "bd62773a-ea7b-4476-a9d0-800289ce0bfd",
   "metadata": {},
   "outputs": [],
   "source": [
    "data_results_dir = Path(\"../data/experiments-skadi/\")\n",
    "job_paths = list(data_results_dir.glob(\"**/job-info.json\"))"
   ]
  },
  {
   "cell_type": "code",
   "execution_count": 4,
   "id": "ef138b1d-0813-49e2-9f9e-293f57f67120",
   "metadata": {},
   "outputs": [],
   "source": [
    "df_data = result_helper.get_result_summary(job_paths)"
   ]
  },
  {
   "cell_type": "code",
   "execution_count": 5,
   "id": "624e527a-9681-4433-a5f5-da362b39544e",
   "metadata": {},
   "outputs": [],
   "source": [
    "df_plot_data = df_data.sort_values([\"min_distance\", \"n_dim\", \"bias_factor\", \"n_steps\"])\n",
    "cols_to_drop = [\n",
    "    \"started_at\", \"completed_at\", \"precision_score\", \"recall_score\", \"f1_score\", \"random_seed\",\n",
    "    'experiment_type', 'experiment_name', 'component_size', 'variance', 'label_noise_proba',\n",
    "    'allow_self_loops', 'distance_metric',\n",
    "]\n",
    "df_plot_data = df_plot_data.drop(cols_to_drop, axis=1)"
   ]
  },
  {
   "cell_type": "code",
   "execution_count": 6,
   "id": "2dea43e8-c600-4c52-8c24-c60da141bc2d",
   "metadata": {},
   "outputs": [
    {
     "data": {
      "text/html": [
       "<div>\n",
       "<style scoped>\n",
       "    .dataframe tbody tr th:only-of-type {\n",
       "        vertical-align: middle;\n",
       "    }\n",
       "\n",
       "    .dataframe tbody tr th {\n",
       "        vertical-align: top;\n",
       "    }\n",
       "\n",
       "    .dataframe thead th {\n",
       "        text-align: right;\n",
       "    }\n",
       "</style>\n",
       "<table border=\"1\" class=\"dataframe\">\n",
       "  <thead>\n",
       "    <tr style=\"text-align: right;\">\n",
       "      <th></th>\n",
       "      <th>accuracy_score</th>\n",
       "      <th>n_dim</th>\n",
       "      <th>min_distance</th>\n",
       "      <th>n_steps</th>\n",
       "      <th>bias_factor</th>\n",
       "      <th>duration_secs</th>\n",
       "      <th>job_path</th>\n",
       "    </tr>\n",
       "  </thead>\n",
       "  <tbody>\n",
       "    <tr>\n",
       "      <th>435</th>\n",
       "      <td>0.276680</td>\n",
       "      <td>10</td>\n",
       "      <td>2</td>\n",
       "      <td>1</td>\n",
       "      <td>1</td>\n",
       "      <td>3.002293</td>\n",
       "      <td>../data/experiments-skadi/rwe/dim_dist_steps_b...</td>\n",
       "    </tr>\n",
       "    <tr>\n",
       "      <th>426</th>\n",
       "      <td>0.376000</td>\n",
       "      <td>10</td>\n",
       "      <td>2</td>\n",
       "      <td>5</td>\n",
       "      <td>1</td>\n",
       "      <td>3.082817</td>\n",
       "      <td>../data/experiments-skadi/rwe/dim_dist_steps_b...</td>\n",
       "    </tr>\n",
       "    <tr>\n",
       "      <th>180</th>\n",
       "      <td>0.392000</td>\n",
       "      <td>10</td>\n",
       "      <td>2</td>\n",
       "      <td>10</td>\n",
       "      <td>1</td>\n",
       "      <td>3.767190</td>\n",
       "      <td>../data/experiments-skadi/rwe/dim_dist_steps_b...</td>\n",
       "    </tr>\n",
       "    <tr>\n",
       "      <th>436</th>\n",
       "      <td>0.257888</td>\n",
       "      <td>10</td>\n",
       "      <td>2</td>\n",
       "      <td>25</td>\n",
       "      <td>1</td>\n",
       "      <td>3.708549</td>\n",
       "      <td>../data/experiments-skadi/rwe/dim_dist_steps_b...</td>\n",
       "    </tr>\n",
       "    <tr>\n",
       "      <th>222</th>\n",
       "      <td>0.173258</td>\n",
       "      <td>10</td>\n",
       "      <td>2</td>\n",
       "      <td>75</td>\n",
       "      <td>1</td>\n",
       "      <td>5.239929</td>\n",
       "      <td>../data/experiments-skadi/rwe/dim_dist_steps_b...</td>\n",
       "    </tr>\n",
       "    <tr>\n",
       "      <th>...</th>\n",
       "      <td>...</td>\n",
       "      <td>...</td>\n",
       "      <td>...</td>\n",
       "      <td>...</td>\n",
       "      <td>...</td>\n",
       "      <td>...</td>\n",
       "      <td>...</td>\n",
       "    </tr>\n",
       "    <tr>\n",
       "      <th>217</th>\n",
       "      <td>0.245935</td>\n",
       "      <td>150</td>\n",
       "      <td>6</td>\n",
       "      <td>25</td>\n",
       "      <td>5</td>\n",
       "      <td>27983.083854</td>\n",
       "      <td>../data/experiments-skadi/rwe/dim_dist_steps_b...</td>\n",
       "    </tr>\n",
       "    <tr>\n",
       "      <th>147</th>\n",
       "      <td>0.214498</td>\n",
       "      <td>150</td>\n",
       "      <td>6</td>\n",
       "      <td>1</td>\n",
       "      <td>10</td>\n",
       "      <td>3327.836077</td>\n",
       "      <td>../data/experiments-skadi/rwe/dim_dist_steps_b...</td>\n",
       "    </tr>\n",
       "    <tr>\n",
       "      <th>425</th>\n",
       "      <td>0.259159</td>\n",
       "      <td>150</td>\n",
       "      <td>6</td>\n",
       "      <td>5</td>\n",
       "      <td>10</td>\n",
       "      <td>8054.531549</td>\n",
       "      <td>../data/experiments-skadi/rwe/dim_dist_steps_b...</td>\n",
       "    </tr>\n",
       "    <tr>\n",
       "      <th>94</th>\n",
       "      <td>0.209761</td>\n",
       "      <td>150</td>\n",
       "      <td>6</td>\n",
       "      <td>10</td>\n",
       "      <td>10</td>\n",
       "      <td>12367.776051</td>\n",
       "      <td>../data/experiments-skadi/rwe/dim_dist_steps_b...</td>\n",
       "    </tr>\n",
       "    <tr>\n",
       "      <th>96</th>\n",
       "      <td>0.276061</td>\n",
       "      <td>150</td>\n",
       "      <td>6</td>\n",
       "      <td>25</td>\n",
       "      <td>10</td>\n",
       "      <td>23284.753796</td>\n",
       "      <td>../data/experiments-skadi/rwe/dim_dist_steps_b...</td>\n",
       "    </tr>\n",
       "  </tbody>\n",
       "</table>\n",
       "<p>507 rows × 7 columns</p>\n",
       "</div>"
      ],
      "text/plain": [
       "     accuracy_score  n_dim  min_distance  n_steps  bias_factor  duration_secs  \\\n",
       "435        0.276680     10             2        1            1       3.002293   \n",
       "426        0.376000     10             2        5            1       3.082817   \n",
       "180        0.392000     10             2       10            1       3.767190   \n",
       "436        0.257888     10             2       25            1       3.708549   \n",
       "222        0.173258     10             2       75            1       5.239929   \n",
       "..              ...    ...           ...      ...          ...            ...   \n",
       "217        0.245935    150             6       25            5   27983.083854   \n",
       "147        0.214498    150             6        1           10    3327.836077   \n",
       "425        0.259159    150             6        5           10    8054.531549   \n",
       "94         0.209761    150             6       10           10   12367.776051   \n",
       "96         0.276061    150             6       25           10   23284.753796   \n",
       "\n",
       "                                              job_path  \n",
       "435  ../data/experiments-skadi/rwe/dim_dist_steps_b...  \n",
       "426  ../data/experiments-skadi/rwe/dim_dist_steps_b...  \n",
       "180  ../data/experiments-skadi/rwe/dim_dist_steps_b...  \n",
       "436  ../data/experiments-skadi/rwe/dim_dist_steps_b...  \n",
       "222  ../data/experiments-skadi/rwe/dim_dist_steps_b...  \n",
       "..                                                 ...  \n",
       "217  ../data/experiments-skadi/rwe/dim_dist_steps_b...  \n",
       "147  ../data/experiments-skadi/rwe/dim_dist_steps_b...  \n",
       "425  ../data/experiments-skadi/rwe/dim_dist_steps_b...  \n",
       "94   ../data/experiments-skadi/rwe/dim_dist_steps_b...  \n",
       "96   ../data/experiments-skadi/rwe/dim_dist_steps_b...  \n",
       "\n",
       "[507 rows x 7 columns]"
      ]
     },
     "execution_count": 6,
     "metadata": {},
     "output_type": "execute_result"
    }
   ],
   "source": [
    "df_plot_data"
   ]
  },
  {
   "cell_type": "code",
   "execution_count": 7,
   "id": "288162c7-46bc-46a6-8116-61c5a43d7989",
   "metadata": {},
   "outputs": [
    {
     "data": {
      "image/png": "[encoded data removed]",
      "text/plain": [
       "<Figure size 1080x504 with 1 Axes>"
      ]
     },
     "metadata": {
      "needs_background": "light"
     },
     "output_type": "display_data"
    },
    {
     "data": {
      "image/png": "[encoded data removed]",
      "text/plain": [
       "<Figure size 1080x504 with 1 Axes>"
      ]
     },
     "metadata": {
      "needs_background": "light"
     },
     "output_type": "display_data"
    },
    {
     "data": {
      "image/png": "[encoded data removed]",
      "text/plain": [
       "<Figure size 1080x504 with 1 Axes>"
      ]
     },
     "metadata": {
      "needs_background": "light"
     },
     "output_type": "display_data"
    },
    {
     "data": {
      "image/png": "[encoded data removed]",
      "text/plain": [
       "<Figure size 1080x504 with 1 Axes>"
      ]
     },
     "metadata": {
      "needs_background": "light"
     },
     "output_type": "display_data"
    }
   ],
   "source": [
    "for n_dim in [10, 50, 100, 150]:\n",
    "    for min_distance in [6]:\n",
    "        df_plot_data_filtered = df_plot_data[ (df_plot_data.n_dim == n_dim) & (df_plot_data.min_distance == min_distance) ]\n",
    "        fig, ax = plt.subplots(figsize=(15, 7))\n",
    "        sns.barplot(\n",
    "            x=\"n_steps\",\n",
    "            y=\"accuracy_score\",\n",
    "            hue=\"bias_factor\", \n",
    "            data=df_plot_data_filtered,\n",
    "            palette=\"Blues\",\n",
    "            ax=ax,\n",
    "        )\n",
    "        ax.set_title(f\"n={n_dim*50}, d={n_dim}, k={n_dim},  separation={min_distance}\");\n",
    "        ax.set_ylim([0, 1])"
   ]
  },
  {
   "cell_type": "code",
   "execution_count": null,
   "id": "acaec000-62ee-42e0-a02c-72a404eb8aa9",
   "metadata": {},
   "outputs": [],
   "source": []
  }
 ],
 "metadata": {
  "kernelspec": {
   "display_name": "Python 3 (ipykernel)",
   "language": "python",
   "name": "python3"
  },
  "language_info": {
   "codemirror_mode": {
    "name": "ipython",
    "version": 3
   },
   "file_extension": ".py",
   "mimetype": "text/x-python",
   "name": "python",
   "nbconvert_exporter": "python",
   "pygments_lexer": "ipython3",
   "version": "3.8.10"
  }
 },
 "nbformat": 4,
 "nbformat_minor": 5
}
