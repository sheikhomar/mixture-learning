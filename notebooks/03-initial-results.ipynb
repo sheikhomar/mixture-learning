{
 "cells": [
  {
   "cell_type": "code",
   "execution_count": 1,
   "id": "2bb00bc3-0fbf-47f8-b152-2deb9de1ec2a",
   "metadata": {},
   "outputs": [],
   "source": [
    "import json, os, sys\n",
    "\n",
    "from pathlib import Path\n",
    "\n",
    "import numpy as np\n",
    "import pandas as pd\n",
    "\n",
    "from fastdist import fastdist\n",
    "from numba import jit\n",
    "from sklearn.metrics import pairwise_distances\n",
    "\n",
    "from sklearn.cluster import KMeans\n",
    "from sklearn.metrics import f1_score, accuracy_score\n",
    "\n",
    "project_dir = os.path.abspath(\"..\")\n",
    "if project_dir not in sys.path:\n",
    "    sys.path.insert(0, project_dir)\n",
    "    \n",
    "from app.algorithms import random_walk\n",
    "from app.data.datasets import SyntheticDataSet\n",
    "from app.data.noise import compute_corruption_ratio_per_class\n",
    "\n",
    "import utils"
   ]
  },
  {
   "cell_type": "code",
   "execution_count": 2,
   "id": "847da25d-ad3a-49a0-bd55-120f8f73b890",
   "metadata": {},
   "outputs": [],
   "source": [
    "%load_ext autoreload\n",
    "%autoreload 2"
   ]
  },
  {
   "cell_type": "code",
   "execution_count": 3,
   "id": "bd62773a-ea7b-4476-a9d0-800289ce0bfd",
   "metadata": {},
   "outputs": [],
   "source": [
    "data_results_dir = Path(\"../data/experiments-skadi/\")\n"
   ]
  },
  {
   "cell_type": "code",
   "execution_count": 4,
   "id": "ef138b1d-0813-49e2-9f9e-293f57f67120",
   "metadata": {},
   "outputs": [],
   "source": [
    "job_paths = list(data_results_dir.glob(\"**/job-info.json\"))"
   ]
  },
  {
   "cell_type": "code",
   "execution_count": 5,
   "id": "cc38c2f2-c972-4519-b9c5-0c3c5e1d83b9",
   "metadata": {},
   "outputs": [
    {
     "data": {
      "text/plain": [
       "268"
      ]
     },
     "execution_count": 5,
     "metadata": {},
     "output_type": "execute_result"
    }
   ],
   "source": [
    "len(job_paths)"
   ]
  },
  {
   "cell_type": "code",
   "execution_count": 6,
   "id": "eb54aeb1-a5d4-4731-9800-911510a71ab7",
   "metadata": {},
   "outputs": [],
   "source": [
    "job_path = job_paths[1]"
   ]
  },
  {
   "cell_type": "code",
   "execution_count": 7,
   "id": "e2f50c79-27d4-40c0-ba03-71dffce31d43",
   "metadata": {},
   "outputs": [],
   "source": [
    "experiment_dir = job_path.parent"
   ]
  },
  {
   "cell_type": "code",
   "execution_count": 8,
   "id": "782e72b2-eb51-4224-a67d-de6b2a37ad28",
   "metadata": {},
   "outputs": [],
   "source": [
    "with open(experiment_dir / \"experiment-params.json\", \"r\") as f:\n",
    "    experiment_params = json.load(f)"
   ]
  },
  {
   "cell_type": "code",
   "execution_count": 9,
   "id": "c8d85d2b-7d07-4a84-9f32-9fabafc113c9",
   "metadata": {},
   "outputs": [
    {
     "data": {
      "text/plain": [
       "{'n_dim': 10,\n",
       " 'min_distance': 6,\n",
       " 'component_size': 50,\n",
       " 'variance': 1.0,\n",
       " 'label_noise_proba': 0.0,\n",
       " 'n_steps': 25,\n",
       " 'distance_metric': 'sqeuclidean',\n",
       " 'bias_factor': 2,\n",
       " 'allow_self_loops': False,\n",
       " 'random_seed': 8073829}"
      ]
     },
     "execution_count": 9,
     "metadata": {},
     "output_type": "execute_result"
    }
   ],
   "source": [
    "experiment_params"
   ]
  },
  {
   "cell_type": "code",
   "execution_count": 10,
   "id": "96c43d8a-d8d3-46b2-9738-117162c35377",
   "metadata": {},
   "outputs": [],
   "source": [
    "results_path = job_path.parent / \"clustering-results.feather\"\n",
    "df_results = pd.read_feather(results_path)"
   ]
  },
  {
   "cell_type": "code",
   "execution_count": null,
   "id": "f0ba9746-b217-4bcc-9f4b-4c111bc945c3",
   "metadata": {},
   "outputs": [],
   "source": []
  },
  {
   "cell_type": "code",
   "execution_count": 11,
   "id": "c64879bb-00d4-4f47-a258-9c295e3d119a",
   "metadata": {},
   "outputs": [
    {
     "data": {
      "text/html": [
       "<div>\n",
       "<style scoped>\n",
       "    .dataframe tbody tr th:only-of-type {\n",
       "        vertical-align: middle;\n",
       "    }\n",
       "\n",
       "    .dataframe tbody tr th {\n",
       "        vertical-align: top;\n",
       "    }\n",
       "\n",
       "    .dataframe thead th {\n",
       "        text-align: right;\n",
       "    }\n",
       "</style>\n",
       "<table border=\"1\" class=\"dataframe\">\n",
       "  <thead>\n",
       "    <tr style=\"text-align: right;\">\n",
       "      <th></th>\n",
       "      <th>noisy_label</th>\n",
       "      <th>true_label</th>\n",
       "      <th>cluster_label</th>\n",
       "    </tr>\n",
       "  </thead>\n",
       "  <tbody>\n",
       "    <tr>\n",
       "      <th>0</th>\n",
       "      <td>0</td>\n",
       "      <td>0</td>\n",
       "      <td>7</td>\n",
       "    </tr>\n",
       "    <tr>\n",
       "      <th>1</th>\n",
       "      <td>0</td>\n",
       "      <td>0</td>\n",
       "      <td>7</td>\n",
       "    </tr>\n",
       "    <tr>\n",
       "      <th>2</th>\n",
       "      <td>0</td>\n",
       "      <td>0</td>\n",
       "      <td>7</td>\n",
       "    </tr>\n",
       "    <tr>\n",
       "      <th>3</th>\n",
       "      <td>0</td>\n",
       "      <td>0</td>\n",
       "      <td>7</td>\n",
       "    </tr>\n",
       "    <tr>\n",
       "      <th>4</th>\n",
       "      <td>0</td>\n",
       "      <td>0</td>\n",
       "      <td>7</td>\n",
       "    </tr>\n",
       "    <tr>\n",
       "      <th>...</th>\n",
       "      <td>...</td>\n",
       "      <td>...</td>\n",
       "      <td>...</td>\n",
       "    </tr>\n",
       "    <tr>\n",
       "      <th>495</th>\n",
       "      <td>9</td>\n",
       "      <td>9</td>\n",
       "      <td>0</td>\n",
       "    </tr>\n",
       "    <tr>\n",
       "      <th>496</th>\n",
       "      <td>9</td>\n",
       "      <td>9</td>\n",
       "      <td>0</td>\n",
       "    </tr>\n",
       "    <tr>\n",
       "      <th>497</th>\n",
       "      <td>9</td>\n",
       "      <td>9</td>\n",
       "      <td>0</td>\n",
       "    </tr>\n",
       "    <tr>\n",
       "      <th>498</th>\n",
       "      <td>9</td>\n",
       "      <td>9</td>\n",
       "      <td>0</td>\n",
       "    </tr>\n",
       "    <tr>\n",
       "      <th>499</th>\n",
       "      <td>9</td>\n",
       "      <td>9</td>\n",
       "      <td>0</td>\n",
       "    </tr>\n",
       "  </tbody>\n",
       "</table>\n",
       "<p>500 rows × 3 columns</p>\n",
       "</div>"
      ],
      "text/plain": [
       "     noisy_label  true_label  cluster_label\n",
       "0              0           0              7\n",
       "1              0           0              7\n",
       "2              0           0              7\n",
       "3              0           0              7\n",
       "4              0           0              7\n",
       "..           ...         ...            ...\n",
       "495            9           9              0\n",
       "496            9           9              0\n",
       "497            9           9              0\n",
       "498            9           9              0\n",
       "499            9           9              0\n",
       "\n",
       "[500 rows x 3 columns]"
      ]
     },
     "execution_count": 11,
     "metadata": {},
     "output_type": "execute_result"
    }
   ],
   "source": [
    "df_results"
   ]
  },
  {
   "cell_type": "code",
   "execution_count": 12,
   "id": "34ca5edd-624f-443a-a1ef-ccfbeef28cab",
   "metadata": {},
   "outputs": [],
   "source": [
    "df_results = utils.assign_labels_based_on_clusters(\n",
    "    df_results=df_results,\n",
    "    new_column_name=\"pred_label\",\n",
    ")"
   ]
  },
  {
   "cell_type": "code",
   "execution_count": 13,
   "id": "f64cc52a-44b6-4ef0-9325-48f25d3d8ecf",
   "metadata": {},
   "outputs": [
    {
     "data": {
      "text/html": [
       "<div>\n",
       "<style scoped>\n",
       "    .dataframe tbody tr th:only-of-type {\n",
       "        vertical-align: middle;\n",
       "    }\n",
       "\n",
       "    .dataframe tbody tr th {\n",
       "        vertical-align: top;\n",
       "    }\n",
       "\n",
       "    .dataframe thead th {\n",
       "        text-align: right;\n",
       "    }\n",
       "</style>\n",
       "<table border=\"1\" class=\"dataframe\">\n",
       "  <thead>\n",
       "    <tr style=\"text-align: right;\">\n",
       "      <th></th>\n",
       "      <th>noisy_label</th>\n",
       "      <th>true_label</th>\n",
       "      <th>cluster_label</th>\n",
       "      <th>pred_label</th>\n",
       "    </tr>\n",
       "  </thead>\n",
       "  <tbody>\n",
       "    <tr>\n",
       "      <th>0</th>\n",
       "      <td>0</td>\n",
       "      <td>0</td>\n",
       "      <td>7</td>\n",
       "      <td>0</td>\n",
       "    </tr>\n",
       "    <tr>\n",
       "      <th>1</th>\n",
       "      <td>0</td>\n",
       "      <td>0</td>\n",
       "      <td>7</td>\n",
       "      <td>0</td>\n",
       "    </tr>\n",
       "    <tr>\n",
       "      <th>2</th>\n",
       "      <td>0</td>\n",
       "      <td>0</td>\n",
       "      <td>7</td>\n",
       "      <td>0</td>\n",
       "    </tr>\n",
       "    <tr>\n",
       "      <th>3</th>\n",
       "      <td>0</td>\n",
       "      <td>0</td>\n",
       "      <td>7</td>\n",
       "      <td>0</td>\n",
       "    </tr>\n",
       "    <tr>\n",
       "      <th>4</th>\n",
       "      <td>0</td>\n",
       "      <td>0</td>\n",
       "      <td>7</td>\n",
       "      <td>0</td>\n",
       "    </tr>\n",
       "    <tr>\n",
       "      <th>...</th>\n",
       "      <td>...</td>\n",
       "      <td>...</td>\n",
       "      <td>...</td>\n",
       "      <td>...</td>\n",
       "    </tr>\n",
       "    <tr>\n",
       "      <th>495</th>\n",
       "      <td>9</td>\n",
       "      <td>9</td>\n",
       "      <td>0</td>\n",
       "      <td>9</td>\n",
       "    </tr>\n",
       "    <tr>\n",
       "      <th>496</th>\n",
       "      <td>9</td>\n",
       "      <td>9</td>\n",
       "      <td>0</td>\n",
       "      <td>9</td>\n",
       "    </tr>\n",
       "    <tr>\n",
       "      <th>497</th>\n",
       "      <td>9</td>\n",
       "      <td>9</td>\n",
       "      <td>0</td>\n",
       "      <td>9</td>\n",
       "    </tr>\n",
       "    <tr>\n",
       "      <th>498</th>\n",
       "      <td>9</td>\n",
       "      <td>9</td>\n",
       "      <td>0</td>\n",
       "      <td>9</td>\n",
       "    </tr>\n",
       "    <tr>\n",
       "      <th>499</th>\n",
       "      <td>9</td>\n",
       "      <td>9</td>\n",
       "      <td>0</td>\n",
       "      <td>9</td>\n",
       "    </tr>\n",
       "  </tbody>\n",
       "</table>\n",
       "<p>500 rows × 4 columns</p>\n",
       "</div>"
      ],
      "text/plain": [
       "     noisy_label  true_label  cluster_label  pred_label\n",
       "0              0           0              7           0\n",
       "1              0           0              7           0\n",
       "2              0           0              7           0\n",
       "3              0           0              7           0\n",
       "4              0           0              7           0\n",
       "..           ...         ...            ...         ...\n",
       "495            9           9              0           9\n",
       "496            9           9              0           9\n",
       "497            9           9              0           9\n",
       "498            9           9              0           9\n",
       "499            9           9              0           9\n",
       "\n",
       "[500 rows x 4 columns]"
      ]
     },
     "execution_count": 13,
     "metadata": {},
     "output_type": "execute_result"
    }
   ],
   "source": [
    "df_results"
   ]
  },
  {
   "cell_type": "code",
   "execution_count": 14,
   "id": "fb2f2786-beab-4908-a120-281cb9139cdb",
   "metadata": {},
   "outputs": [
    {
     "data": {
      "text/plain": [
       "1.0"
      ]
     },
     "execution_count": 14,
     "metadata": {},
     "output_type": "execute_result"
    }
   ],
   "source": [
    "accuracy_score(y_true=df_results[\"true_label\"], y_pred=df_results[\"pred_label\"])"
   ]
  },
  {
   "cell_type": "code",
   "execution_count": null,
   "id": "93c4f1a7-8ff9-4fe1-ba07-5cd1fe027912",
   "metadata": {},
   "outputs": [],
   "source": []
  }
 ],
 "metadata": {
  "kernelspec": {
   "display_name": "Python 3 (ipykernel)",
   "language": "python",
   "name": "python3"
  },
  "language_info": {
   "codemirror_mode": {
    "name": "ipython",
    "version": 3
   },
   "file_extension": ".py",
   "mimetype": "text/x-python",
   "name": "python",
   "nbconvert_exporter": "python",
   "pygments_lexer": "ipython3",
   "version": "3.8.10"
  }
 },
 "nbformat": 4,
 "nbformat_minor": 5
}
