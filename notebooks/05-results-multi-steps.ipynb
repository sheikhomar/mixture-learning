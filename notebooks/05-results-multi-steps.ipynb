{
 "cells": [
  {
   "cell_type": "code",
   "execution_count": 1,
   "id": "2bb00bc3-0fbf-47f8-b152-2deb9de1ec2a",
   "metadata": {
    "jupyter": {
     "source_hidden": true
    },
    "tags": []
   },
   "outputs": [],
   "source": [
    "import json, os, sys\n",
    "\n",
    "from datetime import datetime\n",
    "from pathlib import Path\n",
    "\n",
    "import matplotlib.pyplot as plt\n",
    "import matplotlib.ticker as ticker\n",
    "import numpy as np\n",
    "import pandas as pd\n",
    "import seaborn as sns\n",
    "\n",
    "project_dir = os.path.abspath(\"..\")\n",
    "if project_dir not in sys.path:\n",
    "    sys.path.insert(0, project_dir)\n",
    "    \n",
    "import utils\n",
    "import result_helper\n",
    "\n",
    "\n",
    "sns.set(style=\"whitegrid\")"
   ]
  },
  {
   "cell_type": "code",
   "execution_count": 2,
   "id": "ef138b1d-0813-49e2-9f9e-293f57f67120",
   "metadata": {
    "tags": []
   },
   "outputs": [],
   "source": [
    "skadi_job_paths = list(Path(\"../data/experiments-skadi/\").glob(\"**/job-info.json\"))\n",
    "skadi_job_paths = [p for p in skadi_job_paths if \"no_bias_few_steps\" in str(p)]\n",
    "\n",
    "job_paths = skadi_job_paths# + odin_job_paths\n",
    "\n",
    "df_data = result_helper.get_result_summary(job_paths)\n",
    "\n",
    "cols_irrelavant = [\n",
    "    \"started_at\", \"completed_at\", \"precision_score\", \"recall_score\", \"f1_score\", \"random_seed\",\n",
    "    'experiment_type', 'experiment_name', 'component_size', 'variance', 'label_noise_proba',\n",
    "    'allow_self_loops', 'distance_metric', 'job_path', 'duration_secs'\n",
    "]\n",
    "cols_relevant = list(set(df_data.columns) - set(cols_irrelavant))"
   ]
  },
  {
   "cell_type": "markdown",
   "id": "430a0a82-6eea-4853-ab02-d5e79c9aa4a4",
   "metadata": {
    "tags": []
   },
   "source": [
    "## Introduction"
   ]
  },
  {
   "cell_type": "markdown",
   "id": "6c7fe607-db0f-4f4f-9c07-613b695faaeb",
   "metadata": {},
   "source": [
    "### Purpose of the experiments"
   ]
  },
  {
   "cell_type": "markdown",
   "id": "009b7130-76f0-409a-b6d5-7b485088cdbd",
   "metadata": {
    "tags": []
   },
   "source": [
    "- Determine how to parameterize the data generator and the algorithm in order to fully recover the mixtures\n",
    "  - How many steps should the random walker take before it stops?\n",
    "  - What is the minimum separation?\n",
    "  - How does the labelling information influence the performance?\n",
    "\n"
   ]
  },
  {
   "cell_type": "markdown",
   "id": "c0dfab08-6ba3-4834-ae1d-5f6a8dd36360",
   "metadata": {
    "tags": []
   },
   "source": [
    "### Data generation"
   ]
  },
  {
   "cell_type": "markdown",
   "id": "55f69fe0-bcaa-49cc-bcee-4ab39dc429e4",
   "metadata": {},
   "source": [
    "- Place the Gaussian centers on a $k$-dimensional simplex i.e., standard unit basis vectors in $k$ dimensions\n",
    "  - Number of Gaussian components $k$ is the same as the number of dimensions $d$\n",
    "- Move the centers by multiplying them with a factor: `min_distance`.\n",
    "- Number of points in each Gaussian component: 50\n",
    "- Variance in each component: 1\n",
    "- No label noise added - to figure out how the algorithm behaves in the best case\n",
    "- No self-loops\n"
   ]
  },
  {
   "cell_type": "markdown",
   "id": "6df40596-2a6b-49f0-b519-b927418eba0e",
   "metadata": {
    "tags": []
   },
   "source": [
    "## No labelling information $\\beta = 1$"
   ]
  },
  {
   "cell_type": "markdown",
   "id": "85cdcfb5-282c-47dc-bbcc-c4a785b60327",
   "metadata": {
    "tags": []
   },
   "source": [
    "### Impact of few steps on separation $k^{\\frac{1}{8}} $"
   ]
  },
  {
   "cell_type": "markdown",
   "id": "499bd255-5112-4f13-8222-3f54581b4cdf",
   "metadata": {},
   "source": [
    "Experiment parameters:\n",
    "- $\\beta = 1$\n",
    "- Number of steps: 2-4\n",
    "- Separation: $k^{\\frac{1}{8}}$"
   ]
  },
  {
   "cell_type": "code",
   "execution_count": 3,
   "id": "e810a407-0e30-4f39-aa34-ea3938f7b448",
   "metadata": {
    "jupyter": {
     "source_hidden": true
    },
    "tags": []
   },
   "outputs": [
    {
     "data": {
      "text/html": [
       "<div>\n",
       "<style scoped>\n",
       "    .dataframe tbody tr th:only-of-type {\n",
       "        vertical-align: middle;\n",
       "    }\n",
       "\n",
       "    .dataframe tbody tr th {\n",
       "        vertical-align: top;\n",
       "    }\n",
       "\n",
       "    .dataframe thead tr th {\n",
       "        text-align: left;\n",
       "    }\n",
       "\n",
       "    .dataframe thead tr:last-of-type th {\n",
       "        text-align: right;\n",
       "    }\n",
       "</style>\n",
       "<table border=\"1\" class=\"dataframe\">\n",
       "  <thead>\n",
       "    <tr>\n",
       "      <th></th>\n",
       "      <th colspan=\"5\" halign=\"left\">accuracy_score</th>\n",
       "    </tr>\n",
       "    <tr>\n",
       "      <th>n_dim</th>\n",
       "      <th>10</th>\n",
       "      <th>50</th>\n",
       "      <th>100</th>\n",
       "      <th>200</th>\n",
       "      <th>300</th>\n",
       "    </tr>\n",
       "    <tr>\n",
       "      <th>n_steps</th>\n",
       "      <th></th>\n",
       "      <th></th>\n",
       "      <th></th>\n",
       "      <th></th>\n",
       "      <th></th>\n",
       "    </tr>\n",
       "  </thead>\n",
       "  <tbody>\n",
       "    <tr>\n",
       "      <th>2</th>\n",
       "      <td>0.3040</td>\n",
       "      <td>0.09752</td>\n",
       "      <td>0.06560</td>\n",
       "      <td>0.0509</td>\n",
       "      <td>0.042893</td>\n",
       "    </tr>\n",
       "    <tr>\n",
       "      <th>3</th>\n",
       "      <td>0.2676</td>\n",
       "      <td>0.09672</td>\n",
       "      <td>0.06608</td>\n",
       "      <td>0.0502</td>\n",
       "      <td>0.043680</td>\n",
       "    </tr>\n",
       "    <tr>\n",
       "      <th>4</th>\n",
       "      <td>0.2632</td>\n",
       "      <td>0.09232</td>\n",
       "      <td>0.06776</td>\n",
       "      <td>0.0504</td>\n",
       "      <td>0.043973</td>\n",
       "    </tr>\n",
       "  </tbody>\n",
       "</table>\n",
       "</div>"
      ],
      "text/plain": [
       "        accuracy_score                                    \n",
       "n_dim              10       50       100     200       300\n",
       "n_steps                                                   \n",
       "2               0.3040  0.09752  0.06560  0.0509  0.042893\n",
       "3               0.2676  0.09672  0.06608  0.0502  0.043680\n",
       "4               0.2632  0.09232  0.06776  0.0504  0.043973"
      ]
     },
     "execution_count": 3,
     "metadata": {},
     "output_type": "execute_result"
    },
    {
     "data": {
      "image/png": "[encoded data removed]",
      "text/plain": [
       "<Figure size 720x432 with 1 Axes>"
      ]
     },
     "metadata": {},
     "output_type": "display_data"
    }
   ],
   "source": [
    "filter1 = df_data.experiment_name == \"no_bias_few_steps_04\"\n",
    "df_ff = df_data[(filter1)].copy()\n",
    "\n",
    "df_data_filtered = df_ff.sort_values([\"min_distance\", \"n_dim\", \"bias_factor\", \"n_steps\"])\n",
    "\n",
    "with sns.plotting_context(\"notebook\", font_scale=1.4):\n",
    "    fig, ax = plt.subplots(figsize=(10, 6))\n",
    "    sns.barplot(\n",
    "        x=\"n_dim\",y=\"accuracy_score\", hue=\"n_steps\",\n",
    "        data=df_data_filtered,palette=\"Blues\", ax=ax\n",
    "    )\n",
    "    ax.yaxis.grid(True)\n",
    "    ax.yaxis.set_minor_locator(ticker.LinearLocator(numticks=10))\n",
    "    ax.tick_params(which=\"both\", bottom=True)\n",
    "    ax.set_ylabel(\"Accuracy\")\n",
    "    ax.set_xlabel(\"Number of dimensions/components $d=k$\")\n",
    "    ax.set_title(\"Impact of number of steps on separation: $k^{\\\\frac{1}{8}} $\");\n",
    "    # ax.set_ylim([0, 1])\n",
    "\n",
    "df_grouped = df_ff.groupby([\"n_dim\", \"n_steps\"])[[\"accuracy_score\"]].mean().reset_index()\n",
    "df_grouped.pivot(index=[\"n_steps\"], columns=[\"n_dim\"], values=[\"accuracy_score\"])"
   ]
  },
  {
   "cell_type": "markdown",
   "id": "8d51aa40-6694-49db-b0bc-4144598de037",
   "metadata": {
    "tags": []
   },
   "source": [
    "### Impact of few steps on separation $k^{\\frac{1}{4}} $"
   ]
  },
  {
   "cell_type": "markdown",
   "id": "7e38bda2-f468-4d84-92bd-030f9691ebb7",
   "metadata": {},
   "source": [
    "Experiment parameters:\n",
    "- $\\beta = 1$\n",
    "- Number of steps: 2-4\n",
    "- Separation: $k^{\\frac{1}{4}}$"
   ]
  },
  {
   "cell_type": "code",
   "execution_count": 4,
   "id": "80574dba-bef5-4052-af9c-9766c6997436",
   "metadata": {
    "jupyter": {
     "source_hidden": true
    },
    "tags": []
   },
   "outputs": [
    {
     "data": {
      "text/html": [
       "<div>\n",
       "<style scoped>\n",
       "    .dataframe tbody tr th:only-of-type {\n",
       "        vertical-align: middle;\n",
       "    }\n",
       "\n",
       "    .dataframe tbody tr th {\n",
       "        vertical-align: top;\n",
       "    }\n",
       "\n",
       "    .dataframe thead tr th {\n",
       "        text-align: left;\n",
       "    }\n",
       "\n",
       "    .dataframe thead tr:last-of-type th {\n",
       "        text-align: right;\n",
       "    }\n",
       "</style>\n",
       "<table border=\"1\" class=\"dataframe\">\n",
       "  <thead>\n",
       "    <tr>\n",
       "      <th></th>\n",
       "      <th colspan=\"5\" halign=\"left\">accuracy_score</th>\n",
       "    </tr>\n",
       "    <tr>\n",
       "      <th>n_dim</th>\n",
       "      <th>10</th>\n",
       "      <th>50</th>\n",
       "      <th>100</th>\n",
       "      <th>200</th>\n",
       "      <th>300</th>\n",
       "    </tr>\n",
       "    <tr>\n",
       "      <th>n_steps</th>\n",
       "      <th></th>\n",
       "      <th></th>\n",
       "      <th></th>\n",
       "      <th></th>\n",
       "      <th></th>\n",
       "    </tr>\n",
       "  </thead>\n",
       "  <tbody>\n",
       "    <tr>\n",
       "      <th>2</th>\n",
       "      <td>0.368</td>\n",
       "      <td>0.1436</td>\n",
       "      <td>0.1050</td>\n",
       "      <td>0.0680</td>\n",
       "      <td>0.056600</td>\n",
       "    </tr>\n",
       "    <tr>\n",
       "      <th>3</th>\n",
       "      <td>0.384</td>\n",
       "      <td>0.1436</td>\n",
       "      <td>0.0984</td>\n",
       "      <td>0.0673</td>\n",
       "      <td>0.054133</td>\n",
       "    </tr>\n",
       "    <tr>\n",
       "      <th>4</th>\n",
       "      <td>0.288</td>\n",
       "      <td>0.1436</td>\n",
       "      <td>0.0938</td>\n",
       "      <td>0.0677</td>\n",
       "      <td>0.054867</td>\n",
       "    </tr>\n",
       "  </tbody>\n",
       "</table>\n",
       "</div>"
      ],
      "text/plain": [
       "        accuracy_score                                  \n",
       "n_dim              10      50      100     200       300\n",
       "n_steps                                                 \n",
       "2                0.368  0.1436  0.1050  0.0680  0.056600\n",
       "3                0.384  0.1436  0.0984  0.0673  0.054133\n",
       "4                0.288  0.1436  0.0938  0.0677  0.054867"
      ]
     },
     "execution_count": 4,
     "metadata": {},
     "output_type": "execute_result"
    },
    {
     "data": {
      "image/png": "[encoded data removed]",
      "text/plain": [
       "<Figure size 720x432 with 1 Axes>"
      ]
     },
     "metadata": {},
     "output_type": "display_data"
    }
   ],
   "source": [
    "filter1 = df_data.experiment_name == \"no_bias_few_steps_02\"\n",
    "df_ff = df_data[(filter1)].copy()\n",
    "\n",
    "df_data_filtered = df_ff.sort_values([\"min_distance\", \"n_dim\", \"bias_factor\", \"n_steps\"])\n",
    "\n",
    "with sns.plotting_context(\"notebook\", font_scale=1.4):\n",
    "    fig, ax = plt.subplots(figsize=(10, 6))\n",
    "    sns.barplot(\n",
    "        x=\"n_dim\",y=\"accuracy_score\", hue=\"n_steps\",\n",
    "        data=df_data_filtered,palette=\"Blues\", ax=ax\n",
    "    )\n",
    "    ax.yaxis.grid(True)\n",
    "    ax.yaxis.set_minor_locator(ticker.LinearLocator(numticks=10))\n",
    "    ax.tick_params(which=\"both\", bottom=True)\n",
    "    ax.set_ylabel(\"Accuracy\")\n",
    "    ax.set_xlabel(\"Number of dimensions/components $d=k$\")\n",
    "    ax.set_title(\"Impact of number of steps on separation: $k^{\\\\frac{1}{4}} $\");\n",
    "    # ax.set_ylim([0, 1])\n",
    "\n",
    "df_grouped = df_ff.groupby([\"n_dim\", \"n_steps\"])[[\"accuracy_score\"]].mean().reset_index()\n",
    "df_grouped.pivot(index=[\"n_steps\"], columns=[\"n_dim\"], values=[\"accuracy_score\"])"
   ]
  },
  {
   "cell_type": "markdown",
   "id": "6568a09c-ec7b-4c37-adae-cdf228b30e5e",
   "metadata": {
    "tags": []
   },
   "source": [
    "### Impact of few steps on separation $ (\\log_{10}{k}) k^{\\frac{1}{4}} $"
   ]
  },
  {
   "cell_type": "markdown",
   "id": "a3f69cc8-e10c-4871-bdfa-0231234cb7f2",
   "metadata": {},
   "source": [
    "Experiment parameters:\n",
    "- $\\beta = 1$\n",
    "- Number of steps: 2-4\n",
    "- Separation: $(\\log_{10}{k}) k^{\\frac{1}{4}}$"
   ]
  },
  {
   "cell_type": "code",
   "execution_count": 5,
   "id": "266f0ce6-b6e6-42dc-a4d0-4ca320a13693",
   "metadata": {
    "jupyter": {
     "source_hidden": true
    },
    "tags": []
   },
   "outputs": [
    {
     "data": {
      "text/html": [
       "<div>\n",
       "<style scoped>\n",
       "    .dataframe tbody tr th:only-of-type {\n",
       "        vertical-align: middle;\n",
       "    }\n",
       "\n",
       "    .dataframe tbody tr th {\n",
       "        vertical-align: top;\n",
       "    }\n",
       "\n",
       "    .dataframe thead tr th {\n",
       "        text-align: left;\n",
       "    }\n",
       "\n",
       "    .dataframe thead tr:last-of-type th {\n",
       "        text-align: right;\n",
       "    }\n",
       "</style>\n",
       "<table border=\"1\" class=\"dataframe\">\n",
       "  <thead>\n",
       "    <tr>\n",
       "      <th></th>\n",
       "      <th colspan=\"5\" halign=\"left\">accuracy_score</th>\n",
       "    </tr>\n",
       "    <tr>\n",
       "      <th>n_dim</th>\n",
       "      <th>10</th>\n",
       "      <th>50</th>\n",
       "      <th>100</th>\n",
       "      <th>200</th>\n",
       "      <th>300</th>\n",
       "    </tr>\n",
       "    <tr>\n",
       "      <th>n_steps</th>\n",
       "      <th></th>\n",
       "      <th></th>\n",
       "      <th></th>\n",
       "      <th></th>\n",
       "      <th></th>\n",
       "    </tr>\n",
       "  </thead>\n",
       "  <tbody>\n",
       "    <tr>\n",
       "      <th>2</th>\n",
       "      <td>0.4388</td>\n",
       "      <td>0.92600</td>\n",
       "      <td>0.95864</td>\n",
       "      <td>0.95898</td>\n",
       "      <td>0.949320</td>\n",
       "    </tr>\n",
       "    <tr>\n",
       "      <th>3</th>\n",
       "      <td>0.3984</td>\n",
       "      <td>0.88224</td>\n",
       "      <td>0.96700</td>\n",
       "      <td>0.95584</td>\n",
       "      <td>0.953293</td>\n",
       "    </tr>\n",
       "    <tr>\n",
       "      <th>4</th>\n",
       "      <td>0.3656</td>\n",
       "      <td>0.76712</td>\n",
       "      <td>0.93996</td>\n",
       "      <td>0.95922</td>\n",
       "      <td>0.951280</td>\n",
       "    </tr>\n",
       "  </tbody>\n",
       "</table>\n",
       "</div>"
      ],
      "text/plain": [
       "        accuracy_score                                     \n",
       "n_dim              10       50       100      200       300\n",
       "n_steps                                                    \n",
       "2               0.4388  0.92600  0.95864  0.95898  0.949320\n",
       "3               0.3984  0.88224  0.96700  0.95584  0.953293\n",
       "4               0.3656  0.76712  0.93996  0.95922  0.951280"
      ]
     },
     "execution_count": 5,
     "metadata": {},
     "output_type": "execute_result"
    },
    {
     "data": {
      "image/png": "[encoded data removed]",
      "text/plain": [
       "<Figure size 720x432 with 1 Axes>"
      ]
     },
     "metadata": {},
     "output_type": "display_data"
    }
   ],
   "source": [
    "filter1 = df_data.experiment_name == \"no_bias_few_steps_03\"\n",
    "df_ff = df_data[(filter1)].copy()\n",
    "\n",
    "df_data_filtered = df_ff.sort_values([\"min_distance\", \"n_dim\", \"bias_factor\", \"n_steps\"])\n",
    "\n",
    "with sns.plotting_context(\"notebook\", font_scale=1.4):\n",
    "    fig, ax = plt.subplots(figsize=(10, 6))\n",
    "    sns.barplot(\n",
    "        x=\"n_dim\",y=\"accuracy_score\", hue=\"n_steps\",\n",
    "        data=df_data_filtered,palette=\"Blues\", ax=ax\n",
    "    )\n",
    "    ax.yaxis.grid(True)\n",
    "    ax.yaxis.set_minor_locator(ticker.LinearLocator(numticks=10))\n",
    "    ax.tick_params(which=\"both\", bottom=True)\n",
    "    ax.set_ylabel(\"Accuracy\")\n",
    "    ax.set_xlabel(\"Number of dimensions/components $d=k$\")\n",
    "    ax.set_title(\"Impact of number of steps on separation: $(\\log_{10}{k}) k^{\\\\frac{1}{4}} $\");\n",
    "    # ax.set_ylim([0, 1])\n",
    "\n",
    "df_grouped = df_ff.groupby([\"n_dim\", \"n_steps\"])[[\"accuracy_score\"]].mean().reset_index()\n",
    "df_grouped.pivot(index=[\"n_steps\"], columns=[\"n_dim\"], values=[\"accuracy_score\"])"
   ]
  },
  {
   "cell_type": "markdown",
   "id": "db4c2c3c-afa7-4cf6-a502-d2c6b18e791a",
   "metadata": {
    "tags": []
   },
   "source": [
    "### Impact of few steps on separation $ (\\ln{k}) k^{\\frac{1}{4}} $"
   ]
  },
  {
   "cell_type": "markdown",
   "id": "64ddfa2c-7005-497e-9795-cba242f33ec9",
   "metadata": {},
   "source": [
    "Experiment parameters:\n",
    "- $\\beta = 1$\n",
    "- Number of steps: 2-4\n",
    "- Separation: $(\\ln{k}) k^{\\frac{1}{4}}$"
   ]
  },
  {
   "cell_type": "code",
   "execution_count": 6,
   "id": "0ae838a3-6ea1-48d3-87eb-0efcd4297a46",
   "metadata": {
    "jupyter": {
     "source_hidden": true
    },
    "tags": []
   },
   "outputs": [
    {
     "data": {
      "text/html": [
       "<div>\n",
       "<style scoped>\n",
       "    .dataframe tbody tr th:only-of-type {\n",
       "        vertical-align: middle;\n",
       "    }\n",
       "\n",
       "    .dataframe tbody tr th {\n",
       "        vertical-align: top;\n",
       "    }\n",
       "\n",
       "    .dataframe thead tr th {\n",
       "        text-align: left;\n",
       "    }\n",
       "\n",
       "    .dataframe thead tr:last-of-type th {\n",
       "        text-align: right;\n",
       "    }\n",
       "</style>\n",
       "<table border=\"1\" class=\"dataframe\">\n",
       "  <thead>\n",
       "    <tr>\n",
       "      <th></th>\n",
       "      <th colspan=\"5\" halign=\"left\">accuracy_score</th>\n",
       "    </tr>\n",
       "    <tr>\n",
       "      <th>n_dim</th>\n",
       "      <th>10</th>\n",
       "      <th>50</th>\n",
       "      <th>100</th>\n",
       "      <th>200</th>\n",
       "      <th>300</th>\n",
       "    </tr>\n",
       "    <tr>\n",
       "      <th>n_steps</th>\n",
       "      <th></th>\n",
       "      <th></th>\n",
       "      <th></th>\n",
       "      <th></th>\n",
       "      <th></th>\n",
       "    </tr>\n",
       "  </thead>\n",
       "  <tbody>\n",
       "    <tr>\n",
       "      <th>2</th>\n",
       "      <td>0.988667</td>\n",
       "      <td>1.0</td>\n",
       "      <td>1.0</td>\n",
       "      <td>1.0</td>\n",
       "      <td>1.0</td>\n",
       "    </tr>\n",
       "    <tr>\n",
       "      <th>3</th>\n",
       "      <td>0.981333</td>\n",
       "      <td>1.0</td>\n",
       "      <td>1.0</td>\n",
       "      <td>1.0</td>\n",
       "      <td>1.0</td>\n",
       "    </tr>\n",
       "    <tr>\n",
       "      <th>4</th>\n",
       "      <td>0.970667</td>\n",
       "      <td>1.0</td>\n",
       "      <td>1.0</td>\n",
       "      <td>1.0</td>\n",
       "      <td>1.0</td>\n",
       "    </tr>\n",
       "  </tbody>\n",
       "</table>\n",
       "</div>"
      ],
      "text/plain": [
       "        accuracy_score                    \n",
       "n_dim              10   50   100  200  300\n",
       "n_steps                                   \n",
       "2             0.988667  1.0  1.0  1.0  1.0\n",
       "3             0.981333  1.0  1.0  1.0  1.0\n",
       "4             0.970667  1.0  1.0  1.0  1.0"
      ]
     },
     "execution_count": 6,
     "metadata": {},
     "output_type": "execute_result"
    },
    {
     "data": {
      "image/png": "[encoded data removed]",
      "text/plain": [
       "<Figure size 720x432 with 1 Axes>"
      ]
     },
     "metadata": {},
     "output_type": "display_data"
    }
   ],
   "source": [
    "filter1 = df_data.experiment_name == \"no_bias_few_steps_01\"\n",
    "df_ff = df_data[(filter1)].copy()\n",
    "\n",
    "df_data_filtered = df_ff.sort_values([\"min_distance\", \"n_dim\", \"bias_factor\", \"n_steps\"])\n",
    "\n",
    "with sns.plotting_context(\"notebook\", font_scale=1.4):\n",
    "    fig, ax = plt.subplots(figsize=(10, 6))\n",
    "    sns.barplot(\n",
    "        x=\"n_dim\",y=\"accuracy_score\", hue=\"n_steps\",\n",
    "        data=df_data_filtered,palette=\"Blues\", ax=ax\n",
    "    )\n",
    "    ax.yaxis.grid(True)\n",
    "    ax.yaxis.set_minor_locator(ticker.LinearLocator(numticks=10))\n",
    "    ax.tick_params(which=\"both\", bottom=True)\n",
    "    ax.set_ylabel(\"Accuracy\")\n",
    "    ax.set_xlabel(\"Number of dimensions/components $d=k$\")\n",
    "    ax.set_title(\"Impact of number of steps on separation: $(\\ln{k}) k^{\\\\frac{1}{4}} $\");\n",
    "    # ax.set_ylim([0, 1])\n",
    "\n",
    "df_grouped = df_ff.groupby([\"n_dim\", \"n_steps\"])[[\"accuracy_score\"]].mean().reset_index()\n",
    "df_grouped.pivot(index=[\"n_steps\"], columns=[\"n_dim\"], values=[\"accuracy_score\"])"
   ]
  }
 ],
 "metadata": {
  "kernelspec": {
   "display_name": "Python 3 (ipykernel)",
   "language": "python",
   "name": "python3"
  },
  "language_info": {
   "codemirror_mode": {
    "name": "ipython",
    "version": 3
   },
   "file_extension": ".py",
   "mimetype": "text/x-python",
   "name": "python",
   "nbconvert_exporter": "python",
   "pygments_lexer": "ipython3",
   "version": "3.8.10"
  }
 },
 "nbformat": 4,
 "nbformat_minor": 5
}
