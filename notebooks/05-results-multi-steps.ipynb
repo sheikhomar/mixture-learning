{
 "cells": [
  {
   "cell_type": "code",
   "execution_count": 1,
   "id": "2bb00bc3-0fbf-47f8-b152-2deb9de1ec2a",
   "metadata": {
    "jupyter": {
     "source_hidden": true
    },
    "tags": []
   },
   "outputs": [],
   "source": [
    "import json, os, sys\n",
    "\n",
    "from datetime import datetime\n",
    "from pathlib import Path\n",
    "\n",
    "import matplotlib.pyplot as plt\n",
    "import matplotlib.ticker as ticker\n",
    "import numpy as np\n",
    "import pandas as pd\n",
    "import seaborn as sns\n",
    "\n",
    "project_dir = os.path.abspath(\"..\")\n",
    "if project_dir not in sys.path:\n",
    "    sys.path.insert(0, project_dir)\n",
    "    \n",
    "import utils\n",
    "import result_helper\n",
    "\n",
    "\n",
    "sns.set(style=\"whitegrid\")"
   ]
  },
  {
   "cell_type": "code",
   "execution_count": 2,
   "id": "ef138b1d-0813-49e2-9f9e-293f57f67120",
   "metadata": {
    "tags": []
   },
   "outputs": [],
   "source": [
    "skadi_job_paths = list(Path(\"../data/experiments-skadi/\").glob(\"**/job-info.json\"))\n",
    "skadi_job_paths = [p for p in skadi_job_paths if \"no_bias_few_steps\" in str(p)]\n",
    "\n",
    "job_paths = skadi_job_paths# + odin_job_paths\n",
    "\n",
    "df_data = result_helper.get_result_summary(job_paths)\n",
    "\n",
    "cols_irrelavant = [\n",
    "    \"started_at\", \"completed_at\", \"precision_score\", \"recall_score\", \"f1_score\", \"random_seed\",\n",
    "    'experiment_type', 'experiment_name', 'component_size', 'variance', 'label_noise_proba',\n",
    "    'allow_self_loops', 'distance_metric', 'job_path', 'duration_secs'\n",
    "]\n",
    "cols_relevant = list(set(df_data.columns) - set(cols_irrelavant))"
   ]
  },
  {
   "cell_type": "markdown",
   "id": "430a0a82-6eea-4853-ab02-d5e79c9aa4a4",
   "metadata": {
    "tags": []
   },
   "source": [
    "## Introduction"
   ]
  },
  {
   "cell_type": "markdown",
   "id": "6c7fe607-db0f-4f4f-9c07-613b695faaeb",
   "metadata": {},
   "source": [
    "### Purpose of the experiments"
   ]
  },
  {
   "cell_type": "markdown",
   "id": "009b7130-76f0-409a-b6d5-7b485088cdbd",
   "metadata": {
    "tags": []
   },
   "source": [
    "- Determine how to parameterize the data generator and the algorithm in order to fully recover the mixtures\n",
    "  - How many steps should the random walker take before it stops?\n",
    "  - What is the minimum separation?\n",
    "  - How does the labelling information influence the performance?\n",
    "\n"
   ]
  },
  {
   "cell_type": "markdown",
   "id": "c0dfab08-6ba3-4834-ae1d-5f6a8dd36360",
   "metadata": {
    "tags": []
   },
   "source": [
    "### Data generation"
   ]
  },
  {
   "cell_type": "markdown",
   "id": "55f69fe0-bcaa-49cc-bcee-4ab39dc429e4",
   "metadata": {},
   "source": [
    "- Place the Gaussian centers on a $k$-dimensional simplex i.e., standard unit basis vectors in $k$ dimensions\n",
    "  - Number of Gaussian components $k$ is the same as the number of dimensions $d$\n",
    "- Move the centers by multiplying them with a factor: `min_distance`.\n",
    "- Number of points in each Gaussian component: 50\n",
    "- Variance in each component: 1\n",
    "- No label noise added - to figure out how the algorithm behaves in the best case\n",
    "- No self-loops\n"
   ]
  },
  {
   "cell_type": "markdown",
   "id": "6df40596-2a6b-49f0-b519-b927418eba0e",
   "metadata": {
    "tags": []
   },
   "source": [
    "## No labelling information $\\beta = 1$"
   ]
  },
  {
   "cell_type": "markdown",
   "id": "85cdcfb5-282c-47dc-bbcc-c4a785b60327",
   "metadata": {
    "tags": []
   },
   "source": [
    "### Impact of few steps on separation $k^{\\frac{1}{8}} $"
   ]
  },
  {
   "cell_type": "markdown",
   "id": "499bd255-5112-4f13-8222-3f54581b4cdf",
   "metadata": {},
   "source": [
    "Experiment parameters:\n",
    "- $\\beta = 1$\n",
    "- Number of steps: 2-4\n",
    "- Separation: $k^{\\frac{1}{8}}$"
   ]
  },
  {
   "cell_type": "code",
   "execution_count": 3,
   "id": "e810a407-0e30-4f39-aa34-ea3938f7b448",
   "metadata": {
    "jupyter": {
     "source_hidden": true
    },
    "tags": []
   },
   "outputs": [
    {
     "data": {
      "text/html": [
       "<div>\n",
       "<style scoped>\n",
       "    .dataframe tbody tr th:only-of-type {\n",
       "        vertical-align: middle;\n",
       "    }\n",
       "\n",
       "    .dataframe tbody tr th {\n",
       "        vertical-align: top;\n",
       "    }\n",
       "\n",
       "    .dataframe thead tr th {\n",
       "        text-align: left;\n",
       "    }\n",
       "\n",
       "    .dataframe thead tr:last-of-type th {\n",
       "        text-align: right;\n",
       "    }\n",
       "</style>\n",
       "<table border=\"1\" class=\"dataframe\">\n",
       "  <thead>\n",
       "    <tr>\n",
       "      <th></th>\n",
       "      <th colspan=\"5\" halign=\"left\">accuracy_score</th>\n",
       "    </tr>\n",
       "    <tr>\n",
       "      <th>n_dim</th>\n",
       "      <th>10</th>\n",
       "      <th>50</th>\n",
       "      <th>100</th>\n",
       "      <th>200</th>\n",
       "      <th>300</th>\n",
       "    </tr>\n",
       "    <tr>\n",
       "      <th>n_steps</th>\n",
       "      <th></th>\n",
       "      <th></th>\n",
       "      <th></th>\n",
       "      <th></th>\n",
       "      <th></th>\n",
       "    </tr>\n",
       "  </thead>\n",
       "  <tbody>\n",
       "    <tr>\n",
       "      <th>2</th>\n",
       "      <td>0.302632</td>\n",
       "      <td>0.088965</td>\n",
       "      <td>0.057392</td>\n",
       "      <td>0.044877</td>\n",
       "      <td>0.038423</td>\n",
       "    </tr>\n",
       "    <tr>\n",
       "      <th>3</th>\n",
       "      <td>0.263234</td>\n",
       "      <td>0.088572</td>\n",
       "      <td>0.057715</td>\n",
       "      <td>0.043228</td>\n",
       "      <td>0.037805</td>\n",
       "    </tr>\n",
       "    <tr>\n",
       "      <th>4</th>\n",
       "      <td>0.262134</td>\n",
       "      <td>0.086576</td>\n",
       "      <td>0.058996</td>\n",
       "      <td>0.043559</td>\n",
       "      <td>0.038212</td>\n",
       "    </tr>\n",
       "  </tbody>\n",
       "</table>\n",
       "</div>"
      ],
      "text/plain": [
       "        accuracy_score                                        \n",
       "n_dim              10        50        100       200       300\n",
       "n_steps                                                       \n",
       "2             0.302632  0.088965  0.057392  0.044877  0.038423\n",
       "3             0.263234  0.088572  0.057715  0.043228  0.037805\n",
       "4             0.262134  0.086576  0.058996  0.043559  0.038212"
      ]
     },
     "execution_count": 3,
     "metadata": {},
     "output_type": "execute_result"
    },
    {
     "data": {
      "image/png": "[encoded data removed]",
      "text/plain": [
       "<Figure size 720x432 with 1 Axes>"
      ]
     },
     "metadata": {},
     "output_type": "display_data"
    }
   ],
   "source": [
    "filter1 = df_data.experiment_name == \"no_bias_few_steps_04\"\n",
    "df_ff = df_data[(filter1)].copy()\n",
    "\n",
    "df_data_filtered = df_ff.sort_values([\"min_distance\", \"n_dim\", \"bias_factor\", \"n_steps\"])\n",
    "\n",
    "with sns.plotting_context(\"notebook\", font_scale=1.4):\n",
    "    fig, ax = plt.subplots(figsize=(10, 6))\n",
    "    sns.barplot(\n",
    "        x=\"n_dim\",y=\"accuracy_score\", hue=\"n_steps\",\n",
    "        data=df_data_filtered,palette=\"Blues\", ax=ax\n",
    "    )\n",
    "    ax.yaxis.grid(True)\n",
    "    ax.yaxis.set_minor_locator(ticker.LinearLocator(numticks=10))\n",
    "    ax.tick_params(which=\"both\", bottom=True)\n",
    "    ax.set_ylabel(\"Accuracy\")\n",
    "    ax.set_xlabel(\"Number of dimensions/components $d=k$\")\n",
    "    ax.set_title(\"Impact of number of steps on separation: $k^{\\\\frac{1}{8}} $\");\n",
    "    # ax.set_ylim([0, 1])\n",
    "\n",
    "df_grouped = df_ff.groupby([\"n_dim\", \"n_steps\"])[[\"accuracy_score\"]].mean().reset_index()\n",
    "df_grouped.pivot(index=[\"n_steps\"], columns=[\"n_dim\"], values=[\"accuracy_score\"])"
   ]
  },
  {
   "cell_type": "markdown",
   "id": "8d51aa40-6694-49db-b0bc-4144598de037",
   "metadata": {
    "tags": []
   },
   "source": [
    "### Impact of few steps on separation $k^{\\frac{1}{4}} $"
   ]
  },
  {
   "cell_type": "markdown",
   "id": "7e38bda2-f468-4d84-92bd-030f9691ebb7",
   "metadata": {},
   "source": [
    "Experiment parameters:\n",
    "- $\\beta = 1$\n",
    "- Number of steps: 2-4\n",
    "- Separation: $k^{\\frac{1}{4}}$"
   ]
  },
  {
   "cell_type": "code",
   "execution_count": 4,
   "id": "80574dba-bef5-4052-af9c-9766c6997436",
   "metadata": {
    "jupyter": {
     "source_hidden": true
    },
    "tags": []
   },
   "outputs": [
    {
     "data": {
      "text/html": [
       "<div>\n",
       "<style scoped>\n",
       "    .dataframe tbody tr th:only-of-type {\n",
       "        vertical-align: middle;\n",
       "    }\n",
       "\n",
       "    .dataframe tbody tr th {\n",
       "        vertical-align: top;\n",
       "    }\n",
       "\n",
       "    .dataframe thead tr th {\n",
       "        text-align: left;\n",
       "    }\n",
       "\n",
       "    .dataframe thead tr:last-of-type th {\n",
       "        text-align: right;\n",
       "    }\n",
       "</style>\n",
       "<table border=\"1\" class=\"dataframe\">\n",
       "  <thead>\n",
       "    <tr>\n",
       "      <th></th>\n",
       "      <th colspan=\"5\" halign=\"left\">accuracy_score</th>\n",
       "    </tr>\n",
       "    <tr>\n",
       "      <th>n_dim</th>\n",
       "      <th>10</th>\n",
       "      <th>50</th>\n",
       "      <th>100</th>\n",
       "      <th>200</th>\n",
       "      <th>300</th>\n",
       "    </tr>\n",
       "    <tr>\n",
       "      <th>n_steps</th>\n",
       "      <th></th>\n",
       "      <th></th>\n",
       "      <th></th>\n",
       "      <th></th>\n",
       "      <th></th>\n",
       "    </tr>\n",
       "  </thead>\n",
       "  <tbody>\n",
       "    <tr>\n",
       "      <th>2</th>\n",
       "      <td>0.368000</td>\n",
       "      <td>0.131579</td>\n",
       "      <td>0.090125</td>\n",
       "      <td>0.058353</td>\n",
       "      <td>0.047613</td>\n",
       "    </tr>\n",
       "    <tr>\n",
       "      <th>3</th>\n",
       "      <td>0.366071</td>\n",
       "      <td>0.135659</td>\n",
       "      <td>0.088781</td>\n",
       "      <td>0.057983</td>\n",
       "      <td>0.045547</td>\n",
       "    </tr>\n",
       "    <tr>\n",
       "      <th>4</th>\n",
       "      <td>0.278660</td>\n",
       "      <td>0.135637</td>\n",
       "      <td>0.086446</td>\n",
       "      <td>0.056688</td>\n",
       "      <td>0.046058</td>\n",
       "    </tr>\n",
       "  </tbody>\n",
       "</table>\n",
       "</div>"
      ],
      "text/plain": [
       "        accuracy_score                                        \n",
       "n_dim              10        50        100       200       300\n",
       "n_steps                                                       \n",
       "2             0.368000  0.131579  0.090125  0.058353  0.047613\n",
       "3             0.366071  0.135659  0.088781  0.057983  0.045547\n",
       "4             0.278660  0.135637  0.086446  0.056688  0.046058"
      ]
     },
     "execution_count": 4,
     "metadata": {},
     "output_type": "execute_result"
    },
    {
     "data": {
      "image/png": "[encoded data removed]",
      "text/plain": [
       "<Figure size 720x432 with 1 Axes>"
      ]
     },
     "metadata": {},
     "output_type": "display_data"
    }
   ],
   "source": [
    "filter1 = df_data.experiment_name == \"no_bias_few_steps_02\"\n",
    "df_ff = df_data[(filter1)].copy()\n",
    "\n",
    "df_data_filtered = df_ff.sort_values([\"min_distance\", \"n_dim\", \"bias_factor\", \"n_steps\"])\n",
    "\n",
    "with sns.plotting_context(\"notebook\", font_scale=1.4):\n",
    "    fig, ax = plt.subplots(figsize=(10, 6))\n",
    "    sns.barplot(\n",
    "        x=\"n_dim\",y=\"accuracy_score\", hue=\"n_steps\",\n",
    "        data=df_data_filtered,palette=\"Blues\", ax=ax\n",
    "    )\n",
    "    ax.yaxis.grid(True)\n",
    "    ax.yaxis.set_minor_locator(ticker.LinearLocator(numticks=10))\n",
    "    ax.tick_params(which=\"both\", bottom=True)\n",
    "    ax.set_ylabel(\"Accuracy\")\n",
    "    ax.set_xlabel(\"Number of dimensions/components $d=k$\")\n",
    "    ax.set_title(\"Impact of number of steps on separation: $k^{\\\\frac{1}{4}} $\");\n",
    "    # ax.set_ylim([0, 1])\n",
    "\n",
    "df_grouped = df_ff.groupby([\"n_dim\", \"n_steps\"])[[\"accuracy_score\"]].mean().reset_index()\n",
    "df_grouped.pivot(index=[\"n_steps\"], columns=[\"n_dim\"], values=[\"accuracy_score\"])"
   ]
  },
  {
   "cell_type": "markdown",
   "id": "6568a09c-ec7b-4c37-adae-cdf228b30e5e",
   "metadata": {
    "tags": []
   },
   "source": [
    "### Impact of few steps on separation $ (\\log_{10}{k}) k^{\\frac{1}{4}} $"
   ]
  },
  {
   "cell_type": "markdown",
   "id": "a3f69cc8-e10c-4871-bdfa-0231234cb7f2",
   "metadata": {},
   "source": [
    "Experiment parameters:\n",
    "- $\\beta = 1$\n",
    "- Number of steps: 2-4\n",
    "- Separation: $(\\log_{10}{k}) k^{\\frac{1}{4}}$"
   ]
  },
  {
   "cell_type": "code",
   "execution_count": 5,
   "id": "266f0ce6-b6e6-42dc-a4d0-4ca320a13693",
   "metadata": {
    "jupyter": {
     "source_hidden": true
    },
    "tags": []
   },
   "outputs": [
    {
     "data": {
      "text/html": [
       "<div>\n",
       "<style scoped>\n",
       "    .dataframe tbody tr th:only-of-type {\n",
       "        vertical-align: middle;\n",
       "    }\n",
       "\n",
       "    .dataframe tbody tr th {\n",
       "        vertical-align: top;\n",
       "    }\n",
       "\n",
       "    .dataframe thead tr th {\n",
       "        text-align: left;\n",
       "    }\n",
       "\n",
       "    .dataframe thead tr:last-of-type th {\n",
       "        text-align: right;\n",
       "    }\n",
       "</style>\n",
       "<table border=\"1\" class=\"dataframe\">\n",
       "  <thead>\n",
       "    <tr>\n",
       "      <th></th>\n",
       "      <th colspan=\"5\" halign=\"left\">accuracy_score</th>\n",
       "    </tr>\n",
       "    <tr>\n",
       "      <th>n_dim</th>\n",
       "      <th>10</th>\n",
       "      <th>50</th>\n",
       "      <th>100</th>\n",
       "      <th>200</th>\n",
       "      <th>300</th>\n",
       "    </tr>\n",
       "    <tr>\n",
       "      <th>n_steps</th>\n",
       "      <th></th>\n",
       "      <th></th>\n",
       "      <th></th>\n",
       "      <th></th>\n",
       "      <th></th>\n",
       "    </tr>\n",
       "  </thead>\n",
       "  <tbody>\n",
       "    <tr>\n",
       "      <th>2</th>\n",
       "      <td>0.436272</td>\n",
       "      <td>0.925288</td>\n",
       "      <td>0.955092</td>\n",
       "      <td>0.906300</td>\n",
       "      <td>0.804160</td>\n",
       "    </tr>\n",
       "    <tr>\n",
       "      <th>3</th>\n",
       "      <td>0.393686</td>\n",
       "      <td>0.868244</td>\n",
       "      <td>0.965221</td>\n",
       "      <td>0.922221</td>\n",
       "      <td>0.891490</td>\n",
       "    </tr>\n",
       "    <tr>\n",
       "      <th>4</th>\n",
       "      <td>0.358027</td>\n",
       "      <td>0.756350</td>\n",
       "      <td>0.935129</td>\n",
       "      <td>0.950316</td>\n",
       "      <td>0.920219</td>\n",
       "    </tr>\n",
       "  </tbody>\n",
       "</table>\n",
       "</div>"
      ],
      "text/plain": [
       "        accuracy_score                                        \n",
       "n_dim              10        50        100       200       300\n",
       "n_steps                                                       \n",
       "2             0.436272  0.925288  0.955092  0.906300  0.804160\n",
       "3             0.393686  0.868244  0.965221  0.922221  0.891490\n",
       "4             0.358027  0.756350  0.935129  0.950316  0.920219"
      ]
     },
     "execution_count": 5,
     "metadata": {},
     "output_type": "execute_result"
    },
    {
     "data": {
      "image/png": "[encoded data removed]",
      "text/plain": [
       "<Figure size 720x432 with 1 Axes>"
      ]
     },
     "metadata": {},
     "output_type": "display_data"
    }
   ],
   "source": [
    "filter1 = df_data.experiment_name == \"no_bias_few_steps_03\"\n",
    "df_ff = df_data[(filter1)].copy()\n",
    "\n",
    "df_data_filtered = df_ff.sort_values([\"min_distance\", \"n_dim\", \"bias_factor\", \"n_steps\"])\n",
    "\n",
    "with sns.plotting_context(\"notebook\", font_scale=1.4):\n",
    "    fig, ax = plt.subplots(figsize=(10, 6))\n",
    "    sns.barplot(\n",
    "        x=\"n_dim\",y=\"accuracy_score\", hue=\"n_steps\",\n",
    "        data=df_data_filtered,palette=\"Blues\", ax=ax\n",
    "    )\n",
    "    ax.yaxis.grid(True)\n",
    "    ax.yaxis.set_minor_locator(ticker.LinearLocator(numticks=10))\n",
    "    ax.tick_params(which=\"both\", bottom=True)\n",
    "    ax.set_ylabel(\"Accuracy\")\n",
    "    ax.set_xlabel(\"Number of dimensions/components $d=k$\")\n",
    "    ax.set_title(\"Impact of number of steps on separation: $(\\log_{10}{k}) k^{\\\\frac{1}{4}} $\");\n",
    "    # ax.set_ylim([0, 1])\n",
    "\n",
    "df_grouped = df_ff.groupby([\"n_dim\", \"n_steps\"])[[\"accuracy_score\"]].mean().reset_index()\n",
    "df_grouped.pivot(index=[\"n_steps\"], columns=[\"n_dim\"], values=[\"accuracy_score\"])"
   ]
  },
  {
   "cell_type": "markdown",
   "id": "db4c2c3c-afa7-4cf6-a502-d2c6b18e791a",
   "metadata": {
    "tags": []
   },
   "source": [
    "### Impact of few steps on separation $ (\\ln{k}) k^{\\frac{1}{4}} $"
   ]
  },
  {
   "cell_type": "markdown",
   "id": "64ddfa2c-7005-497e-9795-cba242f33ec9",
   "metadata": {},
   "source": [
    "Experiment parameters:\n",
    "- $\\beta = 1$\n",
    "- Number of steps: 2-4\n",
    "- Separation: $(\\ln{k}) k^{\\frac{1}{4}}$"
   ]
  },
  {
   "cell_type": "code",
   "execution_count": 6,
   "id": "0ae838a3-6ea1-48d3-87eb-0efcd4297a46",
   "metadata": {
    "jupyter": {
     "source_hidden": true
    },
    "tags": []
   },
   "outputs": [
    {
     "data": {
      "text/html": [
       "<div>\n",
       "<style scoped>\n",
       "    .dataframe tbody tr th:only-of-type {\n",
       "        vertical-align: middle;\n",
       "    }\n",
       "\n",
       "    .dataframe tbody tr th {\n",
       "        vertical-align: top;\n",
       "    }\n",
       "\n",
       "    .dataframe thead tr th {\n",
       "        text-align: left;\n",
       "    }\n",
       "\n",
       "    .dataframe thead tr:last-of-type th {\n",
       "        text-align: right;\n",
       "    }\n",
       "</style>\n",
       "<table border=\"1\" class=\"dataframe\">\n",
       "  <thead>\n",
       "    <tr>\n",
       "      <th></th>\n",
       "      <th colspan=\"5\" halign=\"left\">accuracy_score</th>\n",
       "    </tr>\n",
       "    <tr>\n",
       "      <th>n_dim</th>\n",
       "      <th>10</th>\n",
       "      <th>50</th>\n",
       "      <th>100</th>\n",
       "      <th>200</th>\n",
       "      <th>300</th>\n",
       "    </tr>\n",
       "    <tr>\n",
       "      <th>n_steps</th>\n",
       "      <th></th>\n",
       "      <th></th>\n",
       "      <th></th>\n",
       "      <th></th>\n",
       "      <th></th>\n",
       "    </tr>\n",
       "  </thead>\n",
       "  <tbody>\n",
       "    <tr>\n",
       "      <th>2</th>\n",
       "      <td>0.988667</td>\n",
       "      <td>1.0</td>\n",
       "      <td>1.0</td>\n",
       "      <td>1.0</td>\n",
       "      <td>1.0</td>\n",
       "    </tr>\n",
       "    <tr>\n",
       "      <th>3</th>\n",
       "      <td>0.981333</td>\n",
       "      <td>1.0</td>\n",
       "      <td>1.0</td>\n",
       "      <td>1.0</td>\n",
       "      <td>1.0</td>\n",
       "    </tr>\n",
       "    <tr>\n",
       "      <th>4</th>\n",
       "      <td>0.970667</td>\n",
       "      <td>1.0</td>\n",
       "      <td>1.0</td>\n",
       "      <td>1.0</td>\n",
       "      <td>1.0</td>\n",
       "    </tr>\n",
       "  </tbody>\n",
       "</table>\n",
       "</div>"
      ],
      "text/plain": [
       "        accuracy_score                    \n",
       "n_dim              10   50   100  200  300\n",
       "n_steps                                   \n",
       "2             0.988667  1.0  1.0  1.0  1.0\n",
       "3             0.981333  1.0  1.0  1.0  1.0\n",
       "4             0.970667  1.0  1.0  1.0  1.0"
      ]
     },
     "execution_count": 6,
     "metadata": {},
     "output_type": "execute_result"
    },
    {
     "data": {
      "image/png": "[encoded data removed]",
      "text/plain": [
       "<Figure size 720x432 with 1 Axes>"
      ]
     },
     "metadata": {},
     "output_type": "display_data"
    }
   ],
   "source": [
    "filter1 = df_data.experiment_name == \"no_bias_few_steps_01\"\n",
    "df_ff = df_data[(filter1)].copy()\n",
    "\n",
    "df_data_filtered = df_ff.sort_values([\"min_distance\", \"n_dim\", \"bias_factor\", \"n_steps\"])\n",
    "\n",
    "with sns.plotting_context(\"notebook\", font_scale=1.4):\n",
    "    fig, ax = plt.subplots(figsize=(10, 6))\n",
    "    sns.barplot(\n",
    "        x=\"n_dim\",y=\"accuracy_score\", hue=\"n_steps\",\n",
    "        data=df_data_filtered,palette=\"Blues\", ax=ax\n",
    "    )\n",
    "    ax.yaxis.grid(True)\n",
    "    ax.yaxis.set_minor_locator(ticker.LinearLocator(numticks=10))\n",
    "    ax.tick_params(which=\"both\", bottom=True)\n",
    "    ax.set_ylabel(\"Accuracy\")\n",
    "    ax.set_xlabel(\"Number of dimensions/components $d=k$\")\n",
    "    ax.set_title(\"Impact of number of steps on separation: $(\\ln{k}) k^{\\\\frac{1}{4}} $\");\n",
    "    # ax.set_ylim([0, 1])\n",
    "\n",
    "df_grouped = df_ff.groupby([\"n_dim\", \"n_steps\"])[[\"accuracy_score\"]].mean().reset_index()\n",
    "df_grouped.pivot(index=[\"n_steps\"], columns=[\"n_dim\"], values=[\"accuracy_score\"])"
   ]
  },
  {
   "cell_type": "markdown",
   "id": "6727a65c-b6bb-4f21-9388-540af196e692",
   "metadata": {},
   "source": [
    "Experiment parameters:\n",
    "- $\\beta = 1$\n",
    "- Separation: $3 k^{\\frac{1}{4}} $"
   ]
  },
  {
   "cell_type": "code",
   "execution_count": 7,
   "id": "401b9032-f843-40cd-ae71-a4b7b237dd0d",
   "metadata": {
    "jupyter": {
     "source_hidden": true
    },
    "tags": []
   },
   "outputs": [
    {
     "data": {
      "text/html": [
       "<div>\n",
       "<style scoped>\n",
       "    .dataframe tbody tr th:only-of-type {\n",
       "        vertical-align: middle;\n",
       "    }\n",
       "\n",
       "    .dataframe tbody tr th {\n",
       "        vertical-align: top;\n",
       "    }\n",
       "\n",
       "    .dataframe thead tr th {\n",
       "        text-align: left;\n",
       "    }\n",
       "\n",
       "    .dataframe thead tr:last-of-type th {\n",
       "        text-align: right;\n",
       "    }\n",
       "</style>\n",
       "<table border=\"1\" class=\"dataframe\">\n",
       "  <thead>\n",
       "    <tr>\n",
       "      <th>n_steps</th>\n",
       "    </tr>\n",
       "  </thead>\n",
       "  <tbody>\n",
       "  </tbody>\n",
       "</table>\n",
       "</div>"
      ],
      "text/plain": [
       "Empty DataFrame\n",
       "Columns: []\n",
       "Index: []"
      ]
     },
     "execution_count": 7,
     "metadata": {},
     "output_type": "execute_result"
    }
   ],
   "source": [
    "filter_no_bias_02 = df_data.experiment_name == \"no_bias_02\"\n",
    "df_ff = df_data[(filter_no_bias_02)].copy()\n",
    "\n",
    "df_grouped = df_ff.groupby([\"n_dim\", \"n_steps\"])[[\"accuracy_score\"]].mean().reset_index()\n",
    "df_grouped.pivot(index=[\"n_steps\"], columns=[\"n_dim\"], values=[\"accuracy_score\"])"
   ]
  },
  {
   "cell_type": "code",
   "execution_count": 8,
   "id": "aaad036d-479d-4682-afd1-816bd3a7abe7",
   "metadata": {
    "jupyter": {
     "source_hidden": true
    },
    "tags": []
   },
   "outputs": [
    {
     "ename": "ValueError",
     "evalue": "min() arg is an empty sequence",
     "output_type": "error",
     "traceback": [
      "\u001b[0;31m---------------------------------------------------------------------------\u001b[0m",
      "\u001b[0;31mValueError\u001b[0m                                Traceback (most recent call last)",
      "Input \u001b[0;32mIn [8]\u001b[0m, in \u001b[0;36m<cell line: 4>\u001b[0;34m()\u001b[0m\n\u001b[1;32m      4\u001b[0m \u001b[38;5;28;01mwith\u001b[39;00m sns\u001b[38;5;241m.\u001b[39mplotting_context(\u001b[38;5;124m\"\u001b[39m\u001b[38;5;124mnotebook\u001b[39m\u001b[38;5;124m\"\u001b[39m, font_scale\u001b[38;5;241m=\u001b[39m\u001b[38;5;241m1.4\u001b[39m):\n\u001b[1;32m      5\u001b[0m     fig, ax \u001b[38;5;241m=\u001b[39m plt\u001b[38;5;241m.\u001b[39msubplots(figsize\u001b[38;5;241m=\u001b[39m(\u001b[38;5;241m10\u001b[39m, \u001b[38;5;241m6\u001b[39m))\n\u001b[0;32m----> 6\u001b[0m     \u001b[43msns\u001b[49m\u001b[38;5;241;43m.\u001b[39;49m\u001b[43mbarplot\u001b[49m\u001b[43m(\u001b[49m\n\u001b[1;32m      7\u001b[0m \u001b[43m        \u001b[49m\u001b[43mx\u001b[49m\u001b[38;5;241;43m=\u001b[39;49m\u001b[38;5;124;43m\"\u001b[39;49m\u001b[38;5;124;43mn_dim\u001b[39;49m\u001b[38;5;124;43m\"\u001b[39;49m\u001b[43m,\u001b[49m\u001b[43my\u001b[49m\u001b[38;5;241;43m=\u001b[39;49m\u001b[38;5;124;43m\"\u001b[39;49m\u001b[38;5;124;43maccuracy_score\u001b[39;49m\u001b[38;5;124;43m\"\u001b[39;49m\u001b[43m,\u001b[49m\u001b[43m \u001b[49m\u001b[43mhue\u001b[49m\u001b[38;5;241;43m=\u001b[39;49m\u001b[38;5;124;43m\"\u001b[39;49m\u001b[38;5;124;43mn_steps\u001b[39;49m\u001b[38;5;124;43m\"\u001b[39;49m\u001b[43m,\u001b[49m\n\u001b[1;32m      8\u001b[0m \u001b[43m        \u001b[49m\u001b[43mdata\u001b[49m\u001b[38;5;241;43m=\u001b[39;49m\u001b[43mdf_data_filtered\u001b[49m\u001b[43m,\u001b[49m\u001b[43mpalette\u001b[49m\u001b[38;5;241;43m=\u001b[39;49m\u001b[38;5;124;43m\"\u001b[39;49m\u001b[38;5;124;43mBlues\u001b[39;49m\u001b[38;5;124;43m\"\u001b[39;49m\u001b[43m,\u001b[49m\u001b[43m \u001b[49m\u001b[43max\u001b[49m\u001b[38;5;241;43m=\u001b[39;49m\u001b[43max\u001b[49m\n\u001b[1;32m      9\u001b[0m \u001b[43m    \u001b[49m\u001b[43m)\u001b[49m\n\u001b[1;32m     10\u001b[0m     ax\u001b[38;5;241m.\u001b[39myaxis\u001b[38;5;241m.\u001b[39mgrid(\u001b[38;5;28;01mTrue\u001b[39;00m)\n\u001b[1;32m     11\u001b[0m     ax\u001b[38;5;241m.\u001b[39myaxis\u001b[38;5;241m.\u001b[39mset_minor_locator(ticker\u001b[38;5;241m.\u001b[39mLinearLocator(numticks\u001b[38;5;241m=\u001b[39m\u001b[38;5;241m10\u001b[39m))\n",
      "File \u001b[0;32m~/.cache/pypoetry/virtualenvs/mixture-learning-kIchL7cu-py3.8/lib/python3.8/site-packages/seaborn/_decorators.py:46\u001b[0m, in \u001b[0;36m_deprecate_positional_args.<locals>.inner_f\u001b[0;34m(*args, **kwargs)\u001b[0m\n\u001b[1;32m     36\u001b[0m     warnings\u001b[38;5;241m.\u001b[39mwarn(\n\u001b[1;32m     37\u001b[0m         \u001b[38;5;124m\"\u001b[39m\u001b[38;5;124mPass the following variable\u001b[39m\u001b[38;5;132;01m{}\u001b[39;00m\u001b[38;5;124m as \u001b[39m\u001b[38;5;132;01m{}\u001b[39;00m\u001b[38;5;124mkeyword arg\u001b[39m\u001b[38;5;132;01m{}\u001b[39;00m\u001b[38;5;124m: \u001b[39m\u001b[38;5;132;01m{}\u001b[39;00m\u001b[38;5;124m. \u001b[39m\u001b[38;5;124m\"\u001b[39m\n\u001b[1;32m     38\u001b[0m         \u001b[38;5;124m\"\u001b[39m\u001b[38;5;124mFrom version 0.12, the only valid positional argument \u001b[39m\u001b[38;5;124m\"\u001b[39m\n\u001b[0;32m   (...)\u001b[0m\n\u001b[1;32m     43\u001b[0m         \u001b[38;5;167;01mFutureWarning\u001b[39;00m\n\u001b[1;32m     44\u001b[0m     )\n\u001b[1;32m     45\u001b[0m kwargs\u001b[38;5;241m.\u001b[39mupdate({k: arg \u001b[38;5;28;01mfor\u001b[39;00m k, arg \u001b[38;5;129;01min\u001b[39;00m \u001b[38;5;28mzip\u001b[39m(sig\u001b[38;5;241m.\u001b[39mparameters, args)})\n\u001b[0;32m---> 46\u001b[0m \u001b[38;5;28;01mreturn\u001b[39;00m \u001b[43mf\u001b[49m\u001b[43m(\u001b[49m\u001b[38;5;241;43m*\u001b[39;49m\u001b[38;5;241;43m*\u001b[39;49m\u001b[43mkwargs\u001b[49m\u001b[43m)\u001b[49m\n",
      "File \u001b[0;32m~/.cache/pypoetry/virtualenvs/mixture-learning-kIchL7cu-py3.8/lib/python3.8/site-packages/seaborn/categorical.py:3182\u001b[0m, in \u001b[0;36mbarplot\u001b[0;34m(x, y, hue, data, order, hue_order, estimator, ci, n_boot, units, seed, orient, color, palette, saturation, errcolor, errwidth, capsize, dodge, ax, **kwargs)\u001b[0m\n\u001b[1;32m   3169\u001b[0m \u001b[38;5;129m@_deprecate_positional_args\u001b[39m\n\u001b[1;32m   3170\u001b[0m \u001b[38;5;28;01mdef\u001b[39;00m \u001b[38;5;21mbarplot\u001b[39m(\n\u001b[1;32m   3171\u001b[0m     \u001b[38;5;241m*\u001b[39m,\n\u001b[0;32m   (...)\u001b[0m\n\u001b[1;32m   3179\u001b[0m     \u001b[38;5;241m*\u001b[39m\u001b[38;5;241m*\u001b[39mkwargs,\n\u001b[1;32m   3180\u001b[0m ):\n\u001b[0;32m-> 3182\u001b[0m     plotter \u001b[38;5;241m=\u001b[39m \u001b[43m_BarPlotter\u001b[49m\u001b[43m(\u001b[49m\u001b[43mx\u001b[49m\u001b[43m,\u001b[49m\u001b[43m \u001b[49m\u001b[43my\u001b[49m\u001b[43m,\u001b[49m\u001b[43m \u001b[49m\u001b[43mhue\u001b[49m\u001b[43m,\u001b[49m\u001b[43m \u001b[49m\u001b[43mdata\u001b[49m\u001b[43m,\u001b[49m\u001b[43m \u001b[49m\u001b[43morder\u001b[49m\u001b[43m,\u001b[49m\u001b[43m \u001b[49m\u001b[43mhue_order\u001b[49m\u001b[43m,\u001b[49m\n\u001b[1;32m   3183\u001b[0m \u001b[43m                          \u001b[49m\u001b[43mestimator\u001b[49m\u001b[43m,\u001b[49m\u001b[43m \u001b[49m\u001b[43mci\u001b[49m\u001b[43m,\u001b[49m\u001b[43m \u001b[49m\u001b[43mn_boot\u001b[49m\u001b[43m,\u001b[49m\u001b[43m \u001b[49m\u001b[43munits\u001b[49m\u001b[43m,\u001b[49m\u001b[43m \u001b[49m\u001b[43mseed\u001b[49m\u001b[43m,\u001b[49m\n\u001b[1;32m   3184\u001b[0m \u001b[43m                          \u001b[49m\u001b[43morient\u001b[49m\u001b[43m,\u001b[49m\u001b[43m \u001b[49m\u001b[43mcolor\u001b[49m\u001b[43m,\u001b[49m\u001b[43m \u001b[49m\u001b[43mpalette\u001b[49m\u001b[43m,\u001b[49m\u001b[43m \u001b[49m\u001b[43msaturation\u001b[49m\u001b[43m,\u001b[49m\n\u001b[1;32m   3185\u001b[0m \u001b[43m                          \u001b[49m\u001b[43merrcolor\u001b[49m\u001b[43m,\u001b[49m\u001b[43m \u001b[49m\u001b[43merrwidth\u001b[49m\u001b[43m,\u001b[49m\u001b[43m \u001b[49m\u001b[43mcapsize\u001b[49m\u001b[43m,\u001b[49m\u001b[43m \u001b[49m\u001b[43mdodge\u001b[49m\u001b[43m)\u001b[49m\n\u001b[1;32m   3187\u001b[0m     \u001b[38;5;28;01mif\u001b[39;00m ax \u001b[38;5;129;01mis\u001b[39;00m \u001b[38;5;28;01mNone\u001b[39;00m:\n\u001b[1;32m   3188\u001b[0m         ax \u001b[38;5;241m=\u001b[39m plt\u001b[38;5;241m.\u001b[39mgca()\n",
      "File \u001b[0;32m~/.cache/pypoetry/virtualenvs/mixture-learning-kIchL7cu-py3.8/lib/python3.8/site-packages/seaborn/categorical.py:1586\u001b[0m, in \u001b[0;36m_BarPlotter.__init__\u001b[0;34m(self, x, y, hue, data, order, hue_order, estimator, ci, n_boot, units, seed, orient, color, palette, saturation, errcolor, errwidth, capsize, dodge)\u001b[0m\n\u001b[1;32m   1583\u001b[0m \u001b[38;5;124;03m\"\"\"Initialize the plotter.\"\"\"\u001b[39;00m\n\u001b[1;32m   1584\u001b[0m \u001b[38;5;28mself\u001b[39m\u001b[38;5;241m.\u001b[39mestablish_variables(x, y, hue, data, orient,\n\u001b[1;32m   1585\u001b[0m                          order, hue_order, units)\n\u001b[0;32m-> 1586\u001b[0m \u001b[38;5;28;43mself\u001b[39;49m\u001b[38;5;241;43m.\u001b[39;49m\u001b[43mestablish_colors\u001b[49m\u001b[43m(\u001b[49m\u001b[43mcolor\u001b[49m\u001b[43m,\u001b[49m\u001b[43m \u001b[49m\u001b[43mpalette\u001b[49m\u001b[43m,\u001b[49m\u001b[43m \u001b[49m\u001b[43msaturation\u001b[49m\u001b[43m)\u001b[49m\n\u001b[1;32m   1587\u001b[0m \u001b[38;5;28mself\u001b[39m\u001b[38;5;241m.\u001b[39mestimate_statistic(estimator, ci, n_boot, seed)\n\u001b[1;32m   1589\u001b[0m \u001b[38;5;28mself\u001b[39m\u001b[38;5;241m.\u001b[39mdodge \u001b[38;5;241m=\u001b[39m dodge\n",
      "File \u001b[0;32m~/.cache/pypoetry/virtualenvs/mixture-learning-kIchL7cu-py3.8/lib/python3.8/site-packages/seaborn/categorical.py:319\u001b[0m, in \u001b[0;36m_CategoricalPlotter.establish_colors\u001b[0;34m(self, color, palette, saturation)\u001b[0m\n\u001b[1;32m    317\u001b[0m \u001b[38;5;66;03m# Determine the gray color to use for the lines framing the plot\u001b[39;00m\n\u001b[1;32m    318\u001b[0m light_vals \u001b[38;5;241m=\u001b[39m [colorsys\u001b[38;5;241m.\u001b[39mrgb_to_hls(\u001b[38;5;241m*\u001b[39mc)[\u001b[38;5;241m1\u001b[39m] \u001b[38;5;28;01mfor\u001b[39;00m c \u001b[38;5;129;01min\u001b[39;00m rgb_colors]\n\u001b[0;32m--> 319\u001b[0m lum \u001b[38;5;241m=\u001b[39m \u001b[38;5;28;43mmin\u001b[39;49m\u001b[43m(\u001b[49m\u001b[43mlight_vals\u001b[49m\u001b[43m)\u001b[49m \u001b[38;5;241m*\u001b[39m \u001b[38;5;241m.6\u001b[39m\n\u001b[1;32m    320\u001b[0m gray \u001b[38;5;241m=\u001b[39m mpl\u001b[38;5;241m.\u001b[39mcolors\u001b[38;5;241m.\u001b[39mrgb2hex((lum, lum, lum))\n\u001b[1;32m    322\u001b[0m \u001b[38;5;66;03m# Assign object attributes\u001b[39;00m\n",
      "\u001b[0;31mValueError\u001b[0m: min() arg is an empty sequence"
     ]
    },
    {
     "data": {
      "image/png": "[encoded data removed]",
      "text/plain": [
       "<Figure size 720x432 with 1 Axes>"
      ]
     },
     "metadata": {},
     "output_type": "display_data"
    }
   ],
   "source": [
    "df_data_filtered = df_data[filter_no_bias_02].copy()\n",
    "df_data_filtered = df_data_filtered.sort_values([\"min_distance\", \"n_dim\", \"bias_factor\", \"n_steps\"])\n",
    "\n",
    "with sns.plotting_context(\"notebook\", font_scale=1.4):\n",
    "    fig, ax = plt.subplots(figsize=(10, 6))\n",
    "    sns.barplot(\n",
    "        x=\"n_dim\",y=\"accuracy_score\", hue=\"n_steps\",\n",
    "        data=df_data_filtered,palette=\"Blues\", ax=ax\n",
    "    )\n",
    "    ax.yaxis.grid(True)\n",
    "    ax.yaxis.set_minor_locator(ticker.LinearLocator(numticks=10))\n",
    "    ax.tick_params(which=\"both\", bottom=True)\n",
    "    ax.set_ylabel(\"Accuracy\")\n",
    "    ax.set_xlabel(\"Number of dimensions/components $d=k$\")\n",
    "    ax.set_title(\"Impact of number of steps on separation $3k^{\\\\frac{1}{4}}$\");\n",
    "    # ax.set_ylim([0, 1])"
   ]
  },
  {
   "cell_type": "markdown",
   "id": "b69450f2-9006-47b7-b4f6-5cda012779bf",
   "metadata": {},
   "source": [
    "Experiment parameters:\n",
    "- $\\beta = 1$\n",
    "- Separation: $5 k^{\\frac{1}{4}} $"
   ]
  },
  {
   "cell_type": "code",
   "execution_count": null,
   "id": "a7ff8f3b-5e67-4c37-bdde-c43916a02d8a",
   "metadata": {
    "jupyter": {
     "source_hidden": true
    },
    "tags": []
   },
   "outputs": [],
   "source": [
    "filter_no_bias_03 = df_data.experiment_name == \"no_bias_03\"\n",
    "df_ff = df_data[(filter_no_bias_03)].copy()\n",
    "\n",
    "df_grouped = df_ff.groupby([\"n_dim\", \"n_steps\"])[[\"accuracy_score\"]].mean().reset_index()\n",
    "df_grouped.pivot(index=[\"n_steps\"], columns=[\"n_dim\"], values=[\"accuracy_score\"])"
   ]
  },
  {
   "cell_type": "code",
   "execution_count": null,
   "id": "a19669f0-49e3-455b-817b-028e36a6f263",
   "metadata": {
    "jupyter": {
     "source_hidden": true
    },
    "tags": []
   },
   "outputs": [],
   "source": [
    "df_data_filtered = df_data[filter_no_bias_03].copy()\n",
    "df_data_filtered = df_data_filtered.sort_values([\"min_distance\", \"n_dim\", \"bias_factor\", \"n_steps\"])\n",
    "\n",
    "with sns.plotting_context(\"notebook\", font_scale=1.4):\n",
    "    fig, ax = plt.subplots(figsize=(10, 6))\n",
    "    sns.barplot(\n",
    "        x=\"n_dim\",y=\"accuracy_score\", hue=\"n_steps\",\n",
    "        data=df_data_filtered,palette=\"Blues\", ax=ax\n",
    "    )\n",
    "    ax.yaxis.grid(True)\n",
    "    ax.yaxis.set_minor_locator(ticker.LinearLocator(numticks=10))\n",
    "    ax.tick_params(which=\"both\", bottom=True)\n",
    "    ax.set_ylabel(\"Accuracy\")\n",
    "    ax.set_xlabel(\"Number of dimensions/components $d=k$\")\n",
    "    ax.set_title(\"Impact of number of steps on separation $5 k^{\\\\frac{1}{4}}$\");\n",
    "    # ax.set_ylim([0, 1])"
   ]
  }
 ],
 "metadata": {
  "kernelspec": {
   "display_name": "Python 3 (ipykernel)",
   "language": "python",
   "name": "python3"
  },
  "language_info": {
   "codemirror_mode": {
    "name": "ipython",
    "version": 3
   },
   "file_extension": ".py",
   "mimetype": "text/x-python",
   "name": "python",
   "nbconvert_exporter": "python",
   "pygments_lexer": "ipython3",
   "version": "3.8.10"
  }
 },
 "nbformat": 4,
 "nbformat_minor": 5
}
